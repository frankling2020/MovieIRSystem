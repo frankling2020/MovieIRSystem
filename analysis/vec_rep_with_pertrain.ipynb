{
 "cells": [
  {
   "cell_type": "code",
   "execution_count": null,
   "metadata": {},
   "outputs": [],
   "source": [
    "from nltk.tokenize import RegexpTokenizer\n",
    "import torch\n",
    "from transformers import T5Tokenizer, T5ForConditionalGeneration\n",
    "import gzip\n",
    "from collections import defaultdict\n",
    "import json\n",
    "import pandas as pd\n",
    "import numpy as np\n",
    "from tqdm import tqdm\n",
    "# from transformers import AutoTokenizer, AutoModel\n",
    "from sentence_transformers import util, SentenceTransformer"
   ]
  },
  {
   "cell_type": "code",
   "execution_count": null,
   "metadata": {},
   "outputs": [],
   "source": [
    "# Basic file paths\n",
    "ANNOTATIONS_FILE = './data/annotated_data.csv'\n",
    "MOVIE_DESC_PATH = './data/dataset.csv'\n",
    "MOVIE_METADATA_PATH = './data/movies.csv'\n",
    "# Create genre files\n",
    "ENCODED_GENRE_FILE = './data/encoded_genres.npy'\n",
    "GENRE_ORDER_FILE = './data/genre_order.txt'\n",
    "# Create movie description files\n",
    "ENCODED_MOVIE_DESC_FILE = './data/encoded_movie_desc.npy'\n",
    "MOVIE_ID_TO_GENRE_FILE = './data/movie_id_to_genre.json'\n",
    "MOVIE_ID_ORDER_FILE = './data/movie_id_order.txt'"
   ]
  },
  {
   "cell_type": "markdown",
   "metadata": {},
   "source": [
    "#### Movie Genres"
   ]
  },
  {
   "cell_type": "code",
   "execution_count": null,
   "metadata": {},
   "outputs": [],
   "source": [
    "uniqure_genres = set()\n",
    "movie_metadata_df = pd.read_csv(MOVIE_METADATA_PATH)\n",
    "movie_id_to_genres = defaultdict(list)\n",
    "for i, row in tqdm(movie_metadata_df.iterrows(), total=len(movie_metadata_df)):\n",
    "    movie_id = str(row['movieId'])\n",
    "    genres = row['genres'].split('|')\n",
    "    genres = [genre.lower().strip() for genre in genres]\n",
    "    movie_id_to_genres[movie_id] = genres\n",
    "    uniqure_genres.update(set(genres))\n",
    "\n",
    "print(\"Found {} unique genres\".format(len(uniqure_genres)))"
   ]
  },
  {
   "cell_type": "code",
   "execution_count": null,
   "metadata": {},
   "outputs": [],
   "source": [
    "with open(MOVIE_ID_TO_GENRE_FILE, 'w') as f:\n",
    "    json.dump(movie_id_to_genres, f)"
   ]
  },
  {
   "cell_type": "markdown",
   "metadata": {},
   "source": [
    "**Vector Representaion with Pre-trained Model**"
   ]
  },
  {
   "cell_type": "code",
   "execution_count": null,
   "metadata": {},
   "outputs": [],
   "source": [
    "class VectorFeatExtractor:\n",
    "    def __init__(self, bi_encoder_name, device):\n",
    "        self.device = device\n",
    "        self.model = SentenceTransformer(bi_encoder_name).to(self.device)\n",
    "        self.cache_doc_emb = None\n",
    "        self.cache_docids = None\n",
    "\n",
    "    def generate_doc_emb(self, doc, docids):\n",
    "        self.cache_doc_emb = self.model.encode(doc, batch_size=128, show_progress_bar=True, normalize_embeddings=True)\n",
    "        self.cache_docids = {docid: i for i, docid in enumerate(docids)}\n",
    "        return self.cache_doc_emb\n",
    "\n",
    "    def save_doc_emb(self, doc, docids, doc_emb_path, docid_order_path):\n",
    "        if not isinstance(docids[0], str):\n",
    "            docids = [str(docid) for docid in docids]\n",
    "        doc_emb = self.generate_doc_emb(doc, docids)\n",
    "        np.save(doc_emb_path, doc_emb)\n",
    "        with open(docid_order_path, 'w') as f:\n",
    "            f.write('\\n'.join(docids))\n",
    "    \n",
    "    def fetch_all_embds(self):\n",
    "        try:\n",
    "            return self.cache_doc_emb\n",
    "        except TypeError:\n",
    "            raise ValueError(\"No docids in cache\")\n",
    "    \n",
    "    def fetch_doc_with_id(self, docids):\n",
    "        try:\n",
    "            if not isinstance(docids, list):\n",
    "                docids = [docids]\n",
    "            ids = [self.cache_docids[docid] for docid in docids]\n",
    "            return np.array(self.fetch_all_embds()[ids])\n",
    "        except IndexError:\n",
    "            raise ValueError(\"Invalid docid\")"
   ]
  },
  {
   "cell_type": "markdown",
   "metadata": {},
   "source": [
    "**Genre Vector Representations**"
   ]
  },
  {
   "cell_type": "code",
   "execution_count": null,
   "metadata": {},
   "outputs": [],
   "source": [
    "bi_encoder_name = 'sentence-transformers/msmarco-distilbert-dot-v5'\n",
    "device = torch.device('cuda')\n",
    "genre_vec_extractor = VectorFeatExtractor(bi_encoder_name, device)"
   ]
  },
  {
   "cell_type": "code",
   "execution_count": null,
   "metadata": {},
   "outputs": [],
   "source": [
    "genre_vec_extractor.save_doc_emb(list(uniqure_genres), list(uniqure_genres), ENCODED_GENRE_FILE, GENRE_ORDER_FILE)"
   ]
  },
  {
   "cell_type": "markdown",
   "metadata": {},
   "source": [
    "**Text Vector Representation**"
   ]
  },
  {
   "cell_type": "code",
   "execution_count": null,
   "metadata": {},
   "outputs": [],
   "source": [
    "movie_desc_df = pd.read_csv(MOVIE_DESC_PATH)\n",
    "\n",
    "text_vec_extractor = VectorFeatExtractor(bi_encoder_name, device)\n",
    "movie_desc = movie_desc_df['data'].tolist()\n",
    "movie_ids = movie_desc_df['id'].tolist()\n",
    "text_vec_extractor.save_doc_emb(movie_desc, movie_ids, ENCODED_MOVIE_DESC_FILE, MOVIE_ID_ORDER_FILE)"
   ]
  },
  {
   "cell_type": "markdown",
   "metadata": {},
   "source": [
    "**Query Vector Representation**"
   ]
  },
  {
   "cell_type": "code",
   "execution_count": null,
   "metadata": {},
   "outputs": [],
   "source": [
    "annotated_data_df = pd.read_csv(ANNOTATIONS_FILE)\n",
    "query_to_qid = annotated_data_df[['query', 'qid']].drop_duplicates().set_index('qid').to_dict()['query']"
   ]
  },
  {
   "cell_type": "code",
   "execution_count": null,
   "metadata": {},
   "outputs": [],
   "source": [
    "query_vec_extractor = VectorFeatExtractor(bi_encoder_name, device)\n",
    "query_texts = list(query_to_qid.values())\n",
    "query_ids = list(query_to_qid.keys())\n",
    "\n",
    "query_embs = query_vec_extractor.generate_doc_emb(query_texts, query_ids)"
   ]
  },
  {
   "cell_type": "markdown",
   "metadata": {},
   "source": [
    "**FeatureExtractor**"
   ]
  },
  {
   "cell_type": "code",
   "execution_count": null,
   "metadata": {},
   "outputs": [],
   "source": [
    "class FeatureExtractor:\n",
    "    def __init__(self, text_vec_extractor, genre_vec_extractor, movie_id_to_genres):\n",
    "        self.text_vec_extractor = text_vec_extractor\n",
    "        self.genre_vec_extractor = genre_vec_extractor\n",
    "        self.movie_id_to_genres = movie_id_to_genres\n",
    "        # create a genre mapper for indexing\n",
    "        self.all_doc_genres = set()\n",
    "        for genres in self.movie_id_to_genres.values():\n",
    "            self.all_doc_genres.update(set(genres))\n",
    "        self.genre_to_id = {genre: i for i, genre in enumerate(self.all_doc_genres)}\n",
    "        self.movieId_to_genreId = defaultdict(list)\n",
    "        for movie_id, genres in self.movie_id_to_genres.items():\n",
    "            genre_ids = [self.genre_to_id[genre] for genre in genres]\n",
    "            self.movieId_to_genreId[movie_id] = genre_ids\n",
    "\n",
    "    def get_doc_feat(self, docids):\n",
    "        if not isinstance(docids, list):\n",
    "            docids = [docids]\n",
    "        text_emb = self.text_vec_extractor.fetch_doc_with_id(docids)\n",
    "        genres = [self.movie_id_to_genres.get(docid, []) for docid in docids]\n",
    "        genres = [genre for genre_list in genres for genre in genre_list]\n",
    "        genre_emb = self.genre_vec_extractor.fetch_doc_with_id(list(self.all_doc_genres))\n",
    "        doc_genres = [self.movieId_to_genreId.get(docid, []) for docid in docids]\n",
    "        return text_emb, genre_emb, doc_genres\n"
   ]
  },
  {
   "cell_type": "code",
   "execution_count": null,
   "metadata": {},
   "outputs": [],
   "source": [
    "fe = FeatureExtractor(text_vec_extractor, genre_vec_extractor, movie_id_to_genres)"
   ]
  },
  {
   "cell_type": "markdown",
   "metadata": {},
   "source": [
    "**VectorRanker**"
   ]
  },
  {
   "cell_type": "code",
   "execution_count": null,
   "metadata": {},
   "outputs": [],
   "source": [
    "class VectorRanker:\n",
    "    def __init__(self, fe, query_vec_extractor):\n",
    "        self.query_vec_extractor = query_vec_extractor\n",
    "        self.fe = fe\n",
    "\n",
    "    def doc_emb_score(self, query_emb, doc_embs):\n",
    "        return np.dot(query_emb, doc_embs.T)\n",
    "\n",
    "    def aux_emb_score(self, query_emb, aux_emb):\n",
    "        return np.dot(query_emb, aux_emb.T)\n",
    "    \n",
    "    def agg_genre_score_func(self, genre_query_score):\n",
    "        agg_val = 0\n",
    "        if len(genre_query_score) != 0:\n",
    "            agg_val = np.max(genre_query_score).clip(min=0)\n",
    "        return agg_val\n",
    "\n",
    "    def score(self, query_emb, doc_emb, genre_emb, doc_genres):\n",
    "        doc_query_score = self.doc_emb_score(query_emb, doc_emb).reshape(-1)\n",
    "        genre_query_score = self.aux_emb_score(query_emb, genre_emb).reshape(-1)\n",
    "        print(\"Genre order:\", *sorted(zip( genre_query_score, self.fe.all_doc_genres), reverse=True), sep=\"\\n\")\n",
    "        genre_doc_score = np.zeros(len(doc_emb))\n",
    "        for i, doc_genre in enumerate(doc_genres):\n",
    "            genre_score = [genre_query_score[genre_id] for genre_id in doc_genre]\n",
    "            genre_doc_score[i] = self.agg_genre_score_func(genre_score)\n",
    "        return doc_query_score, genre_doc_score\n",
    "\n",
    "    def query(self, qid, docids=None):\n",
    "        if docids is None:\n",
    "            docids = self.fe.movie_id_to_genres.keys()\n",
    "            docids = [docid for docid in docids]\n",
    "        query_emb = self.query_vec_extractor.fetch_doc_with_id(qid)\n",
    "        doc_emb, genre_emb, doc_genres = self.fe.get_doc_feat(list(docids))\n",
    "        doc_query_score, genre_doc_score = self.score(query_emb, doc_emb, genre_emb, doc_genres)\n",
    "        doc_score = list(zip(docids, doc_query_score, genre_doc_score))\n",
    "        filtered_doc_score = [score for score in doc_score if score[2] > 0.6]\n",
    "        sorted_doc_score = sorted(filtered_doc_score, key=lambda x: (-x[1] * x[2], x[0]))\n",
    "        # docids = [docid for docid, _, _ in sorted_doc_score]\n",
    "        return sorted_doc_score"
   ]
  },
  {
   "cell_type": "markdown",
   "metadata": {},
   "source": [
    "#### Bi-Encoder"
   ]
  },
  {
   "cell_type": "code",
   "execution_count": null,
   "metadata": {},
   "outputs": [],
   "source": [
    "vec_ranker = VectorRanker(fe, query_vec_extractor)"
   ]
  },
  {
   "cell_type": "code",
   "execution_count": null,
   "metadata": {},
   "outputs": [],
   "source": [
    "qid = 26\n",
    "# docids = vec_ranker.query(qid, [\"91500\", \"108190\", \"106002\", \"7022\", \"113378\", \"217903\"])[:20]\n",
    "docids = vec_ranker.query(qid)\n",
    "a = [docid for docid, _, _ in docids]\n",
    "print(\"Query:\", query_to_qid[int(qid)])\n",
    "print(\"91500\", a.index(\"91500\"))\n",
    "for docid, score1, score2 in docids[:50]:\n",
    "    print(docid, score1, score2, movie_metadata_df[movie_metadata_df['movieId'] == int(docid)][['title', 'genres']].values[0])"
   ]
  },
  {
   "cell_type": "markdown",
   "metadata": {},
   "source": [
    "#### Doc2Query"
   ]
  },
  {
   "cell_type": "code",
   "execution_count": null,
   "metadata": {},
   "outputs": [],
   "source": [
    "# TO-DO: it might not be useful, but for movie the genre might be useful"
   ]
  },
  {
   "cell_type": "markdown",
   "metadata": {},
   "source": [
    "#### Movie Genres"
   ]
  },
  {
   "cell_type": "markdown",
   "metadata": {},
   "source": []
  }
 ],
 "metadata": {
  "kernelspec": {
   "display_name": "Python 3 (ipykernel)",
   "language": "python",
   "name": "python3"
  },
  "language_info": {
   "codemirror_mode": {
    "name": "ipython",
    "version": 3
   },
   "file_extension": ".py",
   "mimetype": "text/x-python",
   "name": "python",
   "nbconvert_exporter": "python",
   "pygments_lexer": "ipython3",
   "version": "3.10.9"
  }
 },
 "nbformat": 4,
 "nbformat_minor": 4
}
