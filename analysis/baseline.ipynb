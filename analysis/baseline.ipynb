{
 "cells": [
  {
   "cell_type": "markdown",
   "metadata": {},
   "source": [
    "### SI 650 Project"
   ]
  },
  {
   "cell_type": "code",
   "execution_count": 1,
   "metadata": {},
   "outputs": [
    {
     "name": "stderr",
     "output_type": "stream",
     "text": [
      "/Users/haoyang/miniconda3/envs/si650/lib/python3.11/site-packages/tqdm/auto.py:21: TqdmWarning: IProgress not found. Please update jupyter and ipywidgets. See https://ipywidgets.readthedocs.io/en/stable/user_install.html\n",
      "  from .autonotebook import tqdm as notebook_tqdm\n"
     ]
    }
   ],
   "source": [
    "import pyterrier as pt\n",
    "import pandas as pd\n",
    "import os\n",
    "import json\n",
    "import gzip\n",
    "from tqdm import tqdm\n",
    "import numpy as np\n",
    "import pandas as pd\n",
    "import math"
   ]
  },
  {
   "cell_type": "code",
   "execution_count": 2,
   "metadata": {},
   "outputs": [
    {
     "name": "stderr",
     "output_type": "stream",
     "text": [
      "PyTerrier 0.10.0 has loaded Terrier 5.8 (built by craigm on 2023-11-01 18:05) and terrier-helper 0.0.8\n",
      "\n",
      "No etc/terrier.properties, using terrier.default.properties for bootstrap configuration.\n"
     ]
    }
   ],
   "source": [
    "if not pt.started():\n",
    "    pt.init()"
   ]
  },
  {
   "cell_type": "markdown",
   "metadata": {},
   "source": [
    "### Basic movie information"
   ]
  },
  {
   "cell_type": "code",
   "execution_count": 3,
   "metadata": {},
   "outputs": [],
   "source": [
    "movie_df = pd.read_csv('./data/dataset.csv')\n",
    "movie_info = {}\n",
    "for docid, text in zip(movie_df['id'], movie_df['data']):\n",
    "    movie_info[docid] = text"
   ]
  },
  {
   "cell_type": "code",
   "execution_count": 4,
   "metadata": {},
   "outputs": [],
   "source": [
    "queries = []\n",
    "with open('./data/queries.txt', 'r') as f:\n",
    "    for line in f.readlines():\n",
    "        queries.append(line.strip())\n",
    "\n",
    "queries_map = {k + 1: v for k, v in enumerate(queries)}"
   ]
  },
  {
   "cell_type": "code",
   "execution_count": 5,
   "metadata": {},
   "outputs": [
    {
     "name": "stderr",
     "output_type": "stream",
     "text": [
      "2328298it [00:01, 1436066.91it/s]\n"
     ]
    }
   ],
   "source": [
    "from collections import defaultdict\n",
    "TAG_DATA_FILE = './data/tags.csv'\n",
    "DOC_TAG_INFO = './data/doc_tag_info.json'\n",
    "tags_df = pd.read_csv(TAG_DATA_FILE).dropna()\n",
    "\n",
    "doc_tag_info = defaultdict(str)\n",
    "cnt = 0\n",
    "for userid, docid, tag in tqdm(zip(tags_df['userId'], tags_df['movieId'], tags_df['tag'])):\n",
    "    doc_tag_info[str(docid)] += tag + ' '\n",
    "\n",
    "with open(DOC_TAG_INFO, 'w') as f:\n",
    "    json.dump(doc_tag_info, f)\n",
    "\n",
    "DOC_CATEGORY_INFO_PATH = './data/movie_id_to_genre.json'\n",
    "doc_category_info = None\n",
    "with open(DOC_CATEGORY_INFO_PATH, 'r') as f:\n",
    "    doc_category_info = json.load(f)"
   ]
  },
  {
   "cell_type": "code",
   "execution_count": 6,
   "metadata": {},
   "outputs": [],
   "source": [
    "# relevance = {}\n",
    "# for i in range(47):\n",
    "#     relevance[queries[i]] = []\n",
    "#     filename = 'data/query' + str(i + 1) + '.csv'\n",
    "#     with open(filename, 'rt') as file:\n",
    "#         csv_reader = csv.reader(file)\n",
    "#         next(csv_reader)\n",
    "\n",
    "#         for line in csv_reader:\n",
    "#             relevance[queries[i]].append((i+1, line[0], line[2]))\n",
    "\n",
    "# filename = './data/relevance.csv'\n",
    "# with open(filename, 'w', newline='') as file:\n",
    "#     writer = csv.writer(file)\n",
    "#     writer.writerow(['query', 'qid', 'id', 'rel'])\n",
    "#     for query, movies in relevance.items():\n",
    "#         for id_rel in movies:\n",
    "#             writer.writerow([query, *id_rel])"
   ]
  },
  {
   "cell_type": "code",
   "execution_count": 7,
   "metadata": {},
   "outputs": [],
   "source": [
    "ANNOTATE_DATASET_PATH = './data/relevance.csv'"
   ]
  },
  {
   "cell_type": "code",
   "execution_count": 8,
   "metadata": {},
   "outputs": [],
   "source": [
    "import random\n",
    "seed = 42\n",
    "random.seed(seed)\n",
    "np.random.seed(seed)\n",
    "annotate_data = pd.read_csv(ANNOTATE_DATASET_PATH)\n",
    "\n",
    "qids = annotate_data['qid'].unique()\n",
    "qids = np.random.permutation(qids)\n",
    "train_qids = set(qids[:int(len(qids) * 0.8)])\n",
    "validation_qids = set(qids[int(len(qids) * 0.8):int(len(qids) * 0.9)])\n",
    "test_qids = set(qids[int(len(qids) * 0.9):])\n",
    "\n",
    "train_df = annotate_data[annotate_data['qid'].isin(train_qids)]\n",
    "validation_df = annotate_data[annotate_data['qid'].isin(validation_qids)]\n",
    "test_df = annotate_data[annotate_data['qid'].isin(test_qids)]"
   ]
  },
  {
   "cell_type": "markdown",
   "metadata": {},
   "source": [
    "#### Load Dataset and Indexing"
   ]
  },
  {
   "cell_type": "code",
   "execution_count": 9,
   "metadata": {},
   "outputs": [],
   "source": [
    "from movieSearchLib.indexing import MyTokenizer\n",
    "from movieSearchLib.indexing import doc_indexer\n",
    "\n",
    "\n",
    "stopwords = None\n",
    "with open('./data/stopwords.txt', 'r') as f:\n",
    "    stopwords = f.readlines()\n",
    "stopwords = [word.strip() for word in stopwords]\n",
    "\n",
    "tokenizer = MyTokenizer(stopwords, stem=False)\n",
    "\n",
    "movie_base_df = pd.read_csv('./data/movies.csv')"
   ]
  },
  {
   "cell_type": "code",
   "execution_count": 10,
   "metadata": {},
   "outputs": [],
   "source": [
    "pt_index_path = \"./pyterrier-index\"\n",
    "index = doc_indexer(pt_index_path, movie_base_df, movie_info, doc_tag_info, doc_category_info, tokenizer)\n",
    "index_no_tag = doc_indexer(pt_index_path + \"-no-tag\", movie_base_df, movie_info, doc_tag_info, doc_category_info, tokenizer, with_tag=False)"
   ]
  },
  {
   "cell_type": "code",
   "execution_count": 11,
   "metadata": {},
   "outputs": [],
   "source": [
    "from movieSearchLib.utils import load_data"
   ]
  },
  {
   "cell_type": "code",
   "execution_count": 12,
   "metadata": {},
   "outputs": [],
   "source": [
    "# train_df.to_csv('./data/train.csv', index=False)\n",
    "# validation_df.to_csv('./data/validation.csv', index=False)\n",
    "# test_df.to_csv('./data/test.csv', index=False)"
   ]
  },
  {
   "cell_type": "code",
   "execution_count": 13,
   "metadata": {},
   "outputs": [],
   "source": [
    "train_df = pd.read_csv('./data/train.csv')\n",
    "validation_df = pd.read_csv('./data/validation.csv')\n",
    "test_df = pd.read_csv('./data/test.csv')"
   ]
  },
  {
   "cell_type": "code",
   "execution_count": 14,
   "metadata": {},
   "outputs": [],
   "source": [
    "train_topics, train_qrels = load_data(train_df, \"query\")\n",
    "validation_topics, validation_qrels = load_data(validation_df, \"query\")\n",
    "test_topics, test_qrels = load_data(test_df, \"query\")"
   ]
  },
  {
   "cell_type": "markdown",
   "metadata": {},
   "source": [
    "#### Basic Scorer"
   ]
  },
  {
   "cell_type": "code",
   "execution_count": 15,
   "metadata": {},
   "outputs": [],
   "source": [
    "from movieSearchLib.ranker import Ranker\n",
    "\n",
    "ranker = Ranker(index, tokenizer)\n",
    "ranker_no_tag = Ranker(index_no_tag, tokenizer)"
   ]
  },
  {
   "cell_type": "code",
   "execution_count": 16,
   "metadata": {},
   "outputs": [
    {
     "name": "stderr",
     "output_type": "stream",
     "text": [
      "pt.Experiment: 100%|██████████| 14/14 [00:10<00:00,  1.40system/s]\n"
     ]
    },
    {
     "data": {
      "text/html": [
       "<div>\n",
       "<style scoped>\n",
       "    .dataframe tbody tr th:only-of-type {\n",
       "        vertical-align: middle;\n",
       "    }\n",
       "\n",
       "    .dataframe tbody tr th {\n",
       "        vertical-align: top;\n",
       "    }\n",
       "\n",
       "    .dataframe thead th {\n",
       "        text-align: right;\n",
       "    }\n",
       "</style>\n",
       "<table border=\"1\" class=\"dataframe\">\n",
       "  <thead>\n",
       "    <tr style=\"text-align: right;\">\n",
       "      <th></th>\n",
       "      <th>name</th>\n",
       "      <th>AP(rel=3)@10</th>\n",
       "      <th>nDCG@10</th>\n",
       "    </tr>\n",
       "  </thead>\n",
       "  <tbody>\n",
       "    <tr>\n",
       "      <th>0</th>\n",
       "      <td>bm25</td>\n",
       "      <td>0.128713</td>\n",
       "      <td>0.533485</td>\n",
       "    </tr>\n",
       "    <tr>\n",
       "      <th>1</th>\n",
       "      <td>bm25_qe</td>\n",
       "      <td>0.138008</td>\n",
       "      <td>0.532736</td>\n",
       "    </tr>\n",
       "    <tr>\n",
       "      <th>2</th>\n",
       "      <td>tf_idf_title</td>\n",
       "      <td>0.126667</td>\n",
       "      <td>0.534953</td>\n",
       "    </tr>\n",
       "    <tr>\n",
       "      <th>3</th>\n",
       "      <td>tf_idf_text</td>\n",
       "      <td>0.126667</td>\n",
       "      <td>0.534953</td>\n",
       "    </tr>\n",
       "    <tr>\n",
       "      <th>4</th>\n",
       "      <td>pl2</td>\n",
       "      <td>0.113628</td>\n",
       "      <td>0.500372</td>\n",
       "    </tr>\n",
       "    <tr>\n",
       "      <th>5</th>\n",
       "      <td>dlm</td>\n",
       "      <td>0.137799</td>\n",
       "      <td>0.535073</td>\n",
       "    </tr>\n",
       "    <tr>\n",
       "      <th>6</th>\n",
       "      <td>cm</td>\n",
       "      <td>0.029631</td>\n",
       "      <td>0.199069</td>\n",
       "    </tr>\n",
       "    <tr>\n",
       "      <th>7</th>\n",
       "      <td>bm25-no-tag</td>\n",
       "      <td>0.119503</td>\n",
       "      <td>0.516664</td>\n",
       "    </tr>\n",
       "    <tr>\n",
       "      <th>8</th>\n",
       "      <td>bm25_qe-no-tag</td>\n",
       "      <td>0.135651</td>\n",
       "      <td>0.531510</td>\n",
       "    </tr>\n",
       "    <tr>\n",
       "      <th>9</th>\n",
       "      <td>tf_idf_title-no-tag</td>\n",
       "      <td>0.118539</td>\n",
       "      <td>0.518741</td>\n",
       "    </tr>\n",
       "    <tr>\n",
       "      <th>10</th>\n",
       "      <td>tf_idf_text-no-tag</td>\n",
       "      <td>0.118539</td>\n",
       "      <td>0.518741</td>\n",
       "    </tr>\n",
       "    <tr>\n",
       "      <th>11</th>\n",
       "      <td>pl2-no-tag</td>\n",
       "      <td>0.111038</td>\n",
       "      <td>0.494915</td>\n",
       "    </tr>\n",
       "    <tr>\n",
       "      <th>12</th>\n",
       "      <td>dlm-no-tag</td>\n",
       "      <td>0.132268</td>\n",
       "      <td>0.513394</td>\n",
       "    </tr>\n",
       "    <tr>\n",
       "      <th>13</th>\n",
       "      <td>cm-no-tag</td>\n",
       "      <td>0.029631</td>\n",
       "      <td>0.199069</td>\n",
       "    </tr>\n",
       "  </tbody>\n",
       "</table>\n",
       "</div>"
      ],
      "text/plain": [
       "                   name  AP(rel=3)@10   nDCG@10\n",
       "0                  bm25      0.128713  0.533485\n",
       "1               bm25_qe      0.138008  0.532736\n",
       "2          tf_idf_title      0.126667  0.534953\n",
       "3           tf_idf_text      0.126667  0.534953\n",
       "4                   pl2      0.113628  0.500372\n",
       "5                   dlm      0.137799  0.535073\n",
       "6                    cm      0.029631  0.199069\n",
       "7           bm25-no-tag      0.119503  0.516664\n",
       "8        bm25_qe-no-tag      0.135651  0.531510\n",
       "9   tf_idf_title-no-tag      0.118539  0.518741\n",
       "10   tf_idf_text-no-tag      0.118539  0.518741\n",
       "11           pl2-no-tag      0.111038  0.494915\n",
       "12           dlm-no-tag      0.132268  0.513394\n",
       "13            cm-no-tag      0.029631  0.199069"
      ]
     },
     "execution_count": 16,
     "metadata": {},
     "output_type": "execute_result"
    }
   ],
   "source": [
    "from pyterrier.measures import *\n",
    "\n",
    "base_ranker, base_names = ranker.base_rankers()\n",
    "base_ranker_no_tag, base_names_no_tag = ranker_no_tag.base_rankers()\n",
    "base_names_no_tag = [name + \"-no-tag\" for name in base_names_no_tag]\n",
    "\n",
    "pt.Experiment(\n",
    "    base_ranker + base_ranker_no_tag,\n",
    "    train_topics,\n",
    "    train_qrels,\n",
    "    filter_by_qrels=True,\n",
    "    eval_metrics=[AP(rel=3, cutoff=10), nDCG(cutoff=10)],\n",
    "    verbose=True,\n",
    "    names=base_names + base_names_no_tag\n",
    ")"
   ]
  },
  {
   "cell_type": "code",
   "execution_count": 20,
   "metadata": {},
   "outputs": [],
   "source": [
    "# a = pt.Experiment(\n",
    "#     base_ranker + base_ranker_no_tag,\n",
    "#     all_topics,\n",
    "#     all_qrels,\n",
    "#     filter_by_qrels=True,\n",
    "#     eval_metrics=[AP(rel=3, cutoff=10), nDCG(cutoff=10)],\n",
    "#     verbose=True,\n",
    "#     names=base_names + base_names_no_tag\n",
    "# )"
   ]
  },
  {
   "cell_type": "code",
   "execution_count": 21,
   "metadata": {},
   "outputs": [
    {
     "ename": "NameError",
     "evalue": "name 'plt' is not defined",
     "output_type": "error",
     "traceback": [
      "\u001b[0;31m---------------------------------------------------------------------------\u001b[0m",
      "\u001b[0;31mNameError\u001b[0m                                 Traceback (most recent call last)",
      "\u001b[1;32m/Users/haoyang/Documents/GitHub/SI650_Project/baseline.ipynb Cell 22\u001b[0m line \u001b[0;36m1\n\u001b[0;32m----> <a href='vscode-notebook-cell:/Users/haoyang/Documents/GitHub/SI650_Project/baseline.ipynb#X32sZmlsZQ%3D%3D?line=0'>1</a>\u001b[0m plt\u001b[39m.\u001b[39mfigure(figsize\u001b[39m=\u001b[39m(\u001b[39m20\u001b[39m, \u001b[39m10\u001b[39m))\n\u001b[1;32m      <a href='vscode-notebook-cell:/Users/haoyang/Documents/GitHub/SI650_Project/baseline.ipynb#X32sZmlsZQ%3D%3D?line=1'>2</a>\u001b[0m a\u001b[39m.\u001b[39msort_values(by\u001b[39m=\u001b[39m\u001b[39m'\u001b[39m\u001b[39mname\u001b[39m\u001b[39m'\u001b[39m, ascending\u001b[39m=\u001b[39m\u001b[39mFalse\u001b[39;00m, inplace\u001b[39m=\u001b[39m\u001b[39mTrue\u001b[39;00m)\n\u001b[1;32m      <a href='vscode-notebook-cell:/Users/haoyang/Documents/GitHub/SI650_Project/baseline.ipynb#X32sZmlsZQ%3D%3D?line=2'>3</a>\u001b[0m sns\u001b[39m.\u001b[39mbarplot(data\u001b[39m=\u001b[39ma, x\u001b[39m=\u001b[39m\u001b[39m'\u001b[39m\u001b[39mname\u001b[39m\u001b[39m'\u001b[39m, y\u001b[39m=\u001b[39m\u001b[39m'\u001b[39m\u001b[39mnDCG@10\u001b[39m\u001b[39m'\u001b[39m)\n",
      "\u001b[0;31mNameError\u001b[0m: name 'plt' is not defined"
     ]
    }
   ],
   "source": [
    "plt.figure(figsize=(20, 10))\n",
    "a.sort_values(by='name', ascending=False, inplace=True)\n",
    "sns.barplot(data=a, x='name', y='nDCG@10')"
   ]
  },
  {
   "cell_type": "code",
   "execution_count": 22,
   "metadata": {},
   "outputs": [
    {
     "data": {
      "image/png": "[encoded data removed]",
      "text/plain": [
       "<Figure size 640x480 with 1 Axes>"
      ]
     },
     "metadata": {},
     "output_type": "display_data"
    }
   ],
   "source": [
    "import pandas as pd\n",
    "import matplotlib.pyplot as plt\n",
    "a = pd.DataFrame(\n",
    "    {\n",
    "        \"model\": [\"random\", \"random\", \"BM25\", \"BM25\"],\n",
    "        \"metric\": [\"mAP@10\", \"nDCG@10\", \"mAP@10\", \"nDCG@10\"],\n",
    "        \"score\": [0.000, 0.232, 0.216187, 0.6875],\n",
    "    }\n",
    ")\n",
    "\n",
    "import seaborn as sns\n",
    "# show the number in the bar\n",
    "ax = sns.barplot(x=\"model\", y=\"score\", hue=\"metric\", data=a)\n",
    "ax.set(ylim=(0, 1))\n",
    "ax.legend(title=\"metric\")\n",
    "ax.set_title(\"Performance of different models\")\n",
    "ax.set_xlabel(\"Model\")\n",
    "ax.set_ylabel(\"Score\")\n",
    "ax.bar_label(ax.containers[0], fontsize=10, color='darkblue', fmt='%.3f')\n",
    "ax.bar_label(ax.containers[1], fontsize=10, color='darkred', fmt='%.3f')\n",
    "plt.savefig(\"baseline.png\")"
   ]
  },
  {
   "cell_type": "markdown",
   "metadata": {},
   "source": [
    "#### Learn-to-Rank"
   ]
  },
  {
   "cell_type": "code",
   "execution_count": 23,
   "metadata": {},
   "outputs": [],
   "source": [
    "ENCODED_DOCUMENT_EMBEDDINGS_NPY_DATA = './data/encoded_movie_desc.npy'\n",
    "DOCUMENT_ID_TEXT = './data/movie_id_order.txt'\n",
    "RECOGNIZED_CATEGORY_PATH = './data/genre_order.txt'\n",
    "ENCODED_GENRE_FILE = './data/encoded_genres.npy'\n",
    "\n",
    "encoded_docs = None\n",
    "with open(ENCODED_DOCUMENT_EMBEDDINGS_NPY_DATA, 'rb') as file:\n",
    "    encoded_docs = np.load(file)\n",
    "\n",
    "document_ids = None\n",
    "with open(DOCUMENT_ID_TEXT, 'r') as f:\n",
    "    document_ids = f.read().splitlines()\n",
    "document_ids = [int(x) for x in document_ids]\n",
    "\n",
    "recognized_genres = None\n",
    "with open(RECOGNIZED_CATEGORY_PATH, 'r') as f:\n",
    "    recognized_genres = f.read().splitlines()\n",
    "\n",
    "encoded_genres = None\n",
    "with open(ENCODED_GENRE_FILE, 'rb') as file:\n",
    "    encoded_genres = np.load(file)\n"
   ]
  },
  {
   "cell_type": "code",
   "execution_count": 24,
   "metadata": {},
   "outputs": [
    {
     "data": {
      "text/plain": [
       "<module 'movieSearchLib.ranker' from '/Users/haoyang/Documents/GitHub/SI650_Project/movieSearchLib/ranker.py'>"
      ]
     },
     "execution_count": 24,
     "metadata": {},
     "output_type": "execute_result"
    }
   ],
   "source": [
    "from importlib import reload\n",
    "import movieSearchLib.ranker\n",
    "reload(movieSearchLib.ranker)"
   ]
  },
  {
   "cell_type": "code",
   "execution_count": 25,
   "metadata": {},
   "outputs": [],
   "source": [
    "from movieSearchLib.ranker import FeatureExtractor\n",
    "from movieSearchLib.ranker import Ranker"
   ]
  },
  {
   "cell_type": "code",
   "execution_count": 26,
   "metadata": {},
   "outputs": [],
   "source": [
    "fe = FeatureExtractor('sentence-transformers/msmarco-distilbert-dot-v5', index,\n",
    "    document_ids, encoded_docs, \n",
    "    doc_category_info, encoded_genres, recognized_genres, tokenizer)"
   ]
  },
  {
   "cell_type": "code",
   "execution_count": 27,
   "metadata": {},
   "outputs": [],
   "source": [
    "import lightgbm as lgb\n",
    "\n",
    "def pipeline_train(pipeline, train_topics, train_qrels, validation_topics, validation_qrels, default_params):\n",
    "    lmart_l = lgb.LGBMRanker(**default_params)\n",
    "    lmart_l_pipe = pipeline >> pt.ltr.apply_learned_model(lmart_l, form=\"ltr\")\n",
    "    lmart_l_pipe.fit(train_topics, train_qrels, validation_topics, validation_qrels)\n",
    "    return lmart_l_pipe, lmart_l"
   ]
  },
  {
   "cell_type": "code",
   "execution_count": 28,
   "metadata": {},
   "outputs": [],
   "source": [
    "default_params = {\n",
    "    'objective': \"lambdarank\",\n",
    "    'boosting_type': \"gbdt\",\n",
    "    'n_estimators': 50,\n",
    "    'importance_type': \"gain\",\n",
    "    'metric': \"ndcg\",\n",
    "    'learning_rate': 0.005,\n",
    "    'max_depth': -1,\n",
    "    \"verbosity\": 1,\n",
    "    \"random_state\": 42,\n",
    "    'eval_at': [20, 50],\n",
    "    'early_stopping_rounds': 5,\n",
    "    'random_state': 22\n",
    "}"
   ]
  },
  {
   "cell_type": "code",
   "execution_count": 29,
   "metadata": {},
   "outputs": [
    {
     "name": "stdout",
     "output_type": "stream",
     "text": [
      "02:19:38.152 [main] WARN org.terrier.querying.ApplyTermPipeline - The index has no termpipelines configuration, and no control configuration is found. Defaulting to global termpipelines configuration of 'Stopwords,PorterStemmer'. Set a termpipelines control to remove this warning.\n",
      "02:19:38.689 [main] WARN org.terrier.querying.ApplyTermPipeline - The index has no termpipelines configuration, and no control configuration is found. Defaulting to global termpipelines configuration of 'Stopwords,PorterStemmer'. Set a termpipelines control to remove this warning.\n",
      "02:19:39.019 [main] WARN org.terrier.querying.ApplyTermPipeline - The index has no termpipelines configuration, and no control configuration is found. Defaulting to global termpipelines configuration of 'Stopwords,PorterStemmer'. Set a termpipelines control to remove this warning.\n",
      "02:19:39.113 [main] WARN org.terrier.querying.ApplyTermPipeline - The index has no termpipelines configuration, and no control configuration is found. Defaulting to global termpipelines configuration of 'Stopwords,PorterStemmer'. Set a termpipelines control to remove this warning.\n",
      "[LightGBM] [Warning] early_stopping_round is set=5, early_stopping_rounds=5 will be ignored. Current value: early_stopping_round=5\n",
      "[LightGBM] [Info] Auto-choosing col-wise multi-threading, the overhead of testing was 0.000273 seconds.\n",
      "You can set `force_col_wise=true` to remove the overhead.\n",
      "[LightGBM] [Info] Total Bins 931\n",
      "[LightGBM] [Info] Number of data points in the train set: 925, number of used features: 6\n",
      "[LightGBM] [Warning] early_stopping_round is set=5, early_stopping_rounds=5 will be ignored. Current value: early_stopping_round=5\n",
      "Training until validation scores don't improve for 5 rounds\n",
      "Early stopping, best iteration is:\n",
      "[1]\tvalid_0's ndcg@20: 0.607345\tvalid_0's ndcg@50: 0.653712\n"
     ]
    },
    {
     "name": "stderr",
     "output_type": "stream",
     "text": [
      "/Users/haoyang/miniconda3/envs/si650/lib/python3.11/site-packages/lightgbm/sklearn.py:682: UserWarning: Found 'eval_at' in params. Will use it instead of 'eval_at' argument\n",
      "  _log_warning(f\"Found '{alias}' in params. Will use it instead of 'eval_at' argument\")\n"
     ]
    },
    {
     "name": "stdout",
     "output_type": "stream",
     "text": [
      "02:19:43.253 [main] WARN org.terrier.querying.ApplyTermPipeline - The index has no termpipelines configuration, and no control configuration is found. Defaulting to global termpipelines configuration of 'Stopwords,PorterStemmer'. Set a termpipelines control to remove this warning.\n",
      "02:19:43.754 [main] WARN org.terrier.querying.ApplyTermPipeline - The index has no termpipelines configuration, and no control configuration is found. Defaulting to global termpipelines configuration of 'Stopwords,PorterStemmer'. Set a termpipelines control to remove this warning.\n",
      "02:19:44.409 [main] WARN org.terrier.querying.ApplyTermPipeline - The index has no termpipelines configuration, and no control configuration is found. Defaulting to global termpipelines configuration of 'Stopwords,PorterStemmer'. Set a termpipelines control to remove this warning.\n",
      "02:19:44.498 [main] WARN org.terrier.querying.ApplyTermPipeline - The index has no termpipelines configuration, and no control configuration is found. Defaulting to global termpipelines configuration of 'Stopwords,PorterStemmer'. Set a termpipelines control to remove this warning.\n",
      "[LightGBM] [Warning] early_stopping_round is set=5, early_stopping_rounds=5 will be ignored. Current value: early_stopping_round=5\n",
      "[LightGBM] [Info] Auto-choosing row-wise multi-threading, the overhead of testing was 0.001211 seconds.\n",
      "You can set `force_row_wise=true` to remove the overhead.\n",
      "And if memory is not enough, you can set `force_col_wise=true`.\n",
      "[LightGBM] [Info] Total Bins 1875\n",
      "[LightGBM] [Info] Number of data points in the train set: 925, number of used features: 28\n",
      "[LightGBM] [Warning] early_stopping_round is set=5, early_stopping_rounds=5 will be ignored. Current value: early_stopping_round=5\n",
      "Training until validation scores don't improve for 5 rounds\n",
      "Early stopping, best iteration is:\n",
      "[7]\tvalid_0's ndcg@20: 0.633191\tvalid_0's ndcg@50: 0.68322\n"
     ]
    },
    {
     "name": "stderr",
     "output_type": "stream",
     "text": [
      "/Users/haoyang/miniconda3/envs/si650/lib/python3.11/site-packages/lightgbm/sklearn.py:682: UserWarning: Found 'eval_at' in params. Will use it instead of 'eval_at' argument\n",
      "  _log_warning(f\"Found '{alias}' in params. Will use it instead of 'eval_at' argument\")\n"
     ]
    }
   ],
   "source": [
    "# stem\n",
    "pipeline_0 = ranker.dlm\n",
    "pipeline_1 = ranker.bm25\n",
    "base_pipeline = ranker.pipeline(fe ,enable_fe=False)\n",
    "base_pipeline_fe = ranker.pipeline(fe, enable_fe=True)\n",
    "pipeline_2, booster = pipeline_train(base_pipeline, train_topics, train_qrels, validation_topics, validation_qrels, default_params)\n",
    "pipeline_3, booster_fe = pipeline_train(base_pipeline_fe, train_topics, train_qrels, validation_topics, validation_qrels, default_params)\n",
    "pipeline_4 = ranker.bm25_dlm_pipeline()\n",
    "pipeline_5 = ranker.pipeline_dlm(pipeline_2)\n",
    "pipeline_6 = ranker.pipeline_dlm(pipeline_3)"
   ]
  },
  {
   "cell_type": "code",
   "execution_count": 30,
   "metadata": {},
   "outputs": [
    {
     "data": {
      "text/plain": [
       "<lightgbm.basic.Booster at 0x2af8cbe50>"
      ]
     },
     "execution_count": 30,
     "metadata": {},
     "output_type": "execute_result"
    }
   ],
   "source": [
    "booster.booster_.save_model('lmart_l.txt')\n",
    "booster_fe.booster_.save_model('lmart_l_fe.txt')"
   ]
  },
  {
   "cell_type": "code",
   "execution_count": 31,
   "metadata": {},
   "outputs": [
    {
     "name": "stderr",
     "output_type": "stream",
     "text": [
      "pt.Experiment:  29%|██▊       | 2/7 [00:00<00:00, 11.46system/s]"
     ]
    },
    {
     "name": "stdout",
     "output_type": "stream",
     "text": [
      "02:19:44.969 [main] WARN org.terrier.querying.ApplyTermPipeline - The index has no termpipelines configuration, and no control configuration is found. Defaulting to global termpipelines configuration of 'Stopwords,PorterStemmer'. Set a termpipelines control to remove this warning.\n",
      "02:19:45.043 [main] WARN org.terrier.querying.ApplyTermPipeline - The index has no termpipelines configuration, and no control configuration is found. Defaulting to global termpipelines configuration of 'Stopwords,PorterStemmer'. Set a termpipelines control to remove this warning.\n"
     ]
    },
    {
     "name": "stderr",
     "output_type": "stream",
     "text": [
      "/Users/haoyang/miniconda3/envs/si650/lib/python3.11/site-packages/lightgbm/sklearn.py:682: UserWarning: Found 'eval_at' in params. Will use it instead of 'eval_at' argument\n",
      "  _log_warning(f\"Found '{alias}' in params. Will use it instead of 'eval_at' argument\")\n"
     ]
    },
    {
     "name": "stdout",
     "output_type": "stream",
     "text": [
      "02:19:45.622 [main] WARN org.terrier.querying.ApplyTermPipeline - The index has no termpipelines configuration, and no control configuration is found. Defaulting to global termpipelines configuration of 'Stopwords,PorterStemmer'. Set a termpipelines control to remove this warning.\n",
      "02:19:45.710 [main] WARN org.terrier.querying.ApplyTermPipeline - The index has no termpipelines configuration, and no control configuration is found. Defaulting to global termpipelines configuration of 'Stopwords,PorterStemmer'. Set a termpipelines control to remove this warning.\n"
     ]
    },
    {
     "name": "stderr",
     "output_type": "stream",
     "text": [
      "/Users/haoyang/miniconda3/envs/si650/lib/python3.11/site-packages/lightgbm/sklearn.py:682: UserWarning: Found 'eval_at' in params. Will use it instead of 'eval_at' argument\n",
      "  _log_warning(f\"Found '{alias}' in params. Will use it instead of 'eval_at' argument\")\n",
      "pt.Experiment:  71%|███████▏  | 5/7 [00:01<00:00,  3.94system/s]"
     ]
    },
    {
     "name": "stdout",
     "output_type": "stream",
     "text": [
      "02:19:46.012 [main] WARN org.terrier.querying.ApplyTermPipeline - The index has no termpipelines configuration, and no control configuration is found. Defaulting to global termpipelines configuration of 'Stopwords,PorterStemmer'. Set a termpipelines control to remove this warning.\n",
      "02:19:46.085 [main] WARN org.terrier.querying.ApplyTermPipeline - The index has no termpipelines configuration, and no control configuration is found. Defaulting to global termpipelines configuration of 'Stopwords,PorterStemmer'. Set a termpipelines control to remove this warning.\n"
     ]
    },
    {
     "name": "stderr",
     "output_type": "stream",
     "text": [
      "/Users/haoyang/miniconda3/envs/si650/lib/python3.11/site-packages/lightgbm/sklearn.py:682: UserWarning: Found 'eval_at' in params. Will use it instead of 'eval_at' argument\n",
      "  _log_warning(f\"Found '{alias}' in params. Will use it instead of 'eval_at' argument\")\n",
      "pt.Experiment:  86%|████████▌ | 6/7 [00:01<00:00,  3.99system/s]"
     ]
    },
    {
     "name": "stdout",
     "output_type": "stream",
     "text": [
      "02:19:46.285 [main] WARN org.terrier.querying.ApplyTermPipeline - The index has no termpipelines configuration, and no control configuration is found. Defaulting to global termpipelines configuration of 'Stopwords,PorterStemmer'. Set a termpipelines control to remove this warning.\n",
      "02:19:46.388 [main] WARN org.terrier.querying.ApplyTermPipeline - The index has no termpipelines configuration, and no control configuration is found. Defaulting to global termpipelines configuration of 'Stopwords,PorterStemmer'. Set a termpipelines control to remove this warning.\n"
     ]
    },
    {
     "name": "stderr",
     "output_type": "stream",
     "text": [
      "/Users/haoyang/miniconda3/envs/si650/lib/python3.11/site-packages/lightgbm/sklearn.py:682: UserWarning: Found 'eval_at' in params. Will use it instead of 'eval_at' argument\n",
      "  _log_warning(f\"Found '{alias}' in params. Will use it instead of 'eval_at' argument\")\n",
      "pt.Experiment: 100%|██████████| 7/7 [00:01<00:00,  3.92system/s]\n"
     ]
    },
    {
     "data": {
      "text/html": [
       "<div>\n",
       "<style scoped>\n",
       "    .dataframe tbody tr th:only-of-type {\n",
       "        vertical-align: middle;\n",
       "    }\n",
       "\n",
       "    .dataframe tbody tr th {\n",
       "        vertical-align: top;\n",
       "    }\n",
       "\n",
       "    .dataframe thead th {\n",
       "        text-align: right;\n",
       "    }\n",
       "</style>\n",
       "<table border=\"1\" class=\"dataframe\">\n",
       "  <thead>\n",
       "    <tr style=\"text-align: right;\">\n",
       "      <th></th>\n",
       "      <th>name</th>\n",
       "      <th>AP(rel=3)@10</th>\n",
       "      <th>nDCG@10</th>\n",
       "      <th>recip_rank</th>\n",
       "    </tr>\n",
       "  </thead>\n",
       "  <tbody>\n",
       "    <tr>\n",
       "      <th>0</th>\n",
       "      <td>BM25</td>\n",
       "      <td>0.216187</td>\n",
       "      <td>0.687578</td>\n",
       "      <td>0.9</td>\n",
       "    </tr>\n",
       "    <tr>\n",
       "      <th>1</th>\n",
       "      <td>DLM</td>\n",
       "      <td>0.165160</td>\n",
       "      <td>0.642845</td>\n",
       "      <td>1.0</td>\n",
       "    </tr>\n",
       "    <tr>\n",
       "      <th>2</th>\n",
       "      <td>LMART_L</td>\n",
       "      <td>0.306203</td>\n",
       "      <td>0.725231</td>\n",
       "      <td>1.0</td>\n",
       "    </tr>\n",
       "    <tr>\n",
       "      <th>3</th>\n",
       "      <td>LMART_L_FE</td>\n",
       "      <td>0.256494</td>\n",
       "      <td>0.730094</td>\n",
       "      <td>0.9</td>\n",
       "    </tr>\n",
       "    <tr>\n",
       "      <th>4</th>\n",
       "      <td>BM25_DLM</td>\n",
       "      <td>0.264412</td>\n",
       "      <td>0.768318</td>\n",
       "      <td>1.0</td>\n",
       "    </tr>\n",
       "    <tr>\n",
       "      <th>5</th>\n",
       "      <td>LMART_L_DLM</td>\n",
       "      <td>0.294477</td>\n",
       "      <td>0.791307</td>\n",
       "      <td>1.0</td>\n",
       "    </tr>\n",
       "    <tr>\n",
       "      <th>6</th>\n",
       "      <td>LMART_L_FE_DLM</td>\n",
       "      <td>0.304126</td>\n",
       "      <td>0.796259</td>\n",
       "      <td>1.0</td>\n",
       "    </tr>\n",
       "  </tbody>\n",
       "</table>\n",
       "</div>"
      ],
      "text/plain": [
       "             name  AP(rel=3)@10   nDCG@10  recip_rank\n",
       "0            BM25      0.216187  0.687578         0.9\n",
       "1             DLM      0.165160  0.642845         1.0\n",
       "2         LMART_L      0.306203  0.725231         1.0\n",
       "3      LMART_L_FE      0.256494  0.730094         0.9\n",
       "4        BM25_DLM      0.264412  0.768318         1.0\n",
       "5     LMART_L_DLM      0.294477  0.791307         1.0\n",
       "6  LMART_L_FE_DLM      0.304126  0.796259         1.0"
      ]
     },
     "execution_count": 31,
     "metadata": {},
     "output_type": "execute_result"
    }
   ],
   "source": [
    "result_df = pt.Experiment(\n",
    "    [pipeline_1, pipeline_0, pipeline_2, pipeline_3, pipeline_4, pipeline_5, pipeline_6],\n",
    "    test_topics,\n",
    "    test_qrels,\n",
    "    eval_metrics=[AP(rel=3, cutoff=10), nDCG(cutoff=10), \"recip_rank\"],\n",
    "    names=[\"BM25\", \"DLM\", \"LMART_L\", \"LMART_L_FE\", \"BM25_DLM\", \"LMART_L_DLM\", \"LMART_L_FE_DLM\"],\n",
    "    verbose=True,\n",
    "    # perquery=True\n",
    ")\n",
    "result_df"
   ]
  },
  {
   "cell_type": "markdown",
   "metadata": {},
   "source": [
    "### Test"
   ]
  },
  {
   "cell_type": "code",
   "execution_count": 174,
   "metadata": {},
   "outputs": [
    {
     "data": {
      "text/plain": [
       "'Films capturing youthful spirit.'"
      ]
     },
     "execution_count": 174,
     "metadata": {},
     "output_type": "execute_result"
    }
   ],
   "source": [
    "query = queries_map[34]\n",
    "# query = \"comedy\"\n",
    "query"
   ]
  },
  {
   "cell_type": "code",
   "execution_count": 175,
   "metadata": {},
   "outputs": [
    {
     "data": {
      "text/html": [
       "<div>\n",
       "<style scoped>\n",
       "    .dataframe tbody tr th:only-of-type {\n",
       "        vertical-align: middle;\n",
       "    }\n",
       "\n",
       "    .dataframe tbody tr th {\n",
       "        vertical-align: top;\n",
       "    }\n",
       "\n",
       "    .dataframe thead th {\n",
       "        text-align: right;\n",
       "    }\n",
       "</style>\n",
       "<table border=\"1\" class=\"dataframe\">\n",
       "  <thead>\n",
       "    <tr style=\"text-align: right;\">\n",
       "      <th></th>\n",
       "      <th>docid</th>\n",
       "      <th>title</th>\n",
       "    </tr>\n",
       "  </thead>\n",
       "  <tbody>\n",
       "    <tr>\n",
       "      <th>0</th>\n",
       "      <td>39085</td>\n",
       "      <td>Jungle Cavalcade (1941)</td>\n",
       "    </tr>\n",
       "    <tr>\n",
       "      <th>1</th>\n",
       "      <td>83836</td>\n",
       "      <td>Phone Bhoot (2022)</td>\n",
       "    </tr>\n",
       "    <tr>\n",
       "      <th>2</th>\n",
       "      <td>23150</td>\n",
       "      <td>Painted Skin (2008)</td>\n",
       "    </tr>\n",
       "    <tr>\n",
       "      <th>3</th>\n",
       "      <td>77938</td>\n",
       "      <td>Capturing Reality (2008)</td>\n",
       "    </tr>\n",
       "    <tr>\n",
       "      <th>4</th>\n",
       "      <td>44704</td>\n",
       "      <td>Raging Sun, Raging Sky (2009)</td>\n",
       "    </tr>\n",
       "    <tr>\n",
       "      <th>5</th>\n",
       "      <td>54426</td>\n",
       "      <td>Holy Ghost (2014)</td>\n",
       "    </tr>\n",
       "    <tr>\n",
       "      <th>6</th>\n",
       "      <td>12858</td>\n",
       "      <td>Ninja III: The Domination (1984)</td>\n",
       "    </tr>\n",
       "    <tr>\n",
       "      <th>7</th>\n",
       "      <td>12845</td>\n",
       "      <td>Shrek the Halls (2007)</td>\n",
       "    </tr>\n",
       "    <tr>\n",
       "      <th>8</th>\n",
       "      <td>72537</td>\n",
       "      <td>Babs (2017)</td>\n",
       "    </tr>\n",
       "    <tr>\n",
       "      <th>9</th>\n",
       "      <td>53596</td>\n",
       "      <td>And This Is Free (1965)</td>\n",
       "    </tr>\n",
       "  </tbody>\n",
       "</table>\n",
       "</div>"
      ],
      "text/plain": [
       "   docid                             title\n",
       "0  39085           Jungle Cavalcade (1941)\n",
       "1  83836                Phone Bhoot (2022)\n",
       "2  23150               Painted Skin (2008)\n",
       "3  77938          Capturing Reality (2008)\n",
       "4  44704     Raging Sun, Raging Sky (2009)\n",
       "5  54426                 Holy Ghost (2014)\n",
       "6  12858  Ninja III: The Domination (1984)\n",
       "7  12845            Shrek the Halls (2007)\n",
       "8  72537                       Babs (2017)\n",
       "9  53596           And This Is Free (1965)"
      ]
     },
     "execution_count": 175,
     "metadata": {},
     "output_type": "execute_result"
    }
   ],
   "source": [
    "(ranker_no_tag.bm25 >> ranker_no_tag.get_title).search(query)[['docid', 'title']].head(10)"
   ]
  },
  {
   "cell_type": "code",
   "execution_count": 176,
   "metadata": {},
   "outputs": [
    {
     "data": {
      "text/html": [
       "<div>\n",
       "<style scoped>\n",
       "    .dataframe tbody tr th:only-of-type {\n",
       "        vertical-align: middle;\n",
       "    }\n",
       "\n",
       "    .dataframe tbody tr th {\n",
       "        vertical-align: top;\n",
       "    }\n",
       "\n",
       "    .dataframe thead th {\n",
       "        text-align: right;\n",
       "    }\n",
       "</style>\n",
       "<table border=\"1\" class=\"dataframe\">\n",
       "  <thead>\n",
       "    <tr style=\"text-align: right;\">\n",
       "      <th></th>\n",
       "      <th>docid</th>\n",
       "      <th>title</th>\n",
       "    </tr>\n",
       "  </thead>\n",
       "  <tbody>\n",
       "    <tr>\n",
       "      <th>0</th>\n",
       "      <td>39085</td>\n",
       "      <td>Jungle Cavalcade (1941)</td>\n",
       "    </tr>\n",
       "    <tr>\n",
       "      <th>1</th>\n",
       "      <td>83836</td>\n",
       "      <td>Phone Bhoot (2022)</td>\n",
       "    </tr>\n",
       "    <tr>\n",
       "      <th>2</th>\n",
       "      <td>77938</td>\n",
       "      <td>Capturing Reality (2008)</td>\n",
       "    </tr>\n",
       "    <tr>\n",
       "      <th>3</th>\n",
       "      <td>23150</td>\n",
       "      <td>Painted Skin (2008)</td>\n",
       "    </tr>\n",
       "    <tr>\n",
       "      <th>4</th>\n",
       "      <td>44704</td>\n",
       "      <td>Raging Sun, Raging Sky (2009)</td>\n",
       "    </tr>\n",
       "    <tr>\n",
       "      <th>5</th>\n",
       "      <td>54426</td>\n",
       "      <td>Holy Ghost (2014)</td>\n",
       "    </tr>\n",
       "    <tr>\n",
       "      <th>6</th>\n",
       "      <td>12858</td>\n",
       "      <td>Ninja III: The Domination (1984)</td>\n",
       "    </tr>\n",
       "    <tr>\n",
       "      <th>7</th>\n",
       "      <td>12845</td>\n",
       "      <td>Shrek the Halls (2007)</td>\n",
       "    </tr>\n",
       "    <tr>\n",
       "      <th>8</th>\n",
       "      <td>72537</td>\n",
       "      <td>Babs (2017)</td>\n",
       "    </tr>\n",
       "    <tr>\n",
       "      <th>9</th>\n",
       "      <td>31929</td>\n",
       "      <td>The Universal Clock: The Resistance of Peter W...</td>\n",
       "    </tr>\n",
       "  </tbody>\n",
       "</table>\n",
       "</div>"
      ],
      "text/plain": [
       "   docid                                              title\n",
       "0  39085                            Jungle Cavalcade (1941)\n",
       "1  83836                                 Phone Bhoot (2022)\n",
       "2  77938                           Capturing Reality (2008)\n",
       "3  23150                                Painted Skin (2008)\n",
       "4  44704                      Raging Sun, Raging Sky (2009)\n",
       "5  54426                                  Holy Ghost (2014)\n",
       "6  12858                   Ninja III: The Domination (1984)\n",
       "7  12845                             Shrek the Halls (2007)\n",
       "8  72537                                        Babs (2017)\n",
       "9  31929  The Universal Clock: The Resistance of Peter W..."
      ]
     },
     "execution_count": 176,
     "metadata": {},
     "output_type": "execute_result"
    }
   ],
   "source": [
    "(pipeline_1 >> ranker.get_title).search(query)[['docid', 'title']].head(10)"
   ]
  },
  {
   "cell_type": "code",
   "execution_count": 177,
   "metadata": {},
   "outputs": [
    {
     "name": "stdout",
     "output_type": "stream",
     "text": [
      "03:21:32.488 [main] WARN org.terrier.querying.ApplyTermPipeline - The index has no termpipelines configuration, and no control configuration is found. Defaulting to global termpipelines configuration of 'Stopwords,PorterStemmer'. Set a termpipelines control to remove this warning.\n",
      "03:21:32.514 [main] WARN org.terrier.querying.ApplyTermPipeline - The index has no termpipelines configuration, and no control configuration is found. Defaulting to global termpipelines configuration of 'Stopwords,PorterStemmer'. Set a termpipelines control to remove this warning.\n"
     ]
    },
    {
     "name": "stderr",
     "output_type": "stream",
     "text": [
      "/Users/haoyang/miniconda3/envs/si650/lib/python3.11/site-packages/lightgbm/sklearn.py:682: UserWarning: Found 'eval_at' in params. Will use it instead of 'eval_at' argument\n",
      "  _log_warning(f\"Found '{alias}' in params. Will use it instead of 'eval_at' argument\")\n"
     ]
    },
    {
     "data": {
      "text/html": [
       "<div>\n",
       "<style scoped>\n",
       "    .dataframe tbody tr th:only-of-type {\n",
       "        vertical-align: middle;\n",
       "    }\n",
       "\n",
       "    .dataframe tbody tr th {\n",
       "        vertical-align: top;\n",
       "    }\n",
       "\n",
       "    .dataframe thead th {\n",
       "        text-align: right;\n",
       "    }\n",
       "</style>\n",
       "<table border=\"1\" class=\"dataframe\">\n",
       "  <thead>\n",
       "    <tr style=\"text-align: right;\">\n",
       "      <th></th>\n",
       "      <th>docid</th>\n",
       "      <th>title</th>\n",
       "    </tr>\n",
       "  </thead>\n",
       "  <tbody>\n",
       "    <tr>\n",
       "      <th>14</th>\n",
       "      <td>12858</td>\n",
       "      <td>Ninja III: The Domination (1984)</td>\n",
       "    </tr>\n",
       "    <tr>\n",
       "      <th>8</th>\n",
       "      <td>62536</td>\n",
       "      <td>Inna de Yard (2019)</td>\n",
       "    </tr>\n",
       "    <tr>\n",
       "      <th>18</th>\n",
       "      <td>66263</td>\n",
       "      <td>LEGO House – Home of the Brick (2018)</td>\n",
       "    </tr>\n",
       "    <tr>\n",
       "      <th>0</th>\n",
       "      <td>39085</td>\n",
       "      <td>Jungle Cavalcade (1941)</td>\n",
       "    </tr>\n",
       "    <tr>\n",
       "      <th>4</th>\n",
       "      <td>72537</td>\n",
       "      <td>Babs (2017)</td>\n",
       "    </tr>\n",
       "    <tr>\n",
       "      <th>11</th>\n",
       "      <td>67615</td>\n",
       "      <td>White Rhino (2019)</td>\n",
       "    </tr>\n",
       "    <tr>\n",
       "      <th>21</th>\n",
       "      <td>69820</td>\n",
       "      <td>Santana (2020)</td>\n",
       "    </tr>\n",
       "    <tr>\n",
       "      <th>22</th>\n",
       "      <td>81656</td>\n",
       "      <td>Wyrmwood: Apocalypse (2022)</td>\n",
       "    </tr>\n",
       "    <tr>\n",
       "      <th>5</th>\n",
       "      <td>54426</td>\n",
       "      <td>Holy Ghost (2014)</td>\n",
       "    </tr>\n",
       "    <tr>\n",
       "      <th>12</th>\n",
       "      <td>14028</td>\n",
       "      <td>Tale of the Wind, A (Histoire de vent, Une) (1...</td>\n",
       "    </tr>\n",
       "  </tbody>\n",
       "</table>\n",
       "</div>"
      ],
      "text/plain": [
       "    docid                                              title\n",
       "14  12858                   Ninja III: The Domination (1984)\n",
       "8   62536                                Inna de Yard (2019)\n",
       "18  66263              LEGO House – Home of the Brick (2018)\n",
       "0   39085                            Jungle Cavalcade (1941)\n",
       "4   72537                                        Babs (2017)\n",
       "11  67615                                 White Rhino (2019)\n",
       "21  69820                                     Santana (2020)\n",
       "22  81656                        Wyrmwood: Apocalypse (2022)\n",
       "5   54426                                  Holy Ghost (2014)\n",
       "12  14028  Tale of the Wind, A (Histoire de vent, Une) (1..."
      ]
     },
     "execution_count": 177,
     "metadata": {},
     "output_type": "execute_result"
    }
   ],
   "source": [
    "(pipeline_3 >> ranker.get_title).search(query)[['docid', 'title']].head(10)"
   ]
  },
  {
   "cell_type": "code",
   "execution_count": 178,
   "metadata": {},
   "outputs": [
    {
     "name": "stdout",
     "output_type": "stream",
     "text": [
      "03:21:33.406 [main] WARN org.terrier.querying.ApplyTermPipeline - The index has no termpipelines configuration, and no control configuration is found. Defaulting to global termpipelines configuration of 'Stopwords,PorterStemmer'. Set a termpipelines control to remove this warning.\n",
      "03:21:33.433 [main] WARN org.terrier.querying.ApplyTermPipeline - The index has no termpipelines configuration, and no control configuration is found. Defaulting to global termpipelines configuration of 'Stopwords,PorterStemmer'. Set a termpipelines control to remove this warning.\n"
     ]
    },
    {
     "name": "stderr",
     "output_type": "stream",
     "text": [
      "/Users/haoyang/miniconda3/envs/si650/lib/python3.11/site-packages/lightgbm/sklearn.py:682: UserWarning: Found 'eval_at' in params. Will use it instead of 'eval_at' argument\n",
      "  _log_warning(f\"Found '{alias}' in params. Will use it instead of 'eval_at' argument\")\n"
     ]
    },
    {
     "data": {
      "text/html": [
       "<div>\n",
       "<style scoped>\n",
       "    .dataframe tbody tr th:only-of-type {\n",
       "        vertical-align: middle;\n",
       "    }\n",
       "\n",
       "    .dataframe tbody tr th {\n",
       "        vertical-align: top;\n",
       "    }\n",
       "\n",
       "    .dataframe thead th {\n",
       "        text-align: right;\n",
       "    }\n",
       "</style>\n",
       "<table border=\"1\" class=\"dataframe\">\n",
       "  <thead>\n",
       "    <tr style=\"text-align: right;\">\n",
       "      <th></th>\n",
       "      <th>docid</th>\n",
       "      <th>title</th>\n",
       "    </tr>\n",
       "  </thead>\n",
       "  <tbody>\n",
       "    <tr>\n",
       "      <th>0</th>\n",
       "      <td>39085</td>\n",
       "      <td>Jungle Cavalcade (1941)</td>\n",
       "    </tr>\n",
       "    <tr>\n",
       "      <th>1</th>\n",
       "      <td>72537</td>\n",
       "      <td>Babs (2017)</td>\n",
       "    </tr>\n",
       "    <tr>\n",
       "      <th>2</th>\n",
       "      <td>54426</td>\n",
       "      <td>Holy Ghost (2014)</td>\n",
       "    </tr>\n",
       "    <tr>\n",
       "      <th>3</th>\n",
       "      <td>12858</td>\n",
       "      <td>Ninja III: The Domination (1984)</td>\n",
       "    </tr>\n",
       "    <tr>\n",
       "      <th>4</th>\n",
       "      <td>53596</td>\n",
       "      <td>And This Is Free (1965)</td>\n",
       "    </tr>\n",
       "    <tr>\n",
       "      <th>5</th>\n",
       "      <td>62536</td>\n",
       "      <td>Inna de Yard (2019)</td>\n",
       "    </tr>\n",
       "    <tr>\n",
       "      <th>6</th>\n",
       "      <td>23118</td>\n",
       "      <td>See Heaven (1995)</td>\n",
       "    </tr>\n",
       "    <tr>\n",
       "      <th>7</th>\n",
       "      <td>67615</td>\n",
       "      <td>White Rhino (2019)</td>\n",
       "    </tr>\n",
       "    <tr>\n",
       "      <th>8</th>\n",
       "      <td>43004</td>\n",
       "      <td>Fire at Sea (2016)</td>\n",
       "    </tr>\n",
       "    <tr>\n",
       "      <th>9</th>\n",
       "      <td>69820</td>\n",
       "      <td>Santana (2020)</td>\n",
       "    </tr>\n",
       "  </tbody>\n",
       "</table>\n",
       "</div>"
      ],
      "text/plain": [
       "   docid                             title\n",
       "0  39085           Jungle Cavalcade (1941)\n",
       "1  72537                       Babs (2017)\n",
       "2  54426                 Holy Ghost (2014)\n",
       "3  12858  Ninja III: The Domination (1984)\n",
       "4  53596           And This Is Free (1965)\n",
       "5  62536               Inna de Yard (2019)\n",
       "6  23118                 See Heaven (1995)\n",
       "7  67615                White Rhino (2019)\n",
       "8  43004                Fire at Sea (2016)\n",
       "9  69820                    Santana (2020)"
      ]
     },
     "execution_count": 178,
     "metadata": {},
     "output_type": "execute_result"
    }
   ],
   "source": [
    "(pipeline_6 >> ranker.get_title).search(query)[['docid', 'title']].head(10)"
   ]
  },
  {
   "cell_type": "code",
   "execution_count": 68,
   "metadata": {},
   "outputs": [
    {
     "data": {
      "text/html": [
       "<div>\n",
       "<style scoped>\n",
       "    .dataframe tbody tr th:only-of-type {\n",
       "        vertical-align: middle;\n",
       "    }\n",
       "\n",
       "    .dataframe tbody tr th {\n",
       "        vertical-align: top;\n",
       "    }\n",
       "\n",
       "    .dataframe thead th {\n",
       "        text-align: right;\n",
       "    }\n",
       "</style>\n",
       "<table border=\"1\" class=\"dataframe\">\n",
       "  <thead>\n",
       "    <tr style=\"text-align: right;\">\n",
       "      <th></th>\n",
       "      <th>name</th>\n",
       "      <th>qid</th>\n",
       "      <th>measure</th>\n",
       "      <th>value</th>\n",
       "      <th>split</th>\n",
       "    </tr>\n",
       "  </thead>\n",
       "  <tbody>\n",
       "    <tr>\n",
       "      <th>865</th>\n",
       "      <td>LMART_L_FE_DLM</td>\n",
       "      <td>15</td>\n",
       "      <td>nDCG@10</td>\n",
       "      <td>0.987276</td>\n",
       "      <td>test</td>\n",
       "    </tr>\n",
       "    <tr>\n",
       "      <th>913</th>\n",
       "      <td>LMART_L_FE_DLM</td>\n",
       "      <td>3</td>\n",
       "      <td>nDCG@10</td>\n",
       "      <td>0.981042</td>\n",
       "      <td>train</td>\n",
       "    </tr>\n",
       "    <tr>\n",
       "      <th>856</th>\n",
       "      <td>LMART_L_FE_DLM</td>\n",
       "      <td>12</td>\n",
       "      <td>nDCG@10</td>\n",
       "      <td>0.972076</td>\n",
       "      <td>train</td>\n",
       "    </tr>\n",
       "    <tr>\n",
       "      <th>973</th>\n",
       "      <td>LMART_L_FE_DLM</td>\n",
       "      <td>5</td>\n",
       "      <td>nDCG@10</td>\n",
       "      <td>0.958977</td>\n",
       "      <td>train</td>\n",
       "    </tr>\n",
       "    <tr>\n",
       "      <th>946</th>\n",
       "      <td>LMART_L_FE_DLM</td>\n",
       "      <td>4</td>\n",
       "      <td>nDCG@10</td>\n",
       "      <td>0.913066</td>\n",
       "      <td>train</td>\n",
       "    </tr>\n",
       "    <tr>\n",
       "      <th>985</th>\n",
       "      <td>LMART_L_FE_DLM</td>\n",
       "      <td>9</td>\n",
       "      <td>nDCG@10</td>\n",
       "      <td>0.905793</td>\n",
       "      <td>train</td>\n",
       "    </tr>\n",
       "    <tr>\n",
       "      <th>883</th>\n",
       "      <td>LMART_L_FE_DLM</td>\n",
       "      <td>20</td>\n",
       "      <td>nDCG@10</td>\n",
       "      <td>0.879442</td>\n",
       "      <td>train</td>\n",
       "    </tr>\n",
       "    <tr>\n",
       "      <th>871</th>\n",
       "      <td>LMART_L_FE_DLM</td>\n",
       "      <td>17</td>\n",
       "      <td>nDCG@10</td>\n",
       "      <td>0.863723</td>\n",
       "      <td>train</td>\n",
       "    </tr>\n",
       "    <tr>\n",
       "      <th>850</th>\n",
       "      <td>LMART_L_FE_DLM</td>\n",
       "      <td>10</td>\n",
       "      <td>nDCG@10</td>\n",
       "      <td>0.863216</td>\n",
       "      <td>train</td>\n",
       "    </tr>\n",
       "    <tr>\n",
       "      <th>889</th>\n",
       "      <td>LMART_L_FE_DLM</td>\n",
       "      <td>22</td>\n",
       "      <td>nDCG@10</td>\n",
       "      <td>0.861212</td>\n",
       "      <td>train</td>\n",
       "    </tr>\n",
       "    <tr>\n",
       "      <th>898</th>\n",
       "      <td>LMART_L_FE_DLM</td>\n",
       "      <td>25</td>\n",
       "      <td>nDCG@10</td>\n",
       "      <td>0.861143</td>\n",
       "      <td>train</td>\n",
       "    </tr>\n",
       "    <tr>\n",
       "      <th>880</th>\n",
       "      <td>LMART_L_FE_DLM</td>\n",
       "      <td>2</td>\n",
       "      <td>nDCG@10</td>\n",
       "      <td>0.860221</td>\n",
       "      <td>train</td>\n",
       "    </tr>\n",
       "    <tr>\n",
       "      <th>922</th>\n",
       "      <td>LMART_L_FE_DLM</td>\n",
       "      <td>32</td>\n",
       "      <td>nDCG@10</td>\n",
       "      <td>0.851917</td>\n",
       "      <td>train</td>\n",
       "    </tr>\n",
       "    <tr>\n",
       "      <th>967</th>\n",
       "      <td>LMART_L_FE_DLM</td>\n",
       "      <td>46</td>\n",
       "      <td>nDCG@10</td>\n",
       "      <td>0.798022</td>\n",
       "      <td>train</td>\n",
       "    </tr>\n",
       "    <tr>\n",
       "      <th>958</th>\n",
       "      <td>LMART_L_FE_DLM</td>\n",
       "      <td>43</td>\n",
       "      <td>nDCG@10</td>\n",
       "      <td>0.796614</td>\n",
       "      <td>test</td>\n",
       "    </tr>\n",
       "    <tr>\n",
       "      <th>910</th>\n",
       "      <td>LMART_L_FE_DLM</td>\n",
       "      <td>29</td>\n",
       "      <td>nDCG@10</td>\n",
       "      <td>0.787955</td>\n",
       "      <td>test</td>\n",
       "    </tr>\n",
       "    <tr>\n",
       "      <th>916</th>\n",
       "      <td>LMART_L_FE_DLM</td>\n",
       "      <td>30</td>\n",
       "      <td>nDCG@10</td>\n",
       "      <td>0.751893</td>\n",
       "      <td>train</td>\n",
       "    </tr>\n",
       "    <tr>\n",
       "      <th>961</th>\n",
       "      <td>LMART_L_FE_DLM</td>\n",
       "      <td>44</td>\n",
       "      <td>nDCG@10</td>\n",
       "      <td>0.732738</td>\n",
       "      <td>train</td>\n",
       "    </tr>\n",
       "    <tr>\n",
       "      <th>934</th>\n",
       "      <td>LMART_L_FE_DLM</td>\n",
       "      <td>36</td>\n",
       "      <td>nDCG@10</td>\n",
       "      <td>0.730274</td>\n",
       "      <td>train</td>\n",
       "    </tr>\n",
       "    <tr>\n",
       "      <th>931</th>\n",
       "      <td>LMART_L_FE_DLM</td>\n",
       "      <td>35</td>\n",
       "      <td>nDCG@10</td>\n",
       "      <td>0.726389</td>\n",
       "      <td>train</td>\n",
       "    </tr>\n",
       "    <tr>\n",
       "      <th>979</th>\n",
       "      <td>LMART_L_FE_DLM</td>\n",
       "      <td>7</td>\n",
       "      <td>nDCG@10</td>\n",
       "      <td>0.722687</td>\n",
       "      <td>train</td>\n",
       "    </tr>\n",
       "    <tr>\n",
       "      <th>976</th>\n",
       "      <td>LMART_L_FE_DLM</td>\n",
       "      <td>6</td>\n",
       "      <td>nDCG@10</td>\n",
       "      <td>0.721007</td>\n",
       "      <td>train</td>\n",
       "    </tr>\n",
       "    <tr>\n",
       "      <th>943</th>\n",
       "      <td>LMART_L_FE_DLM</td>\n",
       "      <td>39</td>\n",
       "      <td>nDCG@10</td>\n",
       "      <td>0.705756</td>\n",
       "      <td>test</td>\n",
       "    </tr>\n",
       "    <tr>\n",
       "      <th>982</th>\n",
       "      <td>LMART_L_FE_DLM</td>\n",
       "      <td>8</td>\n",
       "      <td>nDCG@10</td>\n",
       "      <td>0.703695</td>\n",
       "      <td>test</td>\n",
       "    </tr>\n",
       "    <tr>\n",
       "      <th>892</th>\n",
       "      <td>LMART_L_FE_DLM</td>\n",
       "      <td>23</td>\n",
       "      <td>nDCG@10</td>\n",
       "      <td>0.648228</td>\n",
       "      <td>validation</td>\n",
       "    </tr>\n",
       "    <tr>\n",
       "      <th>877</th>\n",
       "      <td>LMART_L_FE_DLM</td>\n",
       "      <td>19</td>\n",
       "      <td>nDCG@10</td>\n",
       "      <td>0.637474</td>\n",
       "      <td>validation</td>\n",
       "    </tr>\n",
       "    <tr>\n",
       "      <th>895</th>\n",
       "      <td>LMART_L_FE_DLM</td>\n",
       "      <td>24</td>\n",
       "      <td>nDCG@10</td>\n",
       "      <td>0.628300</td>\n",
       "      <td>train</td>\n",
       "    </tr>\n",
       "    <tr>\n",
       "      <th>862</th>\n",
       "      <td>LMART_L_FE_DLM</td>\n",
       "      <td>14</td>\n",
       "      <td>nDCG@10</td>\n",
       "      <td>0.624680</td>\n",
       "      <td>train</td>\n",
       "    </tr>\n",
       "    <tr>\n",
       "      <th>937</th>\n",
       "      <td>LMART_L_FE_DLM</td>\n",
       "      <td>37</td>\n",
       "      <td>nDCG@10</td>\n",
       "      <td>0.609771</td>\n",
       "      <td>train</td>\n",
       "    </tr>\n",
       "    <tr>\n",
       "      <th>874</th>\n",
       "      <td>LMART_L_FE_DLM</td>\n",
       "      <td>18</td>\n",
       "      <td>nDCG@10</td>\n",
       "      <td>0.587766</td>\n",
       "      <td>train</td>\n",
       "    </tr>\n",
       "    <tr>\n",
       "      <th>964</th>\n",
       "      <td>LMART_L_FE_DLM</td>\n",
       "      <td>45</td>\n",
       "      <td>nDCG@10</td>\n",
       "      <td>0.559123</td>\n",
       "      <td>train</td>\n",
       "    </tr>\n",
       "    <tr>\n",
       "      <th>847</th>\n",
       "      <td>LMART_L_FE_DLM</td>\n",
       "      <td>1</td>\n",
       "      <td>nDCG@10</td>\n",
       "      <td>0.557814</td>\n",
       "      <td>train</td>\n",
       "    </tr>\n",
       "    <tr>\n",
       "      <th>868</th>\n",
       "      <td>LMART_L_FE_DLM</td>\n",
       "      <td>16</td>\n",
       "      <td>nDCG@10</td>\n",
       "      <td>0.537382</td>\n",
       "      <td>train</td>\n",
       "    </tr>\n",
       "    <tr>\n",
       "      <th>949</th>\n",
       "      <td>LMART_L_FE_DLM</td>\n",
       "      <td>40</td>\n",
       "      <td>nDCG@10</td>\n",
       "      <td>0.460402</td>\n",
       "      <td>train</td>\n",
       "    </tr>\n",
       "    <tr>\n",
       "      <th>940</th>\n",
       "      <td>LMART_L_FE_DLM</td>\n",
       "      <td>38</td>\n",
       "      <td>nDCG@10</td>\n",
       "      <td>0.429148</td>\n",
       "      <td>train</td>\n",
       "    </tr>\n",
       "    <tr>\n",
       "      <th>907</th>\n",
       "      <td>LMART_L_FE_DLM</td>\n",
       "      <td>28</td>\n",
       "      <td>nDCG@10</td>\n",
       "      <td>0.393173</td>\n",
       "      <td>train</td>\n",
       "    </tr>\n",
       "    <tr>\n",
       "      <th>904</th>\n",
       "      <td>LMART_L_FE_DLM</td>\n",
       "      <td>27</td>\n",
       "      <td>nDCG@10</td>\n",
       "      <td>0.380526</td>\n",
       "      <td>train</td>\n",
       "    </tr>\n",
       "    <tr>\n",
       "      <th>925</th>\n",
       "      <td>LMART_L_FE_DLM</td>\n",
       "      <td>33</td>\n",
       "      <td>nDCG@10</td>\n",
       "      <td>0.354829</td>\n",
       "      <td>train</td>\n",
       "    </tr>\n",
       "    <tr>\n",
       "      <th>901</th>\n",
       "      <td>LMART_L_FE_DLM</td>\n",
       "      <td>26</td>\n",
       "      <td>nDCG@10</td>\n",
       "      <td>0.259658</td>\n",
       "      <td>train</td>\n",
       "    </tr>\n",
       "    <tr>\n",
       "      <th>853</th>\n",
       "      <td>LMART_L_FE_DLM</td>\n",
       "      <td>11</td>\n",
       "      <td>nDCG@10</td>\n",
       "      <td>0.252459</td>\n",
       "      <td>validation</td>\n",
       "    </tr>\n",
       "    <tr>\n",
       "      <th>970</th>\n",
       "      <td>LMART_L_FE_DLM</td>\n",
       "      <td>47</td>\n",
       "      <td>nDCG@10</td>\n",
       "      <td>0.243352</td>\n",
       "      <td>validation</td>\n",
       "    </tr>\n",
       "    <tr>\n",
       "      <th>928</th>\n",
       "      <td>LMART_L_FE_DLM</td>\n",
       "      <td>34</td>\n",
       "      <td>nDCG@10</td>\n",
       "      <td>0.170729</td>\n",
       "      <td>train</td>\n",
       "    </tr>\n",
       "    <tr>\n",
       "      <th>955</th>\n",
       "      <td>LMART_L_FE_DLM</td>\n",
       "      <td>42</td>\n",
       "      <td>nDCG@10</td>\n",
       "      <td>0.158882</td>\n",
       "      <td>train</td>\n",
       "    </tr>\n",
       "    <tr>\n",
       "      <th>952</th>\n",
       "      <td>LMART_L_FE_DLM</td>\n",
       "      <td>41</td>\n",
       "      <td>nDCG@10</td>\n",
       "      <td>0.158129</td>\n",
       "      <td>train</td>\n",
       "    </tr>\n",
       "    <tr>\n",
       "      <th>886</th>\n",
       "      <td>LMART_L_FE_DLM</td>\n",
       "      <td>21</td>\n",
       "      <td>nDCG@10</td>\n",
       "      <td>0.148404</td>\n",
       "      <td>validation</td>\n",
       "    </tr>\n",
       "    <tr>\n",
       "      <th>919</th>\n",
       "      <td>LMART_L_FE_DLM</td>\n",
       "      <td>31</td>\n",
       "      <td>nDCG@10</td>\n",
       "      <td>0.139086</td>\n",
       "      <td>train</td>\n",
       "    </tr>\n",
       "    <tr>\n",
       "      <th>859</th>\n",
       "      <td>LMART_L_FE_DLM</td>\n",
       "      <td>13</td>\n",
       "      <td>nDCG@10</td>\n",
       "      <td>0.000000</td>\n",
       "      <td>train</td>\n",
       "    </tr>\n",
       "  </tbody>\n",
       "</table>\n",
       "</div>"
      ],
      "text/plain": [
       "               name  qid  measure     value       split\n",
       "865  LMART_L_FE_DLM   15  nDCG@10  0.987276        test\n",
       "913  LMART_L_FE_DLM    3  nDCG@10  0.981042       train\n",
       "856  LMART_L_FE_DLM   12  nDCG@10  0.972076       train\n",
       "973  LMART_L_FE_DLM    5  nDCG@10  0.958977       train\n",
       "946  LMART_L_FE_DLM    4  nDCG@10  0.913066       train\n",
       "985  LMART_L_FE_DLM    9  nDCG@10  0.905793       train\n",
       "883  LMART_L_FE_DLM   20  nDCG@10  0.879442       train\n",
       "871  LMART_L_FE_DLM   17  nDCG@10  0.863723       train\n",
       "850  LMART_L_FE_DLM   10  nDCG@10  0.863216       train\n",
       "889  LMART_L_FE_DLM   22  nDCG@10  0.861212       train\n",
       "898  LMART_L_FE_DLM   25  nDCG@10  0.861143       train\n",
       "880  LMART_L_FE_DLM    2  nDCG@10  0.860221       train\n",
       "922  LMART_L_FE_DLM   32  nDCG@10  0.851917       train\n",
       "967  LMART_L_FE_DLM   46  nDCG@10  0.798022       train\n",
       "958  LMART_L_FE_DLM   43  nDCG@10  0.796614        test\n",
       "910  LMART_L_FE_DLM   29  nDCG@10  0.787955        test\n",
       "916  LMART_L_FE_DLM   30  nDCG@10  0.751893       train\n",
       "961  LMART_L_FE_DLM   44  nDCG@10  0.732738       train\n",
       "934  LMART_L_FE_DLM   36  nDCG@10  0.730274       train\n",
       "931  LMART_L_FE_DLM   35  nDCG@10  0.726389       train\n",
       "979  LMART_L_FE_DLM    7  nDCG@10  0.722687       train\n",
       "976  LMART_L_FE_DLM    6  nDCG@10  0.721007       train\n",
       "943  LMART_L_FE_DLM   39  nDCG@10  0.705756        test\n",
       "982  LMART_L_FE_DLM    8  nDCG@10  0.703695        test\n",
       "892  LMART_L_FE_DLM   23  nDCG@10  0.648228  validation\n",
       "877  LMART_L_FE_DLM   19  nDCG@10  0.637474  validation\n",
       "895  LMART_L_FE_DLM   24  nDCG@10  0.628300       train\n",
       "862  LMART_L_FE_DLM   14  nDCG@10  0.624680       train\n",
       "937  LMART_L_FE_DLM   37  nDCG@10  0.609771       train\n",
       "874  LMART_L_FE_DLM   18  nDCG@10  0.587766       train\n",
       "964  LMART_L_FE_DLM   45  nDCG@10  0.559123       train\n",
       "847  LMART_L_FE_DLM    1  nDCG@10  0.557814       train\n",
       "868  LMART_L_FE_DLM   16  nDCG@10  0.537382       train\n",
       "949  LMART_L_FE_DLM   40  nDCG@10  0.460402       train\n",
       "940  LMART_L_FE_DLM   38  nDCG@10  0.429148       train\n",
       "907  LMART_L_FE_DLM   28  nDCG@10  0.393173       train\n",
       "904  LMART_L_FE_DLM   27  nDCG@10  0.380526       train\n",
       "925  LMART_L_FE_DLM   33  nDCG@10  0.354829       train\n",
       "901  LMART_L_FE_DLM   26  nDCG@10  0.259658       train\n",
       "853  LMART_L_FE_DLM   11  nDCG@10  0.252459  validation\n",
       "970  LMART_L_FE_DLM   47  nDCG@10  0.243352  validation\n",
       "928  LMART_L_FE_DLM   34  nDCG@10  0.170729       train\n",
       "955  LMART_L_FE_DLM   42  nDCG@10  0.158882       train\n",
       "952  LMART_L_FE_DLM   41  nDCG@10  0.158129       train\n",
       "886  LMART_L_FE_DLM   21  nDCG@10  0.148404  validation\n",
       "919  LMART_L_FE_DLM   31  nDCG@10  0.139086       train\n",
       "859  LMART_L_FE_DLM   13  nDCG@10  0.000000       train"
      ]
     },
     "execution_count": 68,
     "metadata": {},
     "output_type": "execute_result"
    }
   ],
   "source": [
    "result_df[(result_df['name'] == 'LMART_L_FE_DLM') & (result_df['measure'] == 'nDCG@10')].sort_values(by='value', ascending=False)"
   ]
  },
  {
   "cell_type": "markdown",
   "metadata": {},
   "source": [
    "#### Save the model"
   ]
  },
  {
   "cell_type": "code",
   "execution_count": 37,
   "metadata": {},
   "outputs": [],
   "source": [
    "# lmart_l.booster_.save_model(\"lmart_l_12_2.txt\")"
   ]
  },
  {
   "cell_type": "code",
   "execution_count": 38,
   "metadata": {},
   "outputs": [],
   "source": [
    "all_topics, all_qrels = load_data(annotate_data, \"query\")"
   ]
  },
  {
   "cell_type": "code",
   "execution_count": 39,
   "metadata": {},
   "outputs": [
    {
     "data": {
      "text/html": [
       "<div>\n",
       "<style scoped>\n",
       "    .dataframe tbody tr th:only-of-type {\n",
       "        vertical-align: middle;\n",
       "    }\n",
       "\n",
       "    .dataframe tbody tr th {\n",
       "        vertical-align: top;\n",
       "    }\n",
       "\n",
       "    .dataframe thead th {\n",
       "        text-align: right;\n",
       "    }\n",
       "</style>\n",
       "<table border=\"1\" class=\"dataframe\">\n",
       "  <thead>\n",
       "    <tr style=\"text-align: right;\">\n",
       "      <th></th>\n",
       "      <th>qid</th>\n",
       "      <th>docno</th>\n",
       "      <th>label</th>\n",
       "      <th>query</th>\n",
       "    </tr>\n",
       "  </thead>\n",
       "  <tbody>\n",
       "    <tr>\n",
       "      <th>0</th>\n",
       "      <td>1</td>\n",
       "      <td>243642</td>\n",
       "      <td>2</td>\n",
       "      <td>Movies with epic space battles.</td>\n",
       "    </tr>\n",
       "    <tr>\n",
       "      <th>1</th>\n",
       "      <td>1</td>\n",
       "      <td>260</td>\n",
       "      <td>5</td>\n",
       "      <td>Movies with epic space battles.</td>\n",
       "    </tr>\n",
       "    <tr>\n",
       "      <th>2</th>\n",
       "      <td>1</td>\n",
       "      <td>118696</td>\n",
       "      <td>3</td>\n",
       "      <td>Movies with epic space battles.</td>\n",
       "    </tr>\n",
       "    <tr>\n",
       "      <th>3</th>\n",
       "      <td>1</td>\n",
       "      <td>3053</td>\n",
       "      <td>1</td>\n",
       "      <td>Movies with epic space battles.</td>\n",
       "    </tr>\n",
       "    <tr>\n",
       "      <th>4</th>\n",
       "      <td>1</td>\n",
       "      <td>96193</td>\n",
       "      <td>1</td>\n",
       "      <td>Movies with epic space battles.</td>\n",
       "    </tr>\n",
       "    <tr>\n",
       "      <th>...</th>\n",
       "      <td>...</td>\n",
       "      <td>...</td>\n",
       "      <td>...</td>\n",
       "      <td>...</td>\n",
       "    </tr>\n",
       "    <tr>\n",
       "      <th>2754</th>\n",
       "      <td>47</td>\n",
       "      <td>284933</td>\n",
       "      <td>1</td>\n",
       "      <td>Historical epics depicting grand-scale conflicts.</td>\n",
       "    </tr>\n",
       "    <tr>\n",
       "      <th>2755</th>\n",
       "      <td>47</td>\n",
       "      <td>172137</td>\n",
       "      <td>1</td>\n",
       "      <td>Historical epics depicting grand-scale conflicts.</td>\n",
       "    </tr>\n",
       "    <tr>\n",
       "      <th>2756</th>\n",
       "      <td>47</td>\n",
       "      <td>159151</td>\n",
       "      <td>1</td>\n",
       "      <td>Historical epics depicting grand-scale conflicts.</td>\n",
       "    </tr>\n",
       "    <tr>\n",
       "      <th>2757</th>\n",
       "      <td>47</td>\n",
       "      <td>127726</td>\n",
       "      <td>1</td>\n",
       "      <td>Historical epics depicting grand-scale conflicts.</td>\n",
       "    </tr>\n",
       "    <tr>\n",
       "      <th>2758</th>\n",
       "      <td>47</td>\n",
       "      <td>209873</td>\n",
       "      <td>1</td>\n",
       "      <td>Historical epics depicting grand-scale conflicts.</td>\n",
       "    </tr>\n",
       "  </tbody>\n",
       "</table>\n",
       "<p>2759 rows × 4 columns</p>\n",
       "</div>"
      ],
      "text/plain": [
       "     qid   docno  label                                              query\n",
       "0      1  243642      2                    Movies with epic space battles.\n",
       "1      1     260      5                    Movies with epic space battles.\n",
       "2      1  118696      3                    Movies with epic space battles.\n",
       "3      1    3053      1                    Movies with epic space battles.\n",
       "4      1   96193      1                    Movies with epic space battles.\n",
       "...   ..     ...    ...                                                ...\n",
       "2754  47  284933      1  Historical epics depicting grand-scale conflicts.\n",
       "2755  47  172137      1  Historical epics depicting grand-scale conflicts.\n",
       "2756  47  159151      1  Historical epics depicting grand-scale conflicts.\n",
       "2757  47  127726      1  Historical epics depicting grand-scale conflicts.\n",
       "2758  47  209873      1  Historical epics depicting grand-scale conflicts.\n",
       "\n",
       "[2759 rows x 4 columns]"
      ]
     },
     "execution_count": 39,
     "metadata": {},
     "output_type": "execute_result"
    }
   ],
   "source": [
    "all_qrels"
   ]
  },
  {
   "cell_type": "code",
   "execution_count": 40,
   "metadata": {},
   "outputs": [
    {
     "name": "stderr",
     "output_type": "stream",
     "text": [
      "pt.Experiment:  29%|██▊       | 2/7 [00:01<00:04,  1.22system/s]"
     ]
    },
    {
     "name": "stdout",
     "output_type": "stream",
     "text": [
      "02:19:49.775 [main] WARN org.terrier.querying.ApplyTermPipeline - The index has no termpipelines configuration, and no control configuration is found. Defaulting to global termpipelines configuration of 'Stopwords,PorterStemmer'. Set a termpipelines control to remove this warning.\n",
      "02:19:50.382 [main] WARN org.terrier.querying.ApplyTermPipeline - The index has no termpipelines configuration, and no control configuration is found. Defaulting to global termpipelines configuration of 'Stopwords,PorterStemmer'. Set a termpipelines control to remove this warning.\n"
     ]
    },
    {
     "name": "stderr",
     "output_type": "stream",
     "text": [
      "/Users/haoyang/miniconda3/envs/si650/lib/python3.11/site-packages/lightgbm/sklearn.py:682: UserWarning: Found 'eval_at' in params. Will use it instead of 'eval_at' argument\n",
      "  _log_warning(f\"Found '{alias}' in params. Will use it instead of 'eval_at' argument\")\n",
      "pt.Experiment:  43%|████▎     | 3/7 [00:03<00:05,  1.37s/system]"
     ]
    },
    {
     "name": "stdout",
     "output_type": "stream",
     "text": [
      "02:19:52.087 [main] WARN org.terrier.querying.ApplyTermPipeline - The index has no termpipelines configuration, and no control configuration is found. Defaulting to global termpipelines configuration of 'Stopwords,PorterStemmer'. Set a termpipelines control to remove this warning.\n",
      "02:19:52.691 [main] WARN org.terrier.querying.ApplyTermPipeline - The index has no termpipelines configuration, and no control configuration is found. Defaulting to global termpipelines configuration of 'Stopwords,PorterStemmer'. Set a termpipelines control to remove this warning.\n"
     ]
    },
    {
     "name": "stderr",
     "output_type": "stream",
     "text": [
      "/Users/haoyang/miniconda3/envs/si650/lib/python3.11/site-packages/lightgbm/sklearn.py:682: UserWarning: Found 'eval_at' in params. Will use it instead of 'eval_at' argument\n",
      "  _log_warning(f\"Found '{alias}' in params. Will use it instead of 'eval_at' argument\")\n",
      "pt.Experiment:  71%|███████▏  | 5/7 [00:07<00:02,  1.48s/system]"
     ]
    },
    {
     "name": "stdout",
     "output_type": "stream",
     "text": [
      "02:19:55.158 [main] WARN org.terrier.querying.ApplyTermPipeline - The index has no termpipelines configuration, and no control configuration is found. Defaulting to global termpipelines configuration of 'Stopwords,PorterStemmer'. Set a termpipelines control to remove this warning.\n",
      "02:19:55.760 [main] WARN org.terrier.querying.ApplyTermPipeline - The index has no termpipelines configuration, and no control configuration is found. Defaulting to global termpipelines configuration of 'Stopwords,PorterStemmer'. Set a termpipelines control to remove this warning.\n"
     ]
    },
    {
     "name": "stderr",
     "output_type": "stream",
     "text": [
      "/Users/haoyang/miniconda3/envs/si650/lib/python3.11/site-packages/lightgbm/sklearn.py:682: UserWarning: Found 'eval_at' in params. Will use it instead of 'eval_at' argument\n",
      "  _log_warning(f\"Found '{alias}' in params. Will use it instead of 'eval_at' argument\")\n",
      "pt.Experiment:  86%|████████▌ | 6/7 [00:09<00:01,  1.69s/system]"
     ]
    },
    {
     "name": "stdout",
     "output_type": "stream",
     "text": [
      "02:19:57.540 [main] WARN org.terrier.querying.ApplyTermPipeline - The index has no termpipelines configuration, and no control configuration is found. Defaulting to global termpipelines configuration of 'Stopwords,PorterStemmer'. Set a termpipelines control to remove this warning.\n",
      "02:19:58.156 [main] WARN org.terrier.querying.ApplyTermPipeline - The index has no termpipelines configuration, and no control configuration is found. Defaulting to global termpipelines configuration of 'Stopwords,PorterStemmer'. Set a termpipelines control to remove this warning.\n"
     ]
    },
    {
     "name": "stderr",
     "output_type": "stream",
     "text": [
      "/Users/haoyang/miniconda3/envs/si650/lib/python3.11/site-packages/lightgbm/sklearn.py:682: UserWarning: Found 'eval_at' in params. Will use it instead of 'eval_at' argument\n",
      "  _log_warning(f\"Found '{alias}' in params. Will use it instead of 'eval_at' argument\")\n",
      "pt.Experiment: 100%|██████████| 7/7 [00:11<00:00,  1.64s/system]\n"
     ]
    },
    {
     "data": {
      "text/html": [
       "<div>\n",
       "<style scoped>\n",
       "    .dataframe tbody tr th:only-of-type {\n",
       "        vertical-align: middle;\n",
       "    }\n",
       "\n",
       "    .dataframe tbody tr th {\n",
       "        vertical-align: top;\n",
       "    }\n",
       "\n",
       "    .dataframe thead th {\n",
       "        text-align: right;\n",
       "    }\n",
       "</style>\n",
       "<table border=\"1\" class=\"dataframe\">\n",
       "  <thead>\n",
       "    <tr style=\"text-align: right;\">\n",
       "      <th></th>\n",
       "      <th>name</th>\n",
       "      <th>qid</th>\n",
       "      <th>measure</th>\n",
       "      <th>value</th>\n",
       "    </tr>\n",
       "  </thead>\n",
       "  <tbody>\n",
       "    <tr>\n",
       "      <th>0</th>\n",
       "      <td>BM25</td>\n",
       "      <td>1</td>\n",
       "      <td>recip_rank</td>\n",
       "      <td>1.000000</td>\n",
       "    </tr>\n",
       "    <tr>\n",
       "      <th>1</th>\n",
       "      <td>BM25</td>\n",
       "      <td>1</td>\n",
       "      <td>nDCG@10</td>\n",
       "      <td>0.400779</td>\n",
       "    </tr>\n",
       "    <tr>\n",
       "      <th>2</th>\n",
       "      <td>BM25</td>\n",
       "      <td>1</td>\n",
       "      <td>AP(rel=3)@10</td>\n",
       "      <td>0.043210</td>\n",
       "    </tr>\n",
       "    <tr>\n",
       "      <th>27</th>\n",
       "      <td>BM25</td>\n",
       "      <td>10</td>\n",
       "      <td>recip_rank</td>\n",
       "      <td>1.000000</td>\n",
       "    </tr>\n",
       "    <tr>\n",
       "      <th>28</th>\n",
       "      <td>BM25</td>\n",
       "      <td>10</td>\n",
       "      <td>nDCG@10</td>\n",
       "      <td>0.717934</td>\n",
       "    </tr>\n",
       "    <tr>\n",
       "      <th>...</th>\n",
       "      <td>...</td>\n",
       "      <td>...</td>\n",
       "      <td>...</td>\n",
       "      <td>...</td>\n",
       "    </tr>\n",
       "    <tr>\n",
       "      <th>868</th>\n",
       "      <td>LMART_L_FE_DLM</td>\n",
       "      <td>8</td>\n",
       "      <td>nDCG@10</td>\n",
       "      <td>0.703695</td>\n",
       "    </tr>\n",
       "    <tr>\n",
       "      <th>869</th>\n",
       "      <td>LMART_L_FE_DLM</td>\n",
       "      <td>8</td>\n",
       "      <td>AP(rel=3)@10</td>\n",
       "      <td>0.109135</td>\n",
       "    </tr>\n",
       "    <tr>\n",
       "      <th>870</th>\n",
       "      <td>LMART_L_FE_DLM</td>\n",
       "      <td>9</td>\n",
       "      <td>recip_rank</td>\n",
       "      <td>1.000000</td>\n",
       "    </tr>\n",
       "    <tr>\n",
       "      <th>871</th>\n",
       "      <td>LMART_L_FE_DLM</td>\n",
       "      <td>9</td>\n",
       "      <td>nDCG@10</td>\n",
       "      <td>0.905793</td>\n",
       "    </tr>\n",
       "    <tr>\n",
       "      <th>872</th>\n",
       "      <td>LMART_L_FE_DLM</td>\n",
       "      <td>9</td>\n",
       "      <td>AP(rel=3)@10</td>\n",
       "      <td>0.217391</td>\n",
       "    </tr>\n",
       "  </tbody>\n",
       "</table>\n",
       "<p>987 rows × 4 columns</p>\n",
       "</div>"
      ],
      "text/plain": [
       "               name qid       measure     value\n",
       "0              BM25   1    recip_rank  1.000000\n",
       "1              BM25   1       nDCG@10  0.400779\n",
       "2              BM25   1  AP(rel=3)@10  0.043210\n",
       "27             BM25  10    recip_rank  1.000000\n",
       "28             BM25  10       nDCG@10  0.717934\n",
       "..              ...  ..           ...       ...\n",
       "868  LMART_L_FE_DLM   8       nDCG@10  0.703695\n",
       "869  LMART_L_FE_DLM   8  AP(rel=3)@10  0.109135\n",
       "870  LMART_L_FE_DLM   9    recip_rank  1.000000\n",
       "871  LMART_L_FE_DLM   9       nDCG@10  0.905793\n",
       "872  LMART_L_FE_DLM   9  AP(rel=3)@10  0.217391\n",
       "\n",
       "[987 rows x 4 columns]"
      ]
     },
     "execution_count": 40,
     "metadata": {},
     "output_type": "execute_result"
    }
   ],
   "source": [
    "result_df = pt.Experiment(\n",
    "    [pipeline_1, pipeline_0, pipeline_2, pipeline_3, pipeline_4, pipeline_5, pipeline_6],\n",
    "    all_topics,\n",
    "    all_qrels,\n",
    "    eval_metrics=[AP(rel=3, cutoff=10), nDCG(cutoff=10), \"recip_rank\"],\n",
    "    names=[\"BM25\", \"DLM\", \"LMART_L\", \"LMART_L_FE\", \"BM25_DLM\", \"LMART_L_DLM\", \"LMART_L_FE_DLM\"],\n",
    "    verbose=True,\n",
    "    perquery=True\n",
    ")\n",
    "result_df"
   ]
  },
  {
   "cell_type": "code",
   "execution_count": 41,
   "metadata": {},
   "outputs": [],
   "source": [
    "def mapper(qid):\n",
    "    if int(qid) in train_df.qid.unique():\n",
    "        return \"train\"\n",
    "    elif int(qid) in validation_df.qid.unique():\n",
    "        return \"validation\"\n",
    "    else:\n",
    "        return \"test\"\n",
    "\n",
    "result_df['split'] = result_df['qid'].apply(mapper)"
   ]
  },
  {
   "cell_type": "code",
   "execution_count": 42,
   "metadata": {},
   "outputs": [],
   "source": [
    "result_df.to_csv('./data/results_12_2.csv', index=False)"
   ]
  },
  {
   "cell_type": "code",
   "execution_count": 43,
   "metadata": {},
   "outputs": [
    {
     "data": {
      "image/png": "[encoded data removed]",
      "text/plain": [
       "<Figure size 1600x600 with 1 Axes>"
      ]
     },
     "metadata": {},
     "output_type": "display_data"
    }
   ],
   "source": [
    "import seaborn as sns\n",
    "import matplotlib.pyplot as plt\n",
    "\n",
    "result_df = pd.read_csv('./data/results_12_2.csv')\n",
    "result_df.head()\n",
    "result_df = result_df[(result_df['measure'] != 'recip_rank') & (result_df['split'] == 'test')]\n",
    "# set the color palette\n",
    "plt.figure(figsize=(16, 6))\n",
    "ax = sns.barplot(x='name', y='value', hue='measure', data=result_df.sort_values(by=['measure', 'name']))\n",
    "ax.set(ylim=(0, 1))\n",
    "ax.bar_label(ax.containers[0], fontsize=10, color='darkblue', fmt='%.3f')\n",
    "ax.bar_label(ax.containers[1], fontsize=10, color='darkred', fmt='%.3f')\n",
    "# make legend outside the plot\n",
    "plt.legend(bbox_to_anchor=(1.05, 1), loc=2, borderaxespad=0.)\n",
    "plt.xlabel('Ranker')\n",
    "plt.ylabel('Metric')\n",
    "plt.title('Comparison of Rankers')\n",
    "plt.savefig('./data/rankers_comparison_test_12_2.png')"
   ]
  },
  {
   "cell_type": "code",
   "execution_count": 44,
   "metadata": {},
   "outputs": [],
   "source": [
    "tmp = all_qrels[['qid', 'query']].drop_duplicates()"
   ]
  },
  {
   "cell_type": "code",
   "execution_count": 45,
   "metadata": {},
   "outputs": [
    {
     "name": "stdout",
     "output_type": "stream",
     "text": [
      "Movies with epic space battles.\n",
      "02:19:58.701 [main] WARN org.terrier.querying.ApplyTermPipeline - The index has no termpipelines configuration, and no control configuration is found. Defaulting to global termpipelines configuration of 'Stopwords,PorterStemmer'. Set a termpipelines control to remove this warning.\n",
      "02:19:58.726 [main] WARN org.terrier.querying.ApplyTermPipeline - The index has no termpipelines configuration, and no control configuration is found. Defaulting to global termpipelines configuration of 'Stopwords,PorterStemmer'. Set a termpipelines control to remove this warning.\n",
      "02:19:58.794 [main] WARN org.terrier.querying.ApplyTermPipeline - The index has no termpipelines configuration, and no control configuration is found. Defaulting to global termpipelines configuration of 'Stopwords,PorterStemmer'. Set a termpipelines control to remove this warning.\n",
      "02:19:58.827 [main] WARN org.terrier.querying.ApplyTermPipeline - The index has no termpipelines configuration, and no control configuration is found. Defaulting to global termpipelines configuration of 'Stopwords,PorterStemmer'. Set a termpipelines control to remove this warning.\n",
      "Romantic comedies with mistaken identity.\n",
      "02:19:58.895 [main] WARN org.terrier.querying.ApplyTermPipeline - The index has no termpipelines configuration, and no control configuration is found. Defaulting to global termpipelines configuration of 'Stopwords,PorterStemmer'. Set a termpipelines control to remove this warning.\n",
      "02:19:58.926 [main] WARN org.terrier.querying.ApplyTermPipeline - The index has no termpipelines configuration, and no control configuration is found. Defaulting to global termpipelines configuration of 'Stopwords,PorterStemmer'. Set a termpipelines control to remove this warning.\n"
     ]
    },
    {
     "name": "stderr",
     "output_type": "stream",
     "text": [
      "/Users/haoyang/miniconda3/envs/si650/lib/python3.11/site-packages/lightgbm/sklearn.py:682: UserWarning: Found 'eval_at' in params. Will use it instead of 'eval_at' argument\n",
      "  _log_warning(f\"Found '{alias}' in params. Will use it instead of 'eval_at' argument\")\n",
      "/Users/haoyang/miniconda3/envs/si650/lib/python3.11/site-packages/lightgbm/sklearn.py:682: UserWarning: Found 'eval_at' in params. Will use it instead of 'eval_at' argument\n",
      "  _log_warning(f\"Found '{alias}' in params. Will use it instead of 'eval_at' argument\")\n"
     ]
    },
    {
     "name": "stdout",
     "output_type": "stream",
     "text": [
      "02:19:59.016 [main] WARN org.terrier.querying.ApplyTermPipeline - The index has no termpipelines configuration, and no control configuration is found. Defaulting to global termpipelines configuration of 'Stopwords,PorterStemmer'. Set a termpipelines control to remove this warning.\n",
      "02:19:59.052 [main] WARN org.terrier.querying.ApplyTermPipeline - The index has no termpipelines configuration, and no control configuration is found. Defaulting to global termpipelines configuration of 'Stopwords,PorterStemmer'. Set a termpipelines control to remove this warning.\n",
      "Animated films featuring anthropomorphic animals.\n",
      "02:19:59.135 [main] WARN org.terrier.querying.ApplyTermPipeline - The index has no termpipelines configuration, and no control configuration is found. Defaulting to global termpipelines configuration of 'Stopwords,PorterStemmer'. Set a termpipelines control to remove this warning.\n"
     ]
    },
    {
     "name": "stderr",
     "output_type": "stream",
     "text": [
      "/Users/haoyang/miniconda3/envs/si650/lib/python3.11/site-packages/lightgbm/sklearn.py:682: UserWarning: Found 'eval_at' in params. Will use it instead of 'eval_at' argument\n",
      "  _log_warning(f\"Found '{alias}' in params. Will use it instead of 'eval_at' argument\")\n",
      "/Users/haoyang/miniconda3/envs/si650/lib/python3.11/site-packages/lightgbm/sklearn.py:682: UserWarning: Found 'eval_at' in params. Will use it instead of 'eval_at' argument\n",
      "  _log_warning(f\"Found '{alias}' in params. Will use it instead of 'eval_at' argument\")\n"
     ]
    },
    {
     "name": "stdout",
     "output_type": "stream",
     "text": [
      "02:19:59.170 [main] WARN org.terrier.querying.ApplyTermPipeline - The index has no termpipelines configuration, and no control configuration is found. Defaulting to global termpipelines configuration of 'Stopwords,PorterStemmer'. Set a termpipelines control to remove this warning.\n",
      "02:19:59.253 [main] WARN org.terrier.querying.ApplyTermPipeline - The index has no termpipelines configuration, and no control configuration is found. Defaulting to global termpipelines configuration of 'Stopwords,PorterStemmer'. Set a termpipelines control to remove this warning.\n",
      "02:19:59.284 [main] WARN org.terrier.querying.ApplyTermPipeline - The index has no termpipelines configuration, and no control configuration is found. Defaulting to global termpipelines configuration of 'Stopwords,PorterStemmer'. Set a termpipelines control to remove this warning.\n",
      "Fantasy movies with magical creatures.\n",
      "02:19:59.364 [main] WARN org.terrier.querying.ApplyTermPipeline - The index has no termpipelines configuration, and no control configuration is found. Defaulting to global termpipelines configuration of 'Stopwords,PorterStemmer'. Set a termpipelines control to remove this warning.\n"
     ]
    },
    {
     "name": "stderr",
     "output_type": "stream",
     "text": [
      "/Users/haoyang/miniconda3/envs/si650/lib/python3.11/site-packages/lightgbm/sklearn.py:682: UserWarning: Found 'eval_at' in params. Will use it instead of 'eval_at' argument\n",
      "  _log_warning(f\"Found '{alias}' in params. Will use it instead of 'eval_at' argument\")\n",
      "/Users/haoyang/miniconda3/envs/si650/lib/python3.11/site-packages/lightgbm/sklearn.py:682: UserWarning: Found 'eval_at' in params. Will use it instead of 'eval_at' argument\n",
      "  _log_warning(f\"Found '{alias}' in params. Will use it instead of 'eval_at' argument\")\n"
     ]
    },
    {
     "name": "stdout",
     "output_type": "stream",
     "text": [
      "02:19:59.411 [main] WARN org.terrier.querying.ApplyTermPipeline - The index has no termpipelines configuration, and no control configuration is found. Defaulting to global termpipelines configuration of 'Stopwords,PorterStemmer'. Set a termpipelines control to remove this warning.\n",
      "02:19:59.496 [main] WARN org.terrier.querying.ApplyTermPipeline - The index has no termpipelines configuration, and no control configuration is found. Defaulting to global termpipelines configuration of 'Stopwords,PorterStemmer'. Set a termpipelines control to remove this warning.\n",
      "02:19:59.532 [main] WARN org.terrier.querying.ApplyTermPipeline - The index has no termpipelines configuration, and no control configuration is found. Defaulting to global termpipelines configuration of 'Stopwords,PorterStemmer'. Set a termpipelines control to remove this warning.\n",
      "War films set during World War II.\n",
      "02:19:59.607 [main] WARN org.terrier.querying.ApplyTermPipeline - The index has no termpipelines configuration, and no control configuration is found. Defaulting to global termpipelines configuration of 'Stopwords,PorterStemmer'. Set a termpipelines control to remove this warning.\n"
     ]
    },
    {
     "name": "stderr",
     "output_type": "stream",
     "text": [
      "/Users/haoyang/miniconda3/envs/si650/lib/python3.11/site-packages/lightgbm/sklearn.py:682: UserWarning: Found 'eval_at' in params. Will use it instead of 'eval_at' argument\n",
      "  _log_warning(f\"Found '{alias}' in params. Will use it instead of 'eval_at' argument\")\n",
      "/Users/haoyang/miniconda3/envs/si650/lib/python3.11/site-packages/lightgbm/sklearn.py:682: UserWarning: Found 'eval_at' in params. Will use it instead of 'eval_at' argument\n",
      "  _log_warning(f\"Found '{alias}' in params. Will use it instead of 'eval_at' argument\")\n"
     ]
    },
    {
     "name": "stdout",
     "output_type": "stream",
     "text": [
      "02:19:59.647 [main] WARN org.terrier.querying.ApplyTermPipeline - The index has no termpipelines configuration, and no control configuration is found. Defaulting to global termpipelines configuration of 'Stopwords,PorterStemmer'. Set a termpipelines control to remove this warning.\n",
      "02:19:59.734 [main] WARN org.terrier.querying.ApplyTermPipeline - The index has no termpipelines configuration, and no control configuration is found. Defaulting to global termpipelines configuration of 'Stopwords,PorterStemmer'. Set a termpipelines control to remove this warning.\n",
      "02:19:59.764 [main] WARN org.terrier.querying.ApplyTermPipeline - The index has no termpipelines configuration, and no control configuration is found. Defaulting to global termpipelines configuration of 'Stopwords,PorterStemmer'. Set a termpipelines control to remove this warning.\n",
      "Films with memorable car chase sequences.\n",
      "02:19:59.831 [main] WARN org.terrier.querying.ApplyTermPipeline - The index has no termpipelines configuration, and no control configuration is found. Defaulting to global termpipelines configuration of 'Stopwords,PorterStemmer'. Set a termpipelines control to remove this warning.\n",
      "02:19:59.866 [main] WARN org.terrier.querying.ApplyTermPipeline - The index has no termpipelines configuration, and no control configuration is found. Defaulting to global termpipelines configuration of 'Stopwords,PorterStemmer'. Set a termpipelines control to remove this warning.\n"
     ]
    },
    {
     "name": "stderr",
     "output_type": "stream",
     "text": [
      "/Users/haoyang/miniconda3/envs/si650/lib/python3.11/site-packages/lightgbm/sklearn.py:682: UserWarning: Found 'eval_at' in params. Will use it instead of 'eval_at' argument\n",
      "  _log_warning(f\"Found '{alias}' in params. Will use it instead of 'eval_at' argument\")\n",
      "/Users/haoyang/miniconda3/envs/si650/lib/python3.11/site-packages/lightgbm/sklearn.py:682: UserWarning: Found 'eval_at' in params. Will use it instead of 'eval_at' argument\n",
      "  _log_warning(f\"Found '{alias}' in params. Will use it instead of 'eval_at' argument\")\n"
     ]
    },
    {
     "name": "stdout",
     "output_type": "stream",
     "text": [
      "02:19:59.951 [main] WARN org.terrier.querying.ApplyTermPipeline - The index has no termpipelines configuration, and no control configuration is found. Defaulting to global termpipelines configuration of 'Stopwords,PorterStemmer'. Set a termpipelines control to remove this warning.\n",
      "02:19:59.992 [main] WARN org.terrier.querying.ApplyTermPipeline - The index has no termpipelines configuration, and no control configuration is found. Defaulting to global termpipelines configuration of 'Stopwords,PorterStemmer'. Set a termpipelines control to remove this warning.\n",
      "Documentaries exploring environmental issues.\n",
      "02:20:00.059 [main] WARN org.terrier.querying.ApplyTermPipeline - The index has no termpipelines configuration, and no control configuration is found. Defaulting to global termpipelines configuration of 'Stopwords,PorterStemmer'. Set a termpipelines control to remove this warning.\n",
      "02:20:00.089 [main] WARN org.terrier.querying.ApplyTermPipeline - The index has no termpipelines configuration, and no control configuration is found. Defaulting to global termpipelines configuration of 'Stopwords,PorterStemmer'. Set a termpipelines control to remove this warning.\n"
     ]
    },
    {
     "name": "stderr",
     "output_type": "stream",
     "text": [
      "/Users/haoyang/miniconda3/envs/si650/lib/python3.11/site-packages/lightgbm/sklearn.py:682: UserWarning: Found 'eval_at' in params. Will use it instead of 'eval_at' argument\n",
      "  _log_warning(f\"Found '{alias}' in params. Will use it instead of 'eval_at' argument\")\n",
      "/Users/haoyang/miniconda3/envs/si650/lib/python3.11/site-packages/lightgbm/sklearn.py:682: UserWarning: Found 'eval_at' in params. Will use it instead of 'eval_at' argument\n",
      "  _log_warning(f\"Found '{alias}' in params. Will use it instead of 'eval_at' argument\")\n"
     ]
    },
    {
     "name": "stdout",
     "output_type": "stream",
     "text": [
      "02:20:00.162 [main] WARN org.terrier.querying.ApplyTermPipeline - The index has no termpipelines configuration, and no control configuration is found. Defaulting to global termpipelines configuration of 'Stopwords,PorterStemmer'. Set a termpipelines control to remove this warning.\n",
      "02:20:00.188 [main] WARN org.terrier.querying.ApplyTermPipeline - The index has no termpipelines configuration, and no control configuration is found. Defaulting to global termpipelines configuration of 'Stopwords,PorterStemmer'. Set a termpipelines control to remove this warning.\n",
      "Crime thrillers with suspenseful interrogation scenes.\n",
      "02:20:00.263 [main] WARN org.terrier.querying.ApplyTermPipeline - The index has no termpipelines configuration, and no control configuration is found. Defaulting to global termpipelines configuration of 'Stopwords,PorterStemmer'. Set a termpipelines control to remove this warning.\n",
      "02:20:00.291 [main] WARN org.terrier.querying.ApplyTermPipeline - The index has no termpipelines configuration, and no control configuration is found. Defaulting to global termpipelines configuration of 'Stopwords,PorterStemmer'. Set a termpipelines control to remove this warning.\n"
     ]
    },
    {
     "name": "stderr",
     "output_type": "stream",
     "text": [
      "/Users/haoyang/miniconda3/envs/si650/lib/python3.11/site-packages/lightgbm/sklearn.py:682: UserWarning: Found 'eval_at' in params. Will use it instead of 'eval_at' argument\n",
      "  _log_warning(f\"Found '{alias}' in params. Will use it instead of 'eval_at' argument\")\n",
      "/Users/haoyang/miniconda3/envs/si650/lib/python3.11/site-packages/lightgbm/sklearn.py:682: UserWarning: Found 'eval_at' in params. Will use it instead of 'eval_at' argument\n",
      "  _log_warning(f\"Found '{alias}' in params. Will use it instead of 'eval_at' argument\")\n",
      "/Users/haoyang/miniconda3/envs/si650/lib/python3.11/site-packages/lightgbm/sklearn.py:682: UserWarning: Found 'eval_at' in params. Will use it instead of 'eval_at' argument\n",
      "  _log_warning(f\"Found '{alias}' in params. Will use it instead of 'eval_at' argument\")\n"
     ]
    },
    {
     "name": "stdout",
     "output_type": "stream",
     "text": [
      "02:20:00.369 [main] WARN org.terrier.querying.ApplyTermPipeline - The index has no termpipelines configuration, and no control configuration is found. Defaulting to global termpipelines configuration of 'Stopwords,PorterStemmer'. Set a termpipelines control to remove this warning.\n",
      "02:20:00.404 [main] WARN org.terrier.querying.ApplyTermPipeline - The index has no termpipelines configuration, and no control configuration is found. Defaulting to global termpipelines configuration of 'Stopwords,PorterStemmer'. Set a termpipelines control to remove this warning.\n",
      "Historical dramas with powerful courtroom scenes.\n",
      "02:20:00.479 [main] WARN org.terrier.querying.ApplyTermPipeline - The index has no termpipelines configuration, and no control configuration is found. Defaulting to global termpipelines configuration of 'Stopwords,PorterStemmer'. Set a termpipelines control to remove this warning.\n",
      "02:20:00.518 [main] WARN org.terrier.querying.ApplyTermPipeline - The index has no termpipelines configuration, and no control configuration is found. Defaulting to global termpipelines configuration of 'Stopwords,PorterStemmer'. Set a termpipelines control to remove this warning.\n",
      "02:20:00.603 [main] WARN org.terrier.querying.ApplyTermPipeline - The index has no termpipelines configuration, and no control configuration is found. Defaulting to global termpipelines configuration of 'Stopwords,PorterStemmer'. Set a termpipelines control to remove this warning.\n"
     ]
    },
    {
     "name": "stderr",
     "output_type": "stream",
     "text": [
      "/Users/haoyang/miniconda3/envs/si650/lib/python3.11/site-packages/lightgbm/sklearn.py:682: UserWarning: Found 'eval_at' in params. Will use it instead of 'eval_at' argument\n",
      "  _log_warning(f\"Found '{alias}' in params. Will use it instead of 'eval_at' argument\")\n",
      "/Users/haoyang/miniconda3/envs/si650/lib/python3.11/site-packages/lightgbm/sklearn.py:682: UserWarning: Found 'eval_at' in params. Will use it instead of 'eval_at' argument\n",
      "  _log_warning(f\"Found '{alias}' in params. Will use it instead of 'eval_at' argument\")\n"
     ]
    },
    {
     "name": "stdout",
     "output_type": "stream",
     "text": [
      "02:20:00.637 [main] WARN org.terrier.querying.ApplyTermPipeline - The index has no termpipelines configuration, and no control configuration is found. Defaulting to global termpipelines configuration of 'Stopwords,PorterStemmer'. Set a termpipelines control to remove this warning.\n",
      "Science fiction movies with futuristic cityscapes.\n",
      "02:20:00.717 [main] WARN org.terrier.querying.ApplyTermPipeline - The index has no termpipelines configuration, and no control configuration is found. Defaulting to global termpipelines configuration of 'Stopwords,PorterStemmer'. Set a termpipelines control to remove this warning.\n",
      "02:20:00.779 [main] WARN org.terrier.querying.ApplyTermPipeline - The index has no termpipelines configuration, and no control configuration is found. Defaulting to global termpipelines configuration of 'Stopwords,PorterStemmer'. Set a termpipelines control to remove this warning.\n",
      "02:20:00.846 [main] WARN org.terrier.querying.ApplyTermPipeline - The index has no termpipelines configuration, and no control configuration is found. Defaulting to global termpipelines configuration of 'Stopwords,PorterStemmer'. Set a termpipelines control to remove this warning.\n"
     ]
    },
    {
     "name": "stderr",
     "output_type": "stream",
     "text": [
      "/Users/haoyang/miniconda3/envs/si650/lib/python3.11/site-packages/lightgbm/sklearn.py:682: UserWarning: Found 'eval_at' in params. Will use it instead of 'eval_at' argument\n",
      "  _log_warning(f\"Found '{alias}' in params. Will use it instead of 'eval_at' argument\")\n",
      "/Users/haoyang/miniconda3/envs/si650/lib/python3.11/site-packages/lightgbm/sklearn.py:682: UserWarning: Found 'eval_at' in params. Will use it instead of 'eval_at' argument\n",
      "  _log_warning(f\"Found '{alias}' in params. Will use it instead of 'eval_at' argument\")\n"
     ]
    },
    {
     "name": "stdout",
     "output_type": "stream",
     "text": [
      "02:20:00.881 [main] WARN org.terrier.querying.ApplyTermPipeline - The index has no termpipelines configuration, and no control configuration is found. Defaulting to global termpipelines configuration of 'Stopwords,PorterStemmer'. Set a termpipelines control to remove this warning.\n",
      "Psychological thrillers with unexpected and shocking endings.\n",
      "02:20:00.946 [main] WARN org.terrier.querying.ApplyTermPipeline - The index has no termpipelines configuration, and no control configuration is found. Defaulting to global termpipelines configuration of 'Stopwords,PorterStemmer'. Set a termpipelines control to remove this warning.\n",
      "02:20:00.977 [main] WARN org.terrier.querying.ApplyTermPipeline - The index has no termpipelines configuration, and no control configuration is found. Defaulting to global termpipelines configuration of 'Stopwords,PorterStemmer'. Set a termpipelines control to remove this warning.\n",
      "02:20:01.053 [main] WARN org.terrier.querying.ApplyTermPipeline - The index has no termpipelines configuration, and no control configuration is found. Defaulting to global termpipelines configuration of 'Stopwords,PorterStemmer'. Set a termpipelines control to remove this warning.\n",
      "02:20:01.084 [main] WARN org.terrier.querying.ApplyTermPipeline - The index has no termpipelines configuration, and no control configuration is found. Defaulting to global termpipelines configuration of 'Stopwords,PorterStemmer'. Set a termpipelines control to remove this warning.\n"
     ]
    },
    {
     "name": "stderr",
     "output_type": "stream",
     "text": [
      "/Users/haoyang/miniconda3/envs/si650/lib/python3.11/site-packages/lightgbm/sklearn.py:682: UserWarning: Found 'eval_at' in params. Will use it instead of 'eval_at' argument\n",
      "  _log_warning(f\"Found '{alias}' in params. Will use it instead of 'eval_at' argument\")\n",
      "/Users/haoyang/miniconda3/envs/si650/lib/python3.11/site-packages/lightgbm/sklearn.py:682: UserWarning: Found 'eval_at' in params. Will use it instead of 'eval_at' argument\n",
      "  _log_warning(f\"Found '{alias}' in params. Will use it instead of 'eval_at' argument\")\n"
     ]
    },
    {
     "name": "stdout",
     "output_type": "stream",
     "text": [
      "Horror movies with haunted house settings.\n",
      "02:20:01.168 [main] WARN org.terrier.querying.ApplyTermPipeline - The index has no termpipelines configuration, and no control configuration is found. Defaulting to global termpipelines configuration of 'Stopwords,PorterStemmer'. Set a termpipelines control to remove this warning.\n",
      "02:20:01.209 [main] WARN org.terrier.querying.ApplyTermPipeline - The index has no termpipelines configuration, and no control configuration is found. Defaulting to global termpipelines configuration of 'Stopwords,PorterStemmer'. Set a termpipelines control to remove this warning.\n",
      "02:20:01.293 [main] WARN org.terrier.querying.ApplyTermPipeline - The index has no termpipelines configuration, and no control configuration is found. Defaulting to global termpipelines configuration of 'Stopwords,PorterStemmer'. Set a termpipelines control to remove this warning.\n"
     ]
    },
    {
     "name": "stderr",
     "output_type": "stream",
     "text": [
      "/Users/haoyang/miniconda3/envs/si650/lib/python3.11/site-packages/lightgbm/sklearn.py:682: UserWarning: Found 'eval_at' in params. Will use it instead of 'eval_at' argument\n",
      "  _log_warning(f\"Found '{alias}' in params. Will use it instead of 'eval_at' argument\")\n",
      "/Users/haoyang/miniconda3/envs/si650/lib/python3.11/site-packages/lightgbm/sklearn.py:682: UserWarning: Found 'eval_at' in params. Will use it instead of 'eval_at' argument\n",
      "  _log_warning(f\"Found '{alias}' in params. Will use it instead of 'eval_at' argument\")\n"
     ]
    },
    {
     "name": "stdout",
     "output_type": "stream",
     "text": [
      "02:20:01.339 [main] WARN org.terrier.querying.ApplyTermPipeline - The index has no termpipelines configuration, and no control configuration is found. Defaulting to global termpipelines configuration of 'Stopwords,PorterStemmer'. Set a termpipelines control to remove this warning.\n",
      "Films exploring philosophical concepts of time.\n",
      "02:20:01.425 [main] WARN org.terrier.querying.ApplyTermPipeline - The index has no termpipelines configuration, and no control configuration is found. Defaulting to global termpipelines configuration of 'Stopwords,PorterStemmer'. Set a termpipelines control to remove this warning.\n",
      "02:20:01.454 [main] WARN org.terrier.querying.ApplyTermPipeline - The index has no termpipelines configuration, and no control configuration is found. Defaulting to global termpipelines configuration of 'Stopwords,PorterStemmer'. Set a termpipelines control to remove this warning.\n",
      "02:20:01.547 [main] WARN org.terrier.querying.ApplyTermPipeline - The index has no termpipelines configuration, and no control configuration is found. Defaulting to global termpipelines configuration of 'Stopwords,PorterStemmer'. Set a termpipelines control to remove this warning.\n"
     ]
    },
    {
     "name": "stderr",
     "output_type": "stream",
     "text": [
      "/Users/haoyang/miniconda3/envs/si650/lib/python3.11/site-packages/lightgbm/sklearn.py:682: UserWarning: Found 'eval_at' in params. Will use it instead of 'eval_at' argument\n",
      "  _log_warning(f\"Found '{alias}' in params. Will use it instead of 'eval_at' argument\")\n",
      "/Users/haoyang/miniconda3/envs/si650/lib/python3.11/site-packages/lightgbm/sklearn.py:682: UserWarning: Found 'eval_at' in params. Will use it instead of 'eval_at' argument\n",
      "  _log_warning(f\"Found '{alias}' in params. Will use it instead of 'eval_at' argument\")\n"
     ]
    },
    {
     "name": "stdout",
     "output_type": "stream",
     "text": [
      "02:20:01.587 [main] WARN org.terrier.querying.ApplyTermPipeline - The index has no termpipelines configuration, and no control configuration is found. Defaulting to global termpipelines configuration of 'Stopwords,PorterStemmer'. Set a termpipelines control to remove this warning.\n",
      "Action-packed jungle adventure with dangerous creatures.\n",
      "02:20:01.666 [main] WARN org.terrier.querying.ApplyTermPipeline - The index has no termpipelines configuration, and no control configuration is found. Defaulting to global termpipelines configuration of 'Stopwords,PorterStemmer'. Set a termpipelines control to remove this warning.\n",
      "02:20:01.712 [main] WARN org.terrier.querying.ApplyTermPipeline - The index has no termpipelines configuration, and no control configuration is found. Defaulting to global termpipelines configuration of 'Stopwords,PorterStemmer'. Set a termpipelines control to remove this warning.\n",
      "02:20:01.809 [main] WARN org.terrier.querying.ApplyTermPipeline - The index has no termpipelines configuration, and no control configuration is found. Defaulting to global termpipelines configuration of 'Stopwords,PorterStemmer'. Set a termpipelines control to remove this warning.\n"
     ]
    },
    {
     "name": "stderr",
     "output_type": "stream",
     "text": [
      "/Users/haoyang/miniconda3/envs/si650/lib/python3.11/site-packages/lightgbm/sklearn.py:682: UserWarning: Found 'eval_at' in params. Will use it instead of 'eval_at' argument\n",
      "  _log_warning(f\"Found '{alias}' in params. Will use it instead of 'eval_at' argument\")\n",
      "/Users/haoyang/miniconda3/envs/si650/lib/python3.11/site-packages/lightgbm/sklearn.py:682: UserWarning: Found 'eval_at' in params. Will use it instead of 'eval_at' argument\n",
      "  _log_warning(f\"Found '{alias}' in params. Will use it instead of 'eval_at' argument\")\n"
     ]
    },
    {
     "name": "stdout",
     "output_type": "stream",
     "text": [
      "02:20:01.849 [main] WARN org.terrier.querying.ApplyTermPipeline - The index has no termpipelines configuration, and no control configuration is found. Defaulting to global termpipelines configuration of 'Stopwords,PorterStemmer'. Set a termpipelines control to remove this warning.\n",
      "Heartwarming Christmas movies with family themes.\n",
      "02:20:01.933 [main] WARN org.terrier.querying.ApplyTermPipeline - The index has no termpipelines configuration, and no control configuration is found. Defaulting to global termpipelines configuration of 'Stopwords,PorterStemmer'. Set a termpipelines control to remove this warning.\n",
      "02:20:01.984 [main] WARN org.terrier.querying.ApplyTermPipeline - The index has no termpipelines configuration, and no control configuration is found. Defaulting to global termpipelines configuration of 'Stopwords,PorterStemmer'. Set a termpipelines control to remove this warning.\n",
      "02:20:02.043 [main] WARN org.terrier.querying.ApplyTermPipeline - The index has no termpipelines configuration, and no control configuration is found. Defaulting to global termpipelines configuration of 'Stopwords,PorterStemmer'. Set a termpipelines control to remove this warning.\n",
      "02:20:02.072 [main] WARN org.terrier.querying.ApplyTermPipeline - The index has no termpipelines configuration, and no control configuration is found. Defaulting to global termpipelines configuration of 'Stopwords,PorterStemmer'. Set a termpipelines control to remove this warning.\n"
     ]
    },
    {
     "name": "stderr",
     "output_type": "stream",
     "text": [
      "/Users/haoyang/miniconda3/envs/si650/lib/python3.11/site-packages/lightgbm/sklearn.py:682: UserWarning: Found 'eval_at' in params. Will use it instead of 'eval_at' argument\n",
      "  _log_warning(f\"Found '{alias}' in params. Will use it instead of 'eval_at' argument\")\n",
      "/Users/haoyang/miniconda3/envs/si650/lib/python3.11/site-packages/lightgbm/sklearn.py:682: UserWarning: Found 'eval_at' in params. Will use it instead of 'eval_at' argument\n",
      "  _log_warning(f\"Found '{alias}' in params. Will use it instead of 'eval_at' argument\")\n"
     ]
    },
    {
     "name": "stdout",
     "output_type": "stream",
     "text": [
      "Crime thriller set in a bustling city market.\n",
      "02:20:02.153 [main] WARN org.terrier.querying.ApplyTermPipeline - The index has no termpipelines configuration, and no control configuration is found. Defaulting to global termpipelines configuration of 'Stopwords,PorterStemmer'. Set a termpipelines control to remove this warning.\n",
      "02:20:02.184 [main] WARN org.terrier.querying.ApplyTermPipeline - The index has no termpipelines configuration, and no control configuration is found. Defaulting to global termpipelines configuration of 'Stopwords,PorterStemmer'. Set a termpipelines control to remove this warning.\n",
      "02:20:02.269 [main] WARN org.terrier.querying.ApplyTermPipeline - The index has no termpipelines configuration, and no control configuration is found. Defaulting to global termpipelines configuration of 'Stopwords,PorterStemmer'. Set a termpipelines control to remove this warning.\n"
     ]
    },
    {
     "name": "stderr",
     "output_type": "stream",
     "text": [
      "/Users/haoyang/miniconda3/envs/si650/lib/python3.11/site-packages/lightgbm/sklearn.py:682: UserWarning: Found 'eval_at' in params. Will use it instead of 'eval_at' argument\n",
      "  _log_warning(f\"Found '{alias}' in params. Will use it instead of 'eval_at' argument\")\n",
      "/Users/haoyang/miniconda3/envs/si650/lib/python3.11/site-packages/lightgbm/sklearn.py:682: UserWarning: Found 'eval_at' in params. Will use it instead of 'eval_at' argument\n",
      "  _log_warning(f\"Found '{alias}' in params. Will use it instead of 'eval_at' argument\")\n"
     ]
    },
    {
     "name": "stdout",
     "output_type": "stream",
     "text": [
      "02:20:02.311 [main] WARN org.terrier.querying.ApplyTermPipeline - The index has no termpipelines configuration, and no control configuration is found. Defaulting to global termpipelines configuration of 'Stopwords,PorterStemmer'. Set a termpipelines control to remove this warning.\n",
      "Fantasy quest with friends and magical encounters.\n",
      "02:20:02.394 [main] WARN org.terrier.querying.ApplyTermPipeline - The index has no termpipelines configuration, and no control configuration is found. Defaulting to global termpipelines configuration of 'Stopwords,PorterStemmer'. Set a termpipelines control to remove this warning.\n",
      "02:20:02.432 [main] WARN org.terrier.querying.ApplyTermPipeline - The index has no termpipelines configuration, and no control configuration is found. Defaulting to global termpipelines configuration of 'Stopwords,PorterStemmer'. Set a termpipelines control to remove this warning.\n",
      "02:20:02.511 [main] WARN org.terrier.querying.ApplyTermPipeline - The index has no termpipelines configuration, and no control configuration is found. Defaulting to global termpipelines configuration of 'Stopwords,PorterStemmer'. Set a termpipelines control to remove this warning.\n"
     ]
    },
    {
     "name": "stderr",
     "output_type": "stream",
     "text": [
      "/Users/haoyang/miniconda3/envs/si650/lib/python3.11/site-packages/lightgbm/sklearn.py:682: UserWarning: Found 'eval_at' in params. Will use it instead of 'eval_at' argument\n",
      "  _log_warning(f\"Found '{alias}' in params. Will use it instead of 'eval_at' argument\")\n",
      "/Users/haoyang/miniconda3/envs/si650/lib/python3.11/site-packages/lightgbm/sklearn.py:682: UserWarning: Found 'eval_at' in params. Will use it instead of 'eval_at' argument\n",
      "  _log_warning(f\"Found '{alias}' in params. Will use it instead of 'eval_at' argument\")\n"
     ]
    },
    {
     "name": "stdout",
     "output_type": "stream",
     "text": [
      "02:20:02.543 [main] WARN org.terrier.querying.ApplyTermPipeline - The index has no termpipelines configuration, and no control configuration is found. Defaulting to global termpipelines configuration of 'Stopwords,PorterStemmer'. Set a termpipelines control to remove this warning.\n",
      "Survival movie with a protagonist facing natural disasters.\n",
      "02:20:02.621 [main] WARN org.terrier.querying.ApplyTermPipeline - The index has no termpipelines configuration, and no control configuration is found. Defaulting to global termpipelines configuration of 'Stopwords,PorterStemmer'. Set a termpipelines control to remove this warning.\n",
      "02:20:02.670 [main] WARN org.terrier.querying.ApplyTermPipeline - The index has no termpipelines configuration, and no control configuration is found. Defaulting to global termpipelines configuration of 'Stopwords,PorterStemmer'. Set a termpipelines control to remove this warning.\n"
     ]
    },
    {
     "name": "stderr",
     "output_type": "stream",
     "text": [
      "/Users/haoyang/miniconda3/envs/si650/lib/python3.11/site-packages/lightgbm/sklearn.py:682: UserWarning: Found 'eval_at' in params. Will use it instead of 'eval_at' argument\n",
      "  _log_warning(f\"Found '{alias}' in params. Will use it instead of 'eval_at' argument\")\n",
      "/Users/haoyang/miniconda3/envs/si650/lib/python3.11/site-packages/lightgbm/sklearn.py:682: UserWarning: Found 'eval_at' in params. Will use it instead of 'eval_at' argument\n",
      "  _log_warning(f\"Found '{alias}' in params. Will use it instead of 'eval_at' argument\")\n"
     ]
    },
    {
     "name": "stdout",
     "output_type": "stream",
     "text": [
      "02:20:02.778 [main] WARN org.terrier.querying.ApplyTermPipeline - The index has no termpipelines configuration, and no control configuration is found. Defaulting to global termpipelines configuration of 'Stopwords,PorterStemmer'. Set a termpipelines control to remove this warning.\n",
      "02:20:02.808 [main] WARN org.terrier.querying.ApplyTermPipeline - The index has no termpipelines configuration, and no control configuration is found. Defaulting to global termpipelines configuration of 'Stopwords,PorterStemmer'. Set a termpipelines control to remove this warning.\n",
      "War film with intense combat scenes in a jungle backdrop.\n",
      "02:20:02.904 [main] WARN org.terrier.querying.ApplyTermPipeline - The index has no termpipelines configuration, and no control configuration is found. Defaulting to global termpipelines configuration of 'Stopwords,PorterStemmer'. Set a termpipelines control to remove this warning.\n",
      "02:20:02.942 [main] WARN org.terrier.querying.ApplyTermPipeline - The index has no termpipelines configuration, and no control configuration is found. Defaulting to global termpipelines configuration of 'Stopwords,PorterStemmer'. Set a termpipelines control to remove this warning.\n",
      "02:20:03.028 [main] WARN org.terrier.querying.ApplyTermPipeline - The index has no termpipelines configuration, and no control configuration is found. Defaulting to global termpipelines configuration of 'Stopwords,PorterStemmer'. Set a termpipelines control to remove this warning.\n"
     ]
    },
    {
     "name": "stderr",
     "output_type": "stream",
     "text": [
      "/Users/haoyang/miniconda3/envs/si650/lib/python3.11/site-packages/lightgbm/sklearn.py:682: UserWarning: Found 'eval_at' in params. Will use it instead of 'eval_at' argument\n",
      "  _log_warning(f\"Found '{alias}' in params. Will use it instead of 'eval_at' argument\")\n",
      "/Users/haoyang/miniconda3/envs/si650/lib/python3.11/site-packages/lightgbm/sklearn.py:682: UserWarning: Found 'eval_at' in params. Will use it instead of 'eval_at' argument\n",
      "  _log_warning(f\"Found '{alias}' in params. Will use it instead of 'eval_at' argument\")\n"
     ]
    },
    {
     "name": "stdout",
     "output_type": "stream",
     "text": [
      "02:20:03.074 [main] WARN org.terrier.querying.ApplyTermPipeline - The index has no termpipelines configuration, and no control configuration is found. Defaulting to global termpipelines configuration of 'Stopwords,PorterStemmer'. Set a termpipelines control to remove this warning.\n",
      "Love and rebellion in a futuristic city ruled by powerful corporations.\n",
      "02:20:03.164 [main] WARN org.terrier.querying.ApplyTermPipeline - The index has no termpipelines configuration, and no control configuration is found. Defaulting to global termpipelines configuration of 'Stopwords,PorterStemmer'. Set a termpipelines control to remove this warning.\n",
      "02:20:03.195 [main] WARN org.terrier.querying.ApplyTermPipeline - The index has no termpipelines configuration, and no control configuration is found. Defaulting to global termpipelines configuration of 'Stopwords,PorterStemmer'. Set a termpipelines control to remove this warning.\n",
      "02:20:03.285 [main] WARN org.terrier.querying.ApplyTermPipeline - The index has no termpipelines configuration, and no control configuration is found. Defaulting to global termpipelines configuration of 'Stopwords,PorterStemmer'. Set a termpipelines control to remove this warning.\n"
     ]
    },
    {
     "name": "stderr",
     "output_type": "stream",
     "text": [
      "/Users/haoyang/miniconda3/envs/si650/lib/python3.11/site-packages/lightgbm/sklearn.py:682: UserWarning: Found 'eval_at' in params. Will use it instead of 'eval_at' argument\n",
      "  _log_warning(f\"Found '{alias}' in params. Will use it instead of 'eval_at' argument\")\n",
      "/Users/haoyang/miniconda3/envs/si650/lib/python3.11/site-packages/lightgbm/sklearn.py:682: UserWarning: Found 'eval_at' in params. Will use it instead of 'eval_at' argument\n",
      "  _log_warning(f\"Found '{alias}' in params. Will use it instead of 'eval_at' argument\")\n"
     ]
    },
    {
     "name": "stdout",
     "output_type": "stream",
     "text": [
      "02:20:03.318 [main] WARN org.terrier.querying.ApplyTermPipeline - The index has no termpipelines configuration, and no control configuration is found. Defaulting to global termpipelines configuration of 'Stopwords,PorterStemmer'. Set a termpipelines control to remove this warning.\n",
      "Action-adventure movies suitable for family audiences.\n",
      "02:20:03.394 [main] WARN org.terrier.querying.ApplyTermPipeline - The index has no termpipelines configuration, and no control configuration is found. Defaulting to global termpipelines configuration of 'Stopwords,PorterStemmer'. Set a termpipelines control to remove this warning.\n",
      "02:20:03.432 [main] WARN org.terrier.querying.ApplyTermPipeline - The index has no termpipelines configuration, and no control configuration is found. Defaulting to global termpipelines configuration of 'Stopwords,PorterStemmer'. Set a termpipelines control to remove this warning.\n",
      "02:20:03.522 [main] WARN org.terrier.querying.ApplyTermPipeline - The index has no termpipelines configuration, and no control configuration is found. Defaulting to global termpipelines configuration of 'Stopwords,PorterStemmer'. Set a termpipelines control to remove this warning.\n"
     ]
    },
    {
     "name": "stderr",
     "output_type": "stream",
     "text": [
      "/Users/haoyang/miniconda3/envs/si650/lib/python3.11/site-packages/lightgbm/sklearn.py:682: UserWarning: Found 'eval_at' in params. Will use it instead of 'eval_at' argument\n",
      "  _log_warning(f\"Found '{alias}' in params. Will use it instead of 'eval_at' argument\")\n",
      "/Users/haoyang/miniconda3/envs/si650/lib/python3.11/site-packages/lightgbm/sklearn.py:682: UserWarning: Found 'eval_at' in params. Will use it instead of 'eval_at' argument\n",
      "  _log_warning(f\"Found '{alias}' in params. Will use it instead of 'eval_at' argument\")\n"
     ]
    },
    {
     "name": "stdout",
     "output_type": "stream",
     "text": [
      "02:20:03.564 [main] WARN org.terrier.querying.ApplyTermPipeline - The index has no termpipelines configuration, and no control configuration is found. Defaulting to global termpipelines configuration of 'Stopwords,PorterStemmer'. Set a termpipelines control to remove this warning.\n",
      "Movie with a strong emphasis on friendship and self-discovery.\n",
      "02:20:03.652 [main] WARN org.terrier.querying.ApplyTermPipeline - The index has no termpipelines configuration, and no control configuration is found. Defaulting to global termpipelines configuration of 'Stopwords,PorterStemmer'. Set a termpipelines control to remove this warning.\n",
      "02:20:03.686 [main] WARN org.terrier.querying.ApplyTermPipeline - The index has no termpipelines configuration, and no control configuration is found. Defaulting to global termpipelines configuration of 'Stopwords,PorterStemmer'. Set a termpipelines control to remove this warning.\n",
      "02:20:03.768 [main] WARN org.terrier.querying.ApplyTermPipeline - The index has no termpipelines configuration, and no control configuration is found. Defaulting to global termpipelines configuration of 'Stopwords,PorterStemmer'. Set a termpipelines control to remove this warning.\n"
     ]
    },
    {
     "name": "stderr",
     "output_type": "stream",
     "text": [
      "/Users/haoyang/miniconda3/envs/si650/lib/python3.11/site-packages/lightgbm/sklearn.py:682: UserWarning: Found 'eval_at' in params. Will use it instead of 'eval_at' argument\n",
      "  _log_warning(f\"Found '{alias}' in params. Will use it instead of 'eval_at' argument\")\n",
      "/Users/haoyang/miniconda3/envs/si650/lib/python3.11/site-packages/lightgbm/sklearn.py:682: UserWarning: Found 'eval_at' in params. Will use it instead of 'eval_at' argument\n",
      "  _log_warning(f\"Found '{alias}' in params. Will use it instead of 'eval_at' argument\")\n"
     ]
    },
    {
     "name": "stdout",
     "output_type": "stream",
     "text": [
      "02:20:03.802 [main] WARN org.terrier.querying.ApplyTermPipeline - The index has no termpipelines configuration, and no control configuration is found. Defaulting to global termpipelines configuration of 'Stopwords,PorterStemmer'. Set a termpipelines control to remove this warning.\n",
      "Heartwarming sports movie that inspires and uplifts.\n",
      "02:20:03.881 [main] WARN org.terrier.querying.ApplyTermPipeline - The index has no termpipelines configuration, and no control configuration is found. Defaulting to global termpipelines configuration of 'Stopwords,PorterStemmer'. Set a termpipelines control to remove this warning.\n",
      "02:20:03.917 [main] WARN org.terrier.querying.ApplyTermPipeline - The index has no termpipelines configuration, and no control configuration is found. Defaulting to global termpipelines configuration of 'Stopwords,PorterStemmer'. Set a termpipelines control to remove this warning.\n",
      "02:20:03.988 [main] WARN org.terrier.querying.ApplyTermPipeline - The index has no termpipelines configuration, and no control configuration is found. Defaulting to global termpipelines configuration of 'Stopwords,PorterStemmer'. Set a termpipelines control to remove this warning.\n"
     ]
    },
    {
     "name": "stderr",
     "output_type": "stream",
     "text": [
      "/Users/haoyang/miniconda3/envs/si650/lib/python3.11/site-packages/lightgbm/sklearn.py:682: UserWarning: Found 'eval_at' in params. Will use it instead of 'eval_at' argument\n",
      "  _log_warning(f\"Found '{alias}' in params. Will use it instead of 'eval_at' argument\")\n",
      "/Users/haoyang/miniconda3/envs/si650/lib/python3.11/site-packages/lightgbm/sklearn.py:682: UserWarning: Found 'eval_at' in params. Will use it instead of 'eval_at' argument\n",
      "  _log_warning(f\"Found '{alias}' in params. Will use it instead of 'eval_at' argument\")\n"
     ]
    },
    {
     "name": "stdout",
     "output_type": "stream",
     "text": [
      "02:20:04.036 [main] WARN org.terrier.querying.ApplyTermPipeline - The index has no termpipelines configuration, and no control configuration is found. Defaulting to global termpipelines configuration of 'Stopwords,PorterStemmer'. Set a termpipelines control to remove this warning.\n",
      "Classic Western film with iconic shootouts and rugged landscapes.\n",
      "02:20:04.113 [main] WARN org.terrier.querying.ApplyTermPipeline - The index has no termpipelines configuration, and no control configuration is found. Defaulting to global termpipelines configuration of 'Stopwords,PorterStemmer'. Set a termpipelines control to remove this warning.\n",
      "02:20:04.145 [main] WARN org.terrier.querying.ApplyTermPipeline - The index has no termpipelines configuration, and no control configuration is found. Defaulting to global termpipelines configuration of 'Stopwords,PorterStemmer'. Set a termpipelines control to remove this warning.\n",
      "02:20:04.229 [main] WARN org.terrier.querying.ApplyTermPipeline - The index has no termpipelines configuration, and no control configuration is found. Defaulting to global termpipelines configuration of 'Stopwords,PorterStemmer'. Set a termpipelines control to remove this warning.\n"
     ]
    },
    {
     "name": "stderr",
     "output_type": "stream",
     "text": [
      "/Users/haoyang/miniconda3/envs/si650/lib/python3.11/site-packages/lightgbm/sklearn.py:682: UserWarning: Found 'eval_at' in params. Will use it instead of 'eval_at' argument\n",
      "  _log_warning(f\"Found '{alias}' in params. Will use it instead of 'eval_at' argument\")\n",
      "/Users/haoyang/miniconda3/envs/si650/lib/python3.11/site-packages/lightgbm/sklearn.py:682: UserWarning: Found 'eval_at' in params. Will use it instead of 'eval_at' argument\n",
      "  _log_warning(f\"Found '{alias}' in params. Will use it instead of 'eval_at' argument\")\n"
     ]
    },
    {
     "name": "stdout",
     "output_type": "stream",
     "text": [
      "02:20:04.267 [main] WARN org.terrier.querying.ApplyTermPipeline - The index has no termpipelines configuration, and no control configuration is found. Defaulting to global termpipelines configuration of 'Stopwords,PorterStemmer'. Set a termpipelines control to remove this warning.\n",
      "Films exploring the concept of time travel.\n",
      "02:20:04.358 [main] WARN org.terrier.querying.ApplyTermPipeline - The index has no termpipelines configuration, and no control configuration is found. Defaulting to global termpipelines configuration of 'Stopwords,PorterStemmer'. Set a termpipelines control to remove this warning.\n",
      "02:20:04.401 [main] WARN org.terrier.querying.ApplyTermPipeline - The index has no termpipelines configuration, and no control configuration is found. Defaulting to global termpipelines configuration of 'Stopwords,PorterStemmer'. Set a termpipelines control to remove this warning.\n",
      "02:20:04.477 [main] WARN org.terrier.querying.ApplyTermPipeline - The index has no termpipelines configuration, and no control configuration is found. Defaulting to global termpipelines configuration of 'Stopwords,PorterStemmer'. Set a termpipelines control to remove this warning.\n"
     ]
    },
    {
     "name": "stderr",
     "output_type": "stream",
     "text": [
      "/Users/haoyang/miniconda3/envs/si650/lib/python3.11/site-packages/lightgbm/sklearn.py:682: UserWarning: Found 'eval_at' in params. Will use it instead of 'eval_at' argument\n",
      "  _log_warning(f\"Found '{alias}' in params. Will use it instead of 'eval_at' argument\")\n",
      "/Users/haoyang/miniconda3/envs/si650/lib/python3.11/site-packages/lightgbm/sklearn.py:682: UserWarning: Found 'eval_at' in params. Will use it instead of 'eval_at' argument\n",
      "  _log_warning(f\"Found '{alias}' in params. Will use it instead of 'eval_at' argument\")\n"
     ]
    },
    {
     "name": "stdout",
     "output_type": "stream",
     "text": [
      "02:20:04.510 [main] WARN org.terrier.querying.ApplyTermPipeline - The index has no termpipelines configuration, and no control configuration is found. Defaulting to global termpipelines configuration of 'Stopwords,PorterStemmer'. Set a termpipelines control to remove this warning.\n",
      "Dystopian future with young girl leading a rebellion.\n",
      "02:20:04.597 [main] WARN org.terrier.querying.ApplyTermPipeline - The index has no termpipelines configuration, and no control configuration is found. Defaulting to global termpipelines configuration of 'Stopwords,PorterStemmer'. Set a termpipelines control to remove this warning.\n",
      "02:20:04.627 [main] WARN org.terrier.querying.ApplyTermPipeline - The index has no termpipelines configuration, and no control configuration is found. Defaulting to global termpipelines configuration of 'Stopwords,PorterStemmer'. Set a termpipelines control to remove this warning.\n",
      "02:20:04.713 [main] WARN org.terrier.querying.ApplyTermPipeline - The index has no termpipelines configuration, and no control configuration is found. Defaulting to global termpipelines configuration of 'Stopwords,PorterStemmer'. Set a termpipelines control to remove this warning.\n"
     ]
    },
    {
     "name": "stderr",
     "output_type": "stream",
     "text": [
      "/Users/haoyang/miniconda3/envs/si650/lib/python3.11/site-packages/lightgbm/sklearn.py:682: UserWarning: Found 'eval_at' in params. Will use it instead of 'eval_at' argument\n",
      "  _log_warning(f\"Found '{alias}' in params. Will use it instead of 'eval_at' argument\")\n",
      "/Users/haoyang/miniconda3/envs/si650/lib/python3.11/site-packages/lightgbm/sklearn.py:682: UserWarning: Found 'eval_at' in params. Will use it instead of 'eval_at' argument\n",
      "  _log_warning(f\"Found '{alias}' in params. Will use it instead of 'eval_at' argument\")\n"
     ]
    },
    {
     "name": "stdout",
     "output_type": "stream",
     "text": [
      "02:20:04.750 [main] WARN org.terrier.querying.ApplyTermPipeline - The index has no termpipelines configuration, and no control configuration is found. Defaulting to global termpipelines configuration of 'Stopwords,PorterStemmer'. Set a termpipelines control to remove this warning.\n",
      "Vampire, werewolf, and love.\n",
      "02:20:04.840 [main] WARN org.terrier.querying.ApplyTermPipeline - The index has no termpipelines configuration, and no control configuration is found. Defaulting to global termpipelines configuration of 'Stopwords,PorterStemmer'. Set a termpipelines control to remove this warning.\n",
      "02:20:04.868 [main] WARN org.terrier.querying.ApplyTermPipeline - The index has no termpipelines configuration, and no control configuration is found. Defaulting to global termpipelines configuration of 'Stopwords,PorterStemmer'. Set a termpipelines control to remove this warning.\n",
      "02:20:04.947 [main] WARN org.terrier.querying.ApplyTermPipeline - The index has no termpipelines configuration, and no control configuration is found. Defaulting to global termpipelines configuration of 'Stopwords,PorterStemmer'. Set a termpipelines control to remove this warning.\n"
     ]
    },
    {
     "name": "stderr",
     "output_type": "stream",
     "text": [
      "/Users/haoyang/miniconda3/envs/si650/lib/python3.11/site-packages/lightgbm/sklearn.py:682: UserWarning: Found 'eval_at' in params. Will use it instead of 'eval_at' argument\n",
      "  _log_warning(f\"Found '{alias}' in params. Will use it instead of 'eval_at' argument\")\n",
      "/Users/haoyang/miniconda3/envs/si650/lib/python3.11/site-packages/lightgbm/sklearn.py:682: UserWarning: Found 'eval_at' in params. Will use it instead of 'eval_at' argument\n",
      "  _log_warning(f\"Found '{alias}' in params. Will use it instead of 'eval_at' argument\")\n"
     ]
    },
    {
     "name": "stdout",
     "output_type": "stream",
     "text": [
      "02:20:04.983 [main] WARN org.terrier.querying.ApplyTermPipeline - The index has no termpipelines configuration, and no control configuration is found. Defaulting to global termpipelines configuration of 'Stopwords,PorterStemmer'. Set a termpipelines control to remove this warning.\n",
      "Adaptations of classic literature into film.\n",
      "02:20:05.050 [main] WARN org.terrier.querying.ApplyTermPipeline - The index has no termpipelines configuration, and no control configuration is found. Defaulting to global termpipelines configuration of 'Stopwords,PorterStemmer'. Set a termpipelines control to remove this warning.\n",
      "02:20:05.085 [main] WARN org.terrier.querying.ApplyTermPipeline - The index has no termpipelines configuration, and no control configuration is found. Defaulting to global termpipelines configuration of 'Stopwords,PorterStemmer'. Set a termpipelines control to remove this warning.\n",
      "02:20:05.149 [main] WARN org.terrier.querying.ApplyTermPipeline - The index has no termpipelines configuration, and no control configuration is found. Defaulting to global termpipelines configuration of 'Stopwords,PorterStemmer'. Set a termpipelines control to remove this warning.\n",
      "02:20:05.177 [main] WARN org.terrier.querying.ApplyTermPipeline - The index has no termpipelines configuration, and no control configuration is found. Defaulting to global termpipelines configuration of 'Stopwords,PorterStemmer'. Set a termpipelines control to remove this warning.\n"
     ]
    },
    {
     "name": "stderr",
     "output_type": "stream",
     "text": [
      "/Users/haoyang/miniconda3/envs/si650/lib/python3.11/site-packages/lightgbm/sklearn.py:682: UserWarning: Found 'eval_at' in params. Will use it instead of 'eval_at' argument\n",
      "  _log_warning(f\"Found '{alias}' in params. Will use it instead of 'eval_at' argument\")\n",
      "/Users/haoyang/miniconda3/envs/si650/lib/python3.11/site-packages/lightgbm/sklearn.py:682: UserWarning: Found 'eval_at' in params. Will use it instead of 'eval_at' argument\n",
      "  _log_warning(f\"Found '{alias}' in params. Will use it instead of 'eval_at' argument\")\n",
      "/Users/haoyang/miniconda3/envs/si650/lib/python3.11/site-packages/lightgbm/sklearn.py:682: UserWarning: Found 'eval_at' in params. Will use it instead of 'eval_at' argument\n",
      "  _log_warning(f\"Found '{alias}' in params. Will use it instead of 'eval_at' argument\")\n"
     ]
    },
    {
     "name": "stdout",
     "output_type": "stream",
     "text": [
      "War movies portraying the camaraderie of soldiers.\n",
      "02:20:05.243 [main] WARN org.terrier.querying.ApplyTermPipeline - The index has no termpipelines configuration, and no control configuration is found. Defaulting to global termpipelines configuration of 'Stopwords,PorterStemmer'. Set a termpipelines control to remove this warning.\n",
      "02:20:05.284 [main] WARN org.terrier.querying.ApplyTermPipeline - The index has no termpipelines configuration, and no control configuration is found. Defaulting to global termpipelines configuration of 'Stopwords,PorterStemmer'. Set a termpipelines control to remove this warning.\n",
      "02:20:05.366 [main] WARN org.terrier.querying.ApplyTermPipeline - The index has no termpipelines configuration, and no control configuration is found. Defaulting to global termpipelines configuration of 'Stopwords,PorterStemmer'. Set a termpipelines control to remove this warning.\n",
      "02:20:05.418 [main] WARN org.terrier.querying.ApplyTermPipeline - The index has no termpipelines configuration, and no control configuration is found. Defaulting to global termpipelines configuration of 'Stopwords,PorterStemmer'. Set a termpipelines control to remove this warning.\n",
      "Treasure hunt in the Egyptian pyramids.\n",
      "02:20:05.498 [main] WARN org.terrier.querying.ApplyTermPipeline - The index has no termpipelines configuration, and no control configuration is found. Defaulting to global termpipelines configuration of 'Stopwords,PorterStemmer'. Set a termpipelines control to remove this warning.\n"
     ]
    },
    {
     "name": "stderr",
     "output_type": "stream",
     "text": [
      "/Users/haoyang/miniconda3/envs/si650/lib/python3.11/site-packages/lightgbm/sklearn.py:682: UserWarning: Found 'eval_at' in params. Will use it instead of 'eval_at' argument\n",
      "  _log_warning(f\"Found '{alias}' in params. Will use it instead of 'eval_at' argument\")\n",
      "/Users/haoyang/miniconda3/envs/si650/lib/python3.11/site-packages/lightgbm/sklearn.py:682: UserWarning: Found 'eval_at' in params. Will use it instead of 'eval_at' argument\n",
      "  _log_warning(f\"Found '{alias}' in params. Will use it instead of 'eval_at' argument\")\n"
     ]
    },
    {
     "name": "stdout",
     "output_type": "stream",
     "text": [
      "02:20:05.527 [main] WARN org.terrier.querying.ApplyTermPipeline - The index has no termpipelines configuration, and no control configuration is found. Defaulting to global termpipelines configuration of 'Stopwords,PorterStemmer'. Set a termpipelines control to remove this warning.\n",
      "02:20:05.636 [main] WARN org.terrier.querying.ApplyTermPipeline - The index has no termpipelines configuration, and no control configuration is found. Defaulting to global termpipelines configuration of 'Stopwords,PorterStemmer'. Set a termpipelines control to remove this warning.\n",
      "02:20:05.667 [main] WARN org.terrier.querying.ApplyTermPipeline - The index has no termpipelines configuration, and no control configuration is found. Defaulting to global termpipelines configuration of 'Stopwords,PorterStemmer'. Set a termpipelines control to remove this warning.\n",
      "Romantic dramas set in lush landscapes.\n",
      "02:20:05.736 [main] WARN org.terrier.querying.ApplyTermPipeline - The index has no termpipelines configuration, and no control configuration is found. Defaulting to global termpipelines configuration of 'Stopwords,PorterStemmer'. Set a termpipelines control to remove this warning.\n"
     ]
    },
    {
     "name": "stderr",
     "output_type": "stream",
     "text": [
      "/Users/haoyang/miniconda3/envs/si650/lib/python3.11/site-packages/lightgbm/sklearn.py:682: UserWarning: Found 'eval_at' in params. Will use it instead of 'eval_at' argument\n",
      "  _log_warning(f\"Found '{alias}' in params. Will use it instead of 'eval_at' argument\")\n",
      "/Users/haoyang/miniconda3/envs/si650/lib/python3.11/site-packages/lightgbm/sklearn.py:682: UserWarning: Found 'eval_at' in params. Will use it instead of 'eval_at' argument\n",
      "  _log_warning(f\"Found '{alias}' in params. Will use it instead of 'eval_at' argument\")\n"
     ]
    },
    {
     "name": "stdout",
     "output_type": "stream",
     "text": [
      "02:20:05.766 [main] WARN org.terrier.querying.ApplyTermPipeline - The index has no termpipelines configuration, and no control configuration is found. Defaulting to global termpipelines configuration of 'Stopwords,PorterStemmer'. Set a termpipelines control to remove this warning.\n",
      "02:20:05.849 [main] WARN org.terrier.querying.ApplyTermPipeline - The index has no termpipelines configuration, and no control configuration is found. Defaulting to global termpipelines configuration of 'Stopwords,PorterStemmer'. Set a termpipelines control to remove this warning.\n",
      "02:20:05.872 [main] WARN org.terrier.querying.ApplyTermPipeline - The index has no termpipelines configuration, and no control configuration is found. Defaulting to global termpipelines configuration of 'Stopwords,PorterStemmer'. Set a termpipelines control to remove this warning.\n",
      "Hilarious comedies perfect for a night in with friends.\n",
      "02:20:05.953 [main] WARN org.terrier.querying.ApplyTermPipeline - The index has no termpipelines configuration, and no control configuration is found. Defaulting to global termpipelines configuration of 'Stopwords,PorterStemmer'. Set a termpipelines control to remove this warning.\n",
      "02:20:05.982 [main] WARN org.terrier.querying.ApplyTermPipeline - The index has no termpipelines configuration, and no control configuration is found. Defaulting to global termpipelines configuration of 'Stopwords,PorterStemmer'. Set a termpipelines control to remove this warning.\n"
     ]
    },
    {
     "name": "stderr",
     "output_type": "stream",
     "text": [
      "/Users/haoyang/miniconda3/envs/si650/lib/python3.11/site-packages/lightgbm/sklearn.py:682: UserWarning: Found 'eval_at' in params. Will use it instead of 'eval_at' argument\n",
      "  _log_warning(f\"Found '{alias}' in params. Will use it instead of 'eval_at' argument\")\n",
      "/Users/haoyang/miniconda3/envs/si650/lib/python3.11/site-packages/lightgbm/sklearn.py:682: UserWarning: Found 'eval_at' in params. Will use it instead of 'eval_at' argument\n",
      "  _log_warning(f\"Found '{alias}' in params. Will use it instead of 'eval_at' argument\")\n"
     ]
    },
    {
     "name": "stdout",
     "output_type": "stream",
     "text": [
      "02:20:06.074 [main] WARN org.terrier.querying.ApplyTermPipeline - The index has no termpipelines configuration, and no control configuration is found. Defaulting to global termpipelines configuration of 'Stopwords,PorterStemmer'. Set a termpipelines control to remove this warning.\n",
      "02:20:06.100 [main] WARN org.terrier.querying.ApplyTermPipeline - The index has no termpipelines configuration, and no control configuration is found. Defaulting to global termpipelines configuration of 'Stopwords,PorterStemmer'. Set a termpipelines control to remove this warning.\n",
      "Musicals set in vibrant, nostalgic eras.\n",
      "02:20:06.177 [main] WARN org.terrier.querying.ApplyTermPipeline - The index has no termpipelines configuration, and no control configuration is found. Defaulting to global termpipelines configuration of 'Stopwords,PorterStemmer'. Set a termpipelines control to remove this warning.\n"
     ]
    },
    {
     "name": "stderr",
     "output_type": "stream",
     "text": [
      "/Users/haoyang/miniconda3/envs/si650/lib/python3.11/site-packages/lightgbm/sklearn.py:682: UserWarning: Found 'eval_at' in params. Will use it instead of 'eval_at' argument\n",
      "  _log_warning(f\"Found '{alias}' in params. Will use it instead of 'eval_at' argument\")\n",
      "/Users/haoyang/miniconda3/envs/si650/lib/python3.11/site-packages/lightgbm/sklearn.py:682: UserWarning: Found 'eval_at' in params. Will use it instead of 'eval_at' argument\n",
      "  _log_warning(f\"Found '{alias}' in params. Will use it instead of 'eval_at' argument\")\n"
     ]
    },
    {
     "name": "stdout",
     "output_type": "stream",
     "text": [
      "02:20:06.214 [main] WARN org.terrier.querying.ApplyTermPipeline - The index has no termpipelines configuration, and no control configuration is found. Defaulting to global termpipelines configuration of 'Stopwords,PorterStemmer'. Set a termpipelines control to remove this warning.\n",
      "02:20:06.289 [main] WARN org.terrier.querying.ApplyTermPipeline - The index has no termpipelines configuration, and no control configuration is found. Defaulting to global termpipelines configuration of 'Stopwords,PorterStemmer'. Set a termpipelines control to remove this warning.\n",
      "02:20:06.322 [main] WARN org.terrier.querying.ApplyTermPipeline - The index has no termpipelines configuration, and no control configuration is found. Defaulting to global termpipelines configuration of 'Stopwords,PorterStemmer'. Set a termpipelines control to remove this warning.\n",
      "Movies celebrating the enduring power of friendship.\n",
      "02:20:06.399 [main] WARN org.terrier.querying.ApplyTermPipeline - The index has no termpipelines configuration, and no control configuration is found. Defaulting to global termpipelines configuration of 'Stopwords,PorterStemmer'. Set a termpipelines control to remove this warning.\n",
      "02:20:06.424 [main] WARN org.terrier.querying.ApplyTermPipeline - The index has no termpipelines configuration, and no control configuration is found. Defaulting to global termpipelines configuration of 'Stopwords,PorterStemmer'. Set a termpipelines control to remove this warning.\n"
     ]
    },
    {
     "name": "stderr",
     "output_type": "stream",
     "text": [
      "/Users/haoyang/miniconda3/envs/si650/lib/python3.11/site-packages/lightgbm/sklearn.py:682: UserWarning: Found 'eval_at' in params. Will use it instead of 'eval_at' argument\n",
      "  _log_warning(f\"Found '{alias}' in params. Will use it instead of 'eval_at' argument\")\n",
      "/Users/haoyang/miniconda3/envs/si650/lib/python3.11/site-packages/lightgbm/sklearn.py:682: UserWarning: Found 'eval_at' in params. Will use it instead of 'eval_at' argument\n",
      "  _log_warning(f\"Found '{alias}' in params. Will use it instead of 'eval_at' argument\")\n"
     ]
    },
    {
     "name": "stdout",
     "output_type": "stream",
     "text": [
      "02:20:06.496 [main] WARN org.terrier.querying.ApplyTermPipeline - The index has no termpipelines configuration, and no control configuration is found. Defaulting to global termpipelines configuration of 'Stopwords,PorterStemmer'. Set a termpipelines control to remove this warning.\n",
      "02:20:06.526 [main] WARN org.terrier.querying.ApplyTermPipeline - The index has no termpipelines configuration, and no control configuration is found. Defaulting to global termpipelines configuration of 'Stopwords,PorterStemmer'. Set a termpipelines control to remove this warning.\n",
      "Father-son journey through outer space\n",
      "02:20:06.601 [main] WARN org.terrier.querying.ApplyTermPipeline - The index has no termpipelines configuration, and no control configuration is found. Defaulting to global termpipelines configuration of 'Stopwords,PorterStemmer'. Set a termpipelines control to remove this warning.\n",
      "02:20:06.634 [main] WARN org.terrier.querying.ApplyTermPipeline - The index has no termpipelines configuration, and no control configuration is found. Defaulting to global termpipelines configuration of 'Stopwords,PorterStemmer'. Set a termpipelines control to remove this warning.\n"
     ]
    },
    {
     "name": "stderr",
     "output_type": "stream",
     "text": [
      "/Users/haoyang/miniconda3/envs/si650/lib/python3.11/site-packages/lightgbm/sklearn.py:682: UserWarning: Found 'eval_at' in params. Will use it instead of 'eval_at' argument\n",
      "  _log_warning(f\"Found '{alias}' in params. Will use it instead of 'eval_at' argument\")\n",
      "/Users/haoyang/miniconda3/envs/si650/lib/python3.11/site-packages/lightgbm/sklearn.py:682: UserWarning: Found 'eval_at' in params. Will use it instead of 'eval_at' argument\n",
      "  _log_warning(f\"Found '{alias}' in params. Will use it instead of 'eval_at' argument\")\n"
     ]
    },
    {
     "name": "stdout",
     "output_type": "stream",
     "text": [
      "02:20:06.742 [main] WARN org.terrier.querying.ApplyTermPipeline - The index has no termpipelines configuration, and no control configuration is found. Defaulting to global termpipelines configuration of 'Stopwords,PorterStemmer'. Set a termpipelines control to remove this warning.\n",
      "02:20:06.786 [main] WARN org.terrier.querying.ApplyTermPipeline - The index has no termpipelines configuration, and no control configuration is found. Defaulting to global termpipelines configuration of 'Stopwords,PorterStemmer'. Set a termpipelines control to remove this warning.\n",
      "Buddy cop movies featuring dynamic duos.\n",
      "02:20:06.849 [main] WARN org.terrier.querying.ApplyTermPipeline - The index has no termpipelines configuration, and no control configuration is found. Defaulting to global termpipelines configuration of 'Stopwords,PorterStemmer'. Set a termpipelines control to remove this warning.\n"
     ]
    },
    {
     "name": "stderr",
     "output_type": "stream",
     "text": [
      "/Users/haoyang/miniconda3/envs/si650/lib/python3.11/site-packages/lightgbm/sklearn.py:682: UserWarning: Found 'eval_at' in params. Will use it instead of 'eval_at' argument\n",
      "  _log_warning(f\"Found '{alias}' in params. Will use it instead of 'eval_at' argument\")\n",
      "/Users/haoyang/miniconda3/envs/si650/lib/python3.11/site-packages/lightgbm/sklearn.py:682: UserWarning: Found 'eval_at' in params. Will use it instead of 'eval_at' argument\n",
      "  _log_warning(f\"Found '{alias}' in params. Will use it instead of 'eval_at' argument\")\n"
     ]
    },
    {
     "name": "stdout",
     "output_type": "stream",
     "text": [
      "02:20:06.885 [main] WARN org.terrier.querying.ApplyTermPipeline - The index has no termpipelines configuration, and no control configuration is found. Defaulting to global termpipelines configuration of 'Stopwords,PorterStemmer'. Set a termpipelines control to remove this warning.\n",
      "02:20:06.967 [main] WARN org.terrier.querying.ApplyTermPipeline - The index has no termpipelines configuration, and no control configuration is found. Defaulting to global termpipelines configuration of 'Stopwords,PorterStemmer'. Set a termpipelines control to remove this warning.\n",
      "02:20:07.002 [main] WARN org.terrier.querying.ApplyTermPipeline - The index has no termpipelines configuration, and no control configuration is found. Defaulting to global termpipelines configuration of 'Stopwords,PorterStemmer'. Set a termpipelines control to remove this warning.\n",
      "Teenagers with superpowers fighting against evil.\n",
      "02:20:07.087 [main] WARN org.terrier.querying.ApplyTermPipeline - The index has no termpipelines configuration, and no control configuration is found. Defaulting to global termpipelines configuration of 'Stopwords,PorterStemmer'. Set a termpipelines control to remove this warning.\n",
      "02:20:07.115 [main] WARN org.terrier.querying.ApplyTermPipeline - The index has no termpipelines configuration, and no control configuration is found. Defaulting to global termpipelines configuration of 'Stopwords,PorterStemmer'. Set a termpipelines control to remove this warning.\n"
     ]
    },
    {
     "name": "stderr",
     "output_type": "stream",
     "text": [
      "/Users/haoyang/miniconda3/envs/si650/lib/python3.11/site-packages/lightgbm/sklearn.py:682: UserWarning: Found 'eval_at' in params. Will use it instead of 'eval_at' argument\n",
      "  _log_warning(f\"Found '{alias}' in params. Will use it instead of 'eval_at' argument\")\n",
      "/Users/haoyang/miniconda3/envs/si650/lib/python3.11/site-packages/lightgbm/sklearn.py:682: UserWarning: Found 'eval_at' in params. Will use it instead of 'eval_at' argument\n",
      "  _log_warning(f\"Found '{alias}' in params. Will use it instead of 'eval_at' argument\")\n"
     ]
    },
    {
     "name": "stdout",
     "output_type": "stream",
     "text": [
      "02:20:07.191 [main] WARN org.terrier.querying.ApplyTermPipeline - The index has no termpipelines configuration, and no control configuration is found. Defaulting to global termpipelines configuration of 'Stopwords,PorterStemmer'. Set a termpipelines control to remove this warning.\n",
      "02:20:07.229 [main] WARN org.terrier.querying.ApplyTermPipeline - The index has no termpipelines configuration, and no control configuration is found. Defaulting to global termpipelines configuration of 'Stopwords,PorterStemmer'. Set a termpipelines control to remove this warning.\n",
      "Survival game on a remote island.\n",
      "02:20:07.307 [main] WARN org.terrier.querying.ApplyTermPipeline - The index has no termpipelines configuration, and no control configuration is found. Defaulting to global termpipelines configuration of 'Stopwords,PorterStemmer'. Set a termpipelines control to remove this warning.\n"
     ]
    },
    {
     "name": "stderr",
     "output_type": "stream",
     "text": [
      "/Users/haoyang/miniconda3/envs/si650/lib/python3.11/site-packages/lightgbm/sklearn.py:682: UserWarning: Found 'eval_at' in params. Will use it instead of 'eval_at' argument\n",
      "  _log_warning(f\"Found '{alias}' in params. Will use it instead of 'eval_at' argument\")\n",
      "/Users/haoyang/miniconda3/envs/si650/lib/python3.11/site-packages/lightgbm/sklearn.py:682: UserWarning: Found 'eval_at' in params. Will use it instead of 'eval_at' argument\n",
      "  _log_warning(f\"Found '{alias}' in params. Will use it instead of 'eval_at' argument\")\n"
     ]
    },
    {
     "name": "stdout",
     "output_type": "stream",
     "text": [
      "02:20:07.343 [main] WARN org.terrier.querying.ApplyTermPipeline - The index has no termpipelines configuration, and no control configuration is found. Defaulting to global termpipelines configuration of 'Stopwords,PorterStemmer'. Set a termpipelines control to remove this warning.\n",
      "02:20:07.424 [main] WARN org.terrier.querying.ApplyTermPipeline - The index has no termpipelines configuration, and no control configuration is found. Defaulting to global termpipelines configuration of 'Stopwords,PorterStemmer'. Set a termpipelines control to remove this warning.\n",
      "02:20:07.462 [main] WARN org.terrier.querying.ApplyTermPipeline - The index has no termpipelines configuration, and no control configuration is found. Defaulting to global termpipelines configuration of 'Stopwords,PorterStemmer'. Set a termpipelines control to remove this warning.\n",
      "Inspirational sports movies with triumphant endings.\n",
      "02:20:07.556 [main] WARN org.terrier.querying.ApplyTermPipeline - The index has no termpipelines configuration, and no control configuration is found. Defaulting to global termpipelines configuration of 'Stopwords,PorterStemmer'. Set a termpipelines control to remove this warning.\n"
     ]
    },
    {
     "name": "stderr",
     "output_type": "stream",
     "text": [
      "/Users/haoyang/miniconda3/envs/si650/lib/python3.11/site-packages/lightgbm/sklearn.py:682: UserWarning: Found 'eval_at' in params. Will use it instead of 'eval_at' argument\n",
      "  _log_warning(f\"Found '{alias}' in params. Will use it instead of 'eval_at' argument\")\n",
      "/Users/haoyang/miniconda3/envs/si650/lib/python3.11/site-packages/lightgbm/sklearn.py:682: UserWarning: Found 'eval_at' in params. Will use it instead of 'eval_at' argument\n",
      "  _log_warning(f\"Found '{alias}' in params. Will use it instead of 'eval_at' argument\")\n"
     ]
    },
    {
     "name": "stdout",
     "output_type": "stream",
     "text": [
      "02:20:07.584 [main] WARN org.terrier.querying.ApplyTermPipeline - The index has no termpipelines configuration, and no control configuration is found. Defaulting to global termpipelines configuration of 'Stopwords,PorterStemmer'. Set a termpipelines control to remove this warning.\n",
      "02:20:07.660 [main] WARN org.terrier.querying.ApplyTermPipeline - The index has no termpipelines configuration, and no control configuration is found. Defaulting to global termpipelines configuration of 'Stopwords,PorterStemmer'. Set a termpipelines control to remove this warning.\n",
      "02:20:07.692 [main] WARN org.terrier.querying.ApplyTermPipeline - The index has no termpipelines configuration, and no control configuration is found. Defaulting to global termpipelines configuration of 'Stopwords,PorterStemmer'. Set a termpipelines control to remove this warning.\n",
      "Spy with gadgets and luxury cars.\n",
      "02:20:07.756 [main] WARN org.terrier.querying.ApplyTermPipeline - The index has no termpipelines configuration, and no control configuration is found. Defaulting to global termpipelines configuration of 'Stopwords,PorterStemmer'. Set a termpipelines control to remove this warning.\n",
      "02:20:07.780 [main] WARN org.terrier.querying.ApplyTermPipeline - The index has no termpipelines configuration, and no control configuration is found. Defaulting to global termpipelines configuration of 'Stopwords,PorterStemmer'. Set a termpipelines control to remove this warning.\n"
     ]
    },
    {
     "name": "stderr",
     "output_type": "stream",
     "text": [
      "/Users/haoyang/miniconda3/envs/si650/lib/python3.11/site-packages/lightgbm/sklearn.py:682: UserWarning: Found 'eval_at' in params. Will use it instead of 'eval_at' argument\n",
      "  _log_warning(f\"Found '{alias}' in params. Will use it instead of 'eval_at' argument\")\n",
      "/Users/haoyang/miniconda3/envs/si650/lib/python3.11/site-packages/lightgbm/sklearn.py:682: UserWarning: Found 'eval_at' in params. Will use it instead of 'eval_at' argument\n",
      "  _log_warning(f\"Found '{alias}' in params. Will use it instead of 'eval_at' argument\")\n",
      "/Users/haoyang/miniconda3/envs/si650/lib/python3.11/site-packages/lightgbm/sklearn.py:682: UserWarning: Found 'eval_at' in params. Will use it instead of 'eval_at' argument\n",
      "  _log_warning(f\"Found '{alias}' in params. Will use it instead of 'eval_at' argument\")\n"
     ]
    },
    {
     "name": "stdout",
     "output_type": "stream",
     "text": [
      "02:20:07.890 [main] WARN org.terrier.querying.ApplyTermPipeline - The index has no termpipelines configuration, and no control configuration is found. Defaulting to global termpipelines configuration of 'Stopwords,PorterStemmer'. Set a termpipelines control to remove this warning.\n",
      "02:20:07.931 [main] WARN org.terrier.querying.ApplyTermPipeline - The index has no termpipelines configuration, and no control configuration is found. Defaulting to global termpipelines configuration of 'Stopwords,PorterStemmer'. Set a termpipelines control to remove this warning.\n",
      "Fantasy movies with magical worlds.\n",
      "02:20:07.995 [main] WARN org.terrier.querying.ApplyTermPipeline - The index has no termpipelines configuration, and no control configuration is found. Defaulting to global termpipelines configuration of 'Stopwords,PorterStemmer'. Set a termpipelines control to remove this warning.\n",
      "02:20:08.025 [main] WARN org.terrier.querying.ApplyTermPipeline - The index has no termpipelines configuration, and no control configuration is found. Defaulting to global termpipelines configuration of 'Stopwords,PorterStemmer'. Set a termpipelines control to remove this warning.\n",
      "02:20:08.095 [main] WARN org.terrier.querying.ApplyTermPipeline - The index has no termpipelines configuration, and no control configuration is found. Defaulting to global termpipelines configuration of 'Stopwords,PorterStemmer'. Set a termpipelines control to remove this warning.\n",
      "02:20:08.121 [main] WARN org.terrier.querying.ApplyTermPipeline - The index has no termpipelines configuration, and no control configuration is found. Defaulting to global termpipelines configuration of 'Stopwords,PorterStemmer'. Set a termpipelines control to remove this warning.\n"
     ]
    },
    {
     "name": "stderr",
     "output_type": "stream",
     "text": [
      "/Users/haoyang/miniconda3/envs/si650/lib/python3.11/site-packages/lightgbm/sklearn.py:682: UserWarning: Found 'eval_at' in params. Will use it instead of 'eval_at' argument\n",
      "  _log_warning(f\"Found '{alias}' in params. Will use it instead of 'eval_at' argument\")\n",
      "/Users/haoyang/miniconda3/envs/si650/lib/python3.11/site-packages/lightgbm/sklearn.py:682: UserWarning: Found 'eval_at' in params. Will use it instead of 'eval_at' argument\n",
      "  _log_warning(f\"Found '{alias}' in params. Will use it instead of 'eval_at' argument\")\n",
      "/Users/haoyang/miniconda3/envs/si650/lib/python3.11/site-packages/lightgbm/sklearn.py:682: UserWarning: Found 'eval_at' in params. Will use it instead of 'eval_at' argument\n",
      "  _log_warning(f\"Found '{alias}' in params. Will use it instead of 'eval_at' argument\")\n"
     ]
    },
    {
     "name": "stdout",
     "output_type": "stream",
     "text": [
      "Films capturing youthful spirit.\n",
      "02:20:08.197 [main] WARN org.terrier.querying.ApplyTermPipeline - The index has no termpipelines configuration, and no control configuration is found. Defaulting to global termpipelines configuration of 'Stopwords,PorterStemmer'. Set a termpipelines control to remove this warning.\n",
      "02:20:08.223 [main] WARN org.terrier.querying.ApplyTermPipeline - The index has no termpipelines configuration, and no control configuration is found. Defaulting to global termpipelines configuration of 'Stopwords,PorterStemmer'. Set a termpipelines control to remove this warning.\n",
      "02:20:08.306 [main] WARN org.terrier.querying.ApplyTermPipeline - The index has no termpipelines configuration, and no control configuration is found. Defaulting to global termpipelines configuration of 'Stopwords,PorterStemmer'. Set a termpipelines control to remove this warning.\n",
      "02:20:08.332 [main] WARN org.terrier.querying.ApplyTermPipeline - The index has no termpipelines configuration, and no control configuration is found. Defaulting to global termpipelines configuration of 'Stopwords,PorterStemmer'. Set a termpipelines control to remove this warning.\n",
      "Man stranded alone on Mars.\n",
      "02:20:08.393 [main] WARN org.terrier.querying.ApplyTermPipeline - The index has no termpipelines configuration, and no control configuration is found. Defaulting to global termpipelines configuration of 'Stopwords,PorterStemmer'. Set a termpipelines control to remove this warning.\n",
      "02:20:08.418 [main] WARN org.terrier.querying.ApplyTermPipeline - The index has no termpipelines configuration, and no control configuration is found. Defaulting to global termpipelines configuration of 'Stopwords,PorterStemmer'. Set a termpipelines control to remove this warning.\n"
     ]
    },
    {
     "name": "stderr",
     "output_type": "stream",
     "text": [
      "/Users/haoyang/miniconda3/envs/si650/lib/python3.11/site-packages/lightgbm/sklearn.py:682: UserWarning: Found 'eval_at' in params. Will use it instead of 'eval_at' argument\n",
      "  _log_warning(f\"Found '{alias}' in params. Will use it instead of 'eval_at' argument\")\n",
      "/Users/haoyang/miniconda3/envs/si650/lib/python3.11/site-packages/lightgbm/sklearn.py:682: UserWarning: Found 'eval_at' in params. Will use it instead of 'eval_at' argument\n",
      "  _log_warning(f\"Found '{alias}' in params. Will use it instead of 'eval_at' argument\")\n",
      "/Users/haoyang/miniconda3/envs/si650/lib/python3.11/site-packages/lightgbm/sklearn.py:682: UserWarning: Found 'eval_at' in params. Will use it instead of 'eval_at' argument\n",
      "  _log_warning(f\"Found '{alias}' in params. Will use it instead of 'eval_at' argument\")\n"
     ]
    },
    {
     "name": "stdout",
     "output_type": "stream",
     "text": [
      "02:20:08.495 [main] WARN org.terrier.querying.ApplyTermPipeline - The index has no termpipelines configuration, and no control configuration is found. Defaulting to global termpipelines configuration of 'Stopwords,PorterStemmer'. Set a termpipelines control to remove this warning.\n",
      "02:20:08.522 [main] WARN org.terrier.querying.ApplyTermPipeline - The index has no termpipelines configuration, and no control configuration is found. Defaulting to global termpipelines configuration of 'Stopwords,PorterStemmer'. Set a termpipelines control to remove this warning.\n",
      "Legendary archaeologist searching for a sacred artifact\n",
      "02:20:08.607 [main] WARN org.terrier.querying.ApplyTermPipeline - The index has no termpipelines configuration, and no control configuration is found. Defaulting to global termpipelines configuration of 'Stopwords,PorterStemmer'. Set a termpipelines control to remove this warning.\n",
      "02:20:08.638 [main] WARN org.terrier.querying.ApplyTermPipeline - The index has no termpipelines configuration, and no control configuration is found. Defaulting to global termpipelines configuration of 'Stopwords,PorterStemmer'. Set a termpipelines control to remove this warning.\n",
      "02:20:08.706 [main] WARN org.terrier.querying.ApplyTermPipeline - The index has no termpipelines configuration, and no control configuration is found. Defaulting to global termpipelines configuration of 'Stopwords,PorterStemmer'. Set a termpipelines control to remove this warning.\n",
      "02:20:08.742 [main] WARN org.terrier.querying.ApplyTermPipeline - The index has no termpipelines configuration, and no control configuration is found. Defaulting to global termpipelines configuration of 'Stopwords,PorterStemmer'. Set a termpipelines control to remove this warning.\n"
     ]
    },
    {
     "name": "stderr",
     "output_type": "stream",
     "text": [
      "/Users/haoyang/miniconda3/envs/si650/lib/python3.11/site-packages/lightgbm/sklearn.py:682: UserWarning: Found 'eval_at' in params. Will use it instead of 'eval_at' argument\n",
      "  _log_warning(f\"Found '{alias}' in params. Will use it instead of 'eval_at' argument\")\n",
      "/Users/haoyang/miniconda3/envs/si650/lib/python3.11/site-packages/lightgbm/sklearn.py:682: UserWarning: Found 'eval_at' in params. Will use it instead of 'eval_at' argument\n",
      "  _log_warning(f\"Found '{alias}' in params. Will use it instead of 'eval_at' argument\")\n"
     ]
    },
    {
     "name": "stdout",
     "output_type": "stream",
     "text": [
      "A family on a cross-country road trip.\n",
      "02:20:08.828 [main] WARN org.terrier.querying.ApplyTermPipeline - The index has no termpipelines configuration, and no control configuration is found. Defaulting to global termpipelines configuration of 'Stopwords,PorterStemmer'. Set a termpipelines control to remove this warning.\n",
      "02:20:08.866 [main] WARN org.terrier.querying.ApplyTermPipeline - The index has no termpipelines configuration, and no control configuration is found. Defaulting to global termpipelines configuration of 'Stopwords,PorterStemmer'. Set a termpipelines control to remove this warning.\n",
      "02:20:08.939 [main] WARN org.terrier.querying.ApplyTermPipeline - The index has no termpipelines configuration, and no control configuration is found. Defaulting to global termpipelines configuration of 'Stopwords,PorterStemmer'. Set a termpipelines control to remove this warning.\n"
     ]
    },
    {
     "name": "stderr",
     "output_type": "stream",
     "text": [
      "/Users/haoyang/miniconda3/envs/si650/lib/python3.11/site-packages/lightgbm/sklearn.py:682: UserWarning: Found 'eval_at' in params. Will use it instead of 'eval_at' argument\n",
      "  _log_warning(f\"Found '{alias}' in params. Will use it instead of 'eval_at' argument\")\n",
      "/Users/haoyang/miniconda3/envs/si650/lib/python3.11/site-packages/lightgbm/sklearn.py:682: UserWarning: Found 'eval_at' in params. Will use it instead of 'eval_at' argument\n",
      "  _log_warning(f\"Found '{alias}' in params. Will use it instead of 'eval_at' argument\")\n"
     ]
    },
    {
     "name": "stdout",
     "output_type": "stream",
     "text": [
      "02:20:08.980 [main] WARN org.terrier.querying.ApplyTermPipeline - The index has no termpipelines configuration, and no control configuration is found. Defaulting to global termpipelines configuration of 'Stopwords,PorterStemmer'. Set a termpipelines control to remove this warning.\n",
      "Laugh-out-loud comedies with witty humor.\n",
      "02:20:09.091 [main] WARN org.terrier.querying.ApplyTermPipeline - The index has no termpipelines configuration, and no control configuration is found. Defaulting to global termpipelines configuration of 'Stopwords,PorterStemmer'. Set a termpipelines control to remove this warning.\n",
      "02:20:09.119 [main] WARN org.terrier.querying.ApplyTermPipeline - The index has no termpipelines configuration, and no control configuration is found. Defaulting to global termpipelines configuration of 'Stopwords,PorterStemmer'. Set a termpipelines control to remove this warning.\n",
      "02:20:09.206 [main] WARN org.terrier.querying.ApplyTermPipeline - The index has no termpipelines configuration, and no control configuration is found. Defaulting to global termpipelines configuration of 'Stopwords,PorterStemmer'. Set a termpipelines control to remove this warning.\n"
     ]
    },
    {
     "name": "stderr",
     "output_type": "stream",
     "text": [
      "/Users/haoyang/miniconda3/envs/si650/lib/python3.11/site-packages/lightgbm/sklearn.py:682: UserWarning: Found 'eval_at' in params. Will use it instead of 'eval_at' argument\n",
      "  _log_warning(f\"Found '{alias}' in params. Will use it instead of 'eval_at' argument\")\n",
      "/Users/haoyang/miniconda3/envs/si650/lib/python3.11/site-packages/lightgbm/sklearn.py:682: UserWarning: Found 'eval_at' in params. Will use it instead of 'eval_at' argument\n",
      "  _log_warning(f\"Found '{alias}' in params. Will use it instead of 'eval_at' argument\")\n"
     ]
    },
    {
     "name": "stdout",
     "output_type": "stream",
     "text": [
      "02:20:09.239 [main] WARN org.terrier.querying.ApplyTermPipeline - The index has no termpipelines configuration, and no control configuration is found. Defaulting to global termpipelines configuration of 'Stopwords,PorterStemmer'. Set a termpipelines control to remove this warning.\n",
      "Historical epics depicting grand-scale conflicts.\n",
      "02:20:09.333 [main] WARN org.terrier.querying.ApplyTermPipeline - The index has no termpipelines configuration, and no control configuration is found. Defaulting to global termpipelines configuration of 'Stopwords,PorterStemmer'. Set a termpipelines control to remove this warning.\n",
      "02:20:09.358 [main] WARN org.terrier.querying.ApplyTermPipeline - The index has no termpipelines configuration, and no control configuration is found. Defaulting to global termpipelines configuration of 'Stopwords,PorterStemmer'. Set a termpipelines control to remove this warning.\n",
      "02:20:09.448 [main] WARN org.terrier.querying.ApplyTermPipeline - The index has no termpipelines configuration, and no control configuration is found. Defaulting to global termpipelines configuration of 'Stopwords,PorterStemmer'. Set a termpipelines control to remove this warning.\n",
      "02:20:09.474 [main] WARN org.terrier.querying.ApplyTermPipeline - The index has no termpipelines configuration, and no control configuration is found. Defaulting to global termpipelines configuration of 'Stopwords,PorterStemmer'. Set a termpipelines control to remove this warning.\n"
     ]
    },
    {
     "name": "stderr",
     "output_type": "stream",
     "text": [
      "/Users/haoyang/miniconda3/envs/si650/lib/python3.11/site-packages/lightgbm/sklearn.py:682: UserWarning: Found 'eval_at' in params. Will use it instead of 'eval_at' argument\n",
      "  _log_warning(f\"Found '{alias}' in params. Will use it instead of 'eval_at' argument\")\n",
      "/Users/haoyang/miniconda3/envs/si650/lib/python3.11/site-packages/lightgbm/sklearn.py:682: UserWarning: Found 'eval_at' in params. Will use it instead of 'eval_at' argument\n",
      "  _log_warning(f\"Found '{alias}' in params. Will use it instead of 'eval_at' argument\")\n",
      "/Users/haoyang/miniconda3/envs/si650/lib/python3.11/site-packages/lightgbm/sklearn.py:682: UserWarning: Found 'eval_at' in params. Will use it instead of 'eval_at' argument\n",
      "  _log_warning(f\"Found '{alias}' in params. Will use it instead of 'eval_at' argument\")\n"
     ]
    }
   ],
   "source": [
    "data_dfs = []\n",
    "for qid, query in zip(tmp['qid'], tmp['query']):\n",
    "    print(query)\n",
    "    a = (pipeline_5 >> ranker.get_title).search(query)[['docid', 'title']].head(10)\n",
    "    a['rank'] = range(1, 11)\n",
    "    a['query'] = query\n",
    "    a['qid'] = qid\n",
    "    a['model'] = 'bm25-no-stem'\n",
    "    b = (pipeline_6 >> ranker.get_title).search(query)[['docid', 'title']].head(10)\n",
    "    b['rank'] = range(1, 11)\n",
    "    b['model'] = 'lmart-no-stem'\n",
    "    b['query'] = query\n",
    "    b['qid'] = qid\n",
    "    data_dfs.append(a)\n",
    "    data_dfs.append(b)\n",
    "\n",
    "result_df = pd.concat(data_dfs)\n",
    "result_df.to_csv('./data/results_12_2_query.csv', index=False)"
   ]
  },
  {
   "cell_type": "code",
   "execution_count": 46,
   "metadata": {},
   "outputs": [
    {
     "name": "stderr",
     "output_type": "stream",
     "text": [
      "pt.Experiment:  29%|██▊       | 2/7 [00:01<00:04,  1.20system/s]"
     ]
    },
    {
     "name": "stdout",
     "output_type": "stream",
     "text": [
      "02:20:12.550 [main] WARN org.terrier.querying.ApplyTermPipeline - The index has no termpipelines configuration, and no control configuration is found. Defaulting to global termpipelines configuration of 'Stopwords,PorterStemmer'. Set a termpipelines control to remove this warning.\n",
      "02:20:13.161 [main] WARN org.terrier.querying.ApplyTermPipeline - The index has no termpipelines configuration, and no control configuration is found. Defaulting to global termpipelines configuration of 'Stopwords,PorterStemmer'. Set a termpipelines control to remove this warning.\n"
     ]
    },
    {
     "name": "stderr",
     "output_type": "stream",
     "text": [
      "/Users/haoyang/miniconda3/envs/si650/lib/python3.11/site-packages/lightgbm/sklearn.py:682: UserWarning: Found 'eval_at' in params. Will use it instead of 'eval_at' argument\n",
      "  _log_warning(f\"Found '{alias}' in params. Will use it instead of 'eval_at' argument\")\n",
      "pt.Experiment:  43%|████▎     | 3/7 [00:03<00:05,  1.43s/system]"
     ]
    },
    {
     "name": "stdout",
     "output_type": "stream",
     "text": [
      "02:20:14.983 [main] WARN org.terrier.querying.ApplyTermPipeline - The index has no termpipelines configuration, and no control configuration is found. Defaulting to global termpipelines configuration of 'Stopwords,PorterStemmer'. Set a termpipelines control to remove this warning.\n",
      "02:20:15.607 [main] WARN org.terrier.querying.ApplyTermPipeline - The index has no termpipelines configuration, and no control configuration is found. Defaulting to global termpipelines configuration of 'Stopwords,PorterStemmer'. Set a termpipelines control to remove this warning.\n"
     ]
    },
    {
     "name": "stderr",
     "output_type": "stream",
     "text": [
      "/Users/haoyang/miniconda3/envs/si650/lib/python3.11/site-packages/lightgbm/sklearn.py:682: UserWarning: Found 'eval_at' in params. Will use it instead of 'eval_at' argument\n",
      "  _log_warning(f\"Found '{alias}' in params. Will use it instead of 'eval_at' argument\")\n",
      "pt.Experiment:  71%|███████▏  | 5/7 [00:07<00:03,  1.55s/system]"
     ]
    },
    {
     "name": "stdout",
     "output_type": "stream",
     "text": [
      "02:20:17.987 [main] WARN org.terrier.querying.ApplyTermPipeline - The index has no termpipelines configuration, and no control configuration is found. Defaulting to global termpipelines configuration of 'Stopwords,PorterStemmer'. Set a termpipelines control to remove this warning.\n",
      "02:20:18.597 [main] WARN org.terrier.querying.ApplyTermPipeline - The index has no termpipelines configuration, and no control configuration is found. Defaulting to global termpipelines configuration of 'Stopwords,PorterStemmer'. Set a termpipelines control to remove this warning.\n"
     ]
    },
    {
     "name": "stderr",
     "output_type": "stream",
     "text": [
      "/Users/haoyang/miniconda3/envs/si650/lib/python3.11/site-packages/lightgbm/sklearn.py:682: UserWarning: Found 'eval_at' in params. Will use it instead of 'eval_at' argument\n",
      "  _log_warning(f\"Found '{alias}' in params. Will use it instead of 'eval_at' argument\")\n",
      "pt.Experiment:  86%|████████▌ | 6/7 [00:09<00:01,  1.70s/system]"
     ]
    },
    {
     "name": "stdout",
     "output_type": "stream",
     "text": [
      "02:20:20.427 [main] WARN org.terrier.querying.ApplyTermPipeline - The index has no termpipelines configuration, and no control configuration is found. Defaulting to global termpipelines configuration of 'Stopwords,PorterStemmer'. Set a termpipelines control to remove this warning.\n",
      "02:20:21.054 [main] WARN org.terrier.querying.ApplyTermPipeline - The index has no termpipelines configuration, and no control configuration is found. Defaulting to global termpipelines configuration of 'Stopwords,PorterStemmer'. Set a termpipelines control to remove this warning.\n"
     ]
    },
    {
     "name": "stderr",
     "output_type": "stream",
     "text": [
      "/Users/haoyang/miniconda3/envs/si650/lib/python3.11/site-packages/lightgbm/sklearn.py:682: UserWarning: Found 'eval_at' in params. Will use it instead of 'eval_at' argument\n",
      "  _log_warning(f\"Found '{alias}' in params. Will use it instead of 'eval_at' argument\")\n",
      "pt.Experiment: 100%|██████████| 7/7 [00:11<00:00,  1.68s/system]\n"
     ]
    },
    {
     "data": {
      "text/html": [
       "<div>\n",
       "<style scoped>\n",
       "    .dataframe tbody tr th:only-of-type {\n",
       "        vertical-align: middle;\n",
       "    }\n",
       "\n",
       "    .dataframe tbody tr th {\n",
       "        vertical-align: top;\n",
       "    }\n",
       "\n",
       "    .dataframe thead th {\n",
       "        text-align: right;\n",
       "    }\n",
       "</style>\n",
       "<table border=\"1\" class=\"dataframe\">\n",
       "  <thead>\n",
       "    <tr style=\"text-align: right;\">\n",
       "      <th></th>\n",
       "      <th>name</th>\n",
       "      <th>AP(rel=3)@10</th>\n",
       "      <th>nDCG@10</th>\n",
       "      <th>recip_rank</th>\n",
       "    </tr>\n",
       "  </thead>\n",
       "  <tbody>\n",
       "    <tr>\n",
       "      <th>0</th>\n",
       "      <td>BM25</td>\n",
       "      <td>0.134890</td>\n",
       "      <td>0.532511</td>\n",
       "      <td>0.860268</td>\n",
       "    </tr>\n",
       "    <tr>\n",
       "      <th>1</th>\n",
       "      <td>DLM</td>\n",
       "      <td>0.137094</td>\n",
       "      <td>0.539019</td>\n",
       "      <td>0.867021</td>\n",
       "    </tr>\n",
       "    <tr>\n",
       "      <th>2</th>\n",
       "      <td>LMART_L</td>\n",
       "      <td>0.178172</td>\n",
       "      <td>0.611471</td>\n",
       "      <td>0.953901</td>\n",
       "    </tr>\n",
       "    <tr>\n",
       "      <th>3</th>\n",
       "      <td>LMART_L_FE</td>\n",
       "      <td>0.187412</td>\n",
       "      <td>0.641079</td>\n",
       "      <td>0.950355</td>\n",
       "    </tr>\n",
       "    <tr>\n",
       "      <th>4</th>\n",
       "      <td>BM25_DLM</td>\n",
       "      <td>0.159361</td>\n",
       "      <td>0.569438</td>\n",
       "      <td>0.877821</td>\n",
       "    </tr>\n",
       "    <tr>\n",
       "      <th>5</th>\n",
       "      <td>LMART_L_DLM</td>\n",
       "      <td>0.176814</td>\n",
       "      <td>0.607966</td>\n",
       "      <td>0.920213</td>\n",
       "    </tr>\n",
       "    <tr>\n",
       "      <th>6</th>\n",
       "      <td>LMART_L_FE_DLM</td>\n",
       "      <td>0.180432</td>\n",
       "      <td>0.614371</td>\n",
       "      <td>0.909574</td>\n",
       "    </tr>\n",
       "  </tbody>\n",
       "</table>\n",
       "</div>"
      ],
      "text/plain": [
       "             name  AP(rel=3)@10   nDCG@10  recip_rank\n",
       "0            BM25      0.134890  0.532511    0.860268\n",
       "1             DLM      0.137094  0.539019    0.867021\n",
       "2         LMART_L      0.178172  0.611471    0.953901\n",
       "3      LMART_L_FE      0.187412  0.641079    0.950355\n",
       "4        BM25_DLM      0.159361  0.569438    0.877821\n",
       "5     LMART_L_DLM      0.176814  0.607966    0.920213\n",
       "6  LMART_L_FE_DLM      0.180432  0.614371    0.909574"
      ]
     },
     "execution_count": 46,
     "metadata": {},
     "output_type": "execute_result"
    }
   ],
   "source": [
    "result_df = pt.Experiment(\n",
    "    [pipeline_1, pipeline_0, pipeline_2, pipeline_3, pipeline_4, pipeline_5, pipeline_6],\n",
    "    all_topics,\n",
    "    all_qrels,\n",
    "    eval_metrics=[AP(rel=3, cutoff=10), nDCG(cutoff=10), \"recip_rank\"],\n",
    "    names=[\"BM25\", \"DLM\", \"LMART_L\", \"LMART_L_FE\", \"BM25_DLM\", \"LMART_L_DLM\", \"LMART_L_FE_DLM\"],\n",
    "    verbose=True,\n",
    ")\n",
    "result_df"
   ]
  },
  {
   "cell_type": "code",
   "execution_count": 47,
   "metadata": {},
   "outputs": [
    {
     "name": "stderr",
     "output_type": "stream",
     "text": [
      "pt.Experiment:  29%|██▊       | 2/7 [00:01<00:03,  1.50system/s]"
     ]
    },
    {
     "name": "stdout",
     "output_type": "stream",
     "text": [
      "02:20:23.512 [main] WARN org.terrier.querying.ApplyTermPipeline - The index has no termpipelines configuration, and no control configuration is found. Defaulting to global termpipelines configuration of 'Stopwords,PorterStemmer'. Set a termpipelines control to remove this warning.\n",
      "02:20:23.984 [main] WARN org.terrier.querying.ApplyTermPipeline - The index has no termpipelines configuration, and no control configuration is found. Defaulting to global termpipelines configuration of 'Stopwords,PorterStemmer'. Set a termpipelines control to remove this warning.\n"
     ]
    },
    {
     "name": "stderr",
     "output_type": "stream",
     "text": [
      "/Users/haoyang/miniconda3/envs/si650/lib/python3.11/site-packages/lightgbm/sklearn.py:682: UserWarning: Found 'eval_at' in params. Will use it instead of 'eval_at' argument\n",
      "  _log_warning(f\"Found '{alias}' in params. Will use it instead of 'eval_at' argument\")\n",
      "pt.Experiment:  43%|████▎     | 3/7 [00:02<00:04,  1.06s/system]"
     ]
    },
    {
     "name": "stdout",
     "output_type": "stream",
     "text": [
      "02:20:25.307 [main] WARN org.terrier.querying.ApplyTermPipeline - The index has no termpipelines configuration, and no control configuration is found. Defaulting to global termpipelines configuration of 'Stopwords,PorterStemmer'. Set a termpipelines control to remove this warning.\n",
      "02:20:25.810 [main] WARN org.terrier.querying.ApplyTermPipeline - The index has no termpipelines configuration, and no control configuration is found. Defaulting to global termpipelines configuration of 'Stopwords,PorterStemmer'. Set a termpipelines control to remove this warning.\n"
     ]
    },
    {
     "name": "stderr",
     "output_type": "stream",
     "text": [
      "/Users/haoyang/miniconda3/envs/si650/lib/python3.11/site-packages/lightgbm/sklearn.py:682: UserWarning: Found 'eval_at' in params. Will use it instead of 'eval_at' argument\n",
      "  _log_warning(f\"Found '{alias}' in params. Will use it instead of 'eval_at' argument\")\n",
      "pt.Experiment:  71%|███████▏  | 5/7 [00:05<00:02,  1.16s/system]"
     ]
    },
    {
     "name": "stdout",
     "output_type": "stream",
     "text": [
      "02:20:27.678 [main] WARN org.terrier.querying.ApplyTermPipeline - The index has no termpipelines configuration, and no control configuration is found. Defaulting to global termpipelines configuration of 'Stopwords,PorterStemmer'. Set a termpipelines control to remove this warning.\n",
      "02:20:28.151 [main] WARN org.terrier.querying.ApplyTermPipeline - The index has no termpipelines configuration, and no control configuration is found. Defaulting to global termpipelines configuration of 'Stopwords,PorterStemmer'. Set a termpipelines control to remove this warning.\n"
     ]
    },
    {
     "name": "stderr",
     "output_type": "stream",
     "text": [
      "/Users/haoyang/miniconda3/envs/si650/lib/python3.11/site-packages/lightgbm/sklearn.py:682: UserWarning: Found 'eval_at' in params. Will use it instead of 'eval_at' argument\n",
      "  _log_warning(f\"Found '{alias}' in params. Will use it instead of 'eval_at' argument\")\n",
      "pt.Experiment:  86%|████████▌ | 6/7 [00:07<00:01,  1.30s/system]"
     ]
    },
    {
     "name": "stdout",
     "output_type": "stream",
     "text": [
      "02:20:29.580 [main] WARN org.terrier.querying.ApplyTermPipeline - The index has no termpipelines configuration, and no control configuration is found. Defaulting to global termpipelines configuration of 'Stopwords,PorterStemmer'. Set a termpipelines control to remove this warning.\n",
      "02:20:30.063 [main] WARN org.terrier.querying.ApplyTermPipeline - The index has no termpipelines configuration, and no control configuration is found. Defaulting to global termpipelines configuration of 'Stopwords,PorterStemmer'. Set a termpipelines control to remove this warning.\n"
     ]
    },
    {
     "name": "stderr",
     "output_type": "stream",
     "text": [
      "/Users/haoyang/miniconda3/envs/si650/lib/python3.11/site-packages/lightgbm/sklearn.py:682: UserWarning: Found 'eval_at' in params. Will use it instead of 'eval_at' argument\n",
      "  _log_warning(f\"Found '{alias}' in params. Will use it instead of 'eval_at' argument\")\n",
      "pt.Experiment: 100%|██████████| 7/7 [00:08<00:00,  1.28s/system]\n"
     ]
    },
    {
     "data": {
      "text/html": [
       "<div>\n",
       "<style scoped>\n",
       "    .dataframe tbody tr th:only-of-type {\n",
       "        vertical-align: middle;\n",
       "    }\n",
       "\n",
       "    .dataframe tbody tr th {\n",
       "        vertical-align: top;\n",
       "    }\n",
       "\n",
       "    .dataframe thead th {\n",
       "        text-align: right;\n",
       "    }\n",
       "</style>\n",
       "<table border=\"1\" class=\"dataframe\">\n",
       "  <thead>\n",
       "    <tr style=\"text-align: right;\">\n",
       "      <th></th>\n",
       "      <th>name</th>\n",
       "      <th>AP(rel=3)@10</th>\n",
       "      <th>nDCG@10</th>\n",
       "      <th>recip_rank</th>\n",
       "    </tr>\n",
       "  </thead>\n",
       "  <tbody>\n",
       "    <tr>\n",
       "      <th>0</th>\n",
       "      <td>BM25</td>\n",
       "      <td>0.128713</td>\n",
       "      <td>0.533485</td>\n",
       "      <td>0.880610</td>\n",
       "    </tr>\n",
       "    <tr>\n",
       "      <th>1</th>\n",
       "      <td>DLM</td>\n",
       "      <td>0.137799</td>\n",
       "      <td>0.535073</td>\n",
       "      <td>0.831081</td>\n",
       "    </tr>\n",
       "    <tr>\n",
       "      <th>2</th>\n",
       "      <td>LMART_L</td>\n",
       "      <td>0.179278</td>\n",
       "      <td>0.641105</td>\n",
       "      <td>0.972973</td>\n",
       "    </tr>\n",
       "    <tr>\n",
       "      <th>3</th>\n",
       "      <td>LMART_L_FE</td>\n",
       "      <td>0.192607</td>\n",
       "      <td>0.666626</td>\n",
       "      <td>0.972973</td>\n",
       "    </tr>\n",
       "    <tr>\n",
       "      <th>4</th>\n",
       "      <td>BM25_DLM</td>\n",
       "      <td>0.153616</td>\n",
       "      <td>0.571008</td>\n",
       "      <td>0.891892</td>\n",
       "    </tr>\n",
       "    <tr>\n",
       "      <th>5</th>\n",
       "      <td>LMART_L_DLM</td>\n",
       "      <td>0.174934</td>\n",
       "      <td>0.621675</td>\n",
       "      <td>0.918919</td>\n",
       "    </tr>\n",
       "    <tr>\n",
       "      <th>6</th>\n",
       "      <td>LMART_L_FE_DLM</td>\n",
       "      <td>0.175380</td>\n",
       "      <td>0.622109</td>\n",
       "      <td>0.905405</td>\n",
       "    </tr>\n",
       "  </tbody>\n",
       "</table>\n",
       "</div>"
      ],
      "text/plain": [
       "             name  AP(rel=3)@10   nDCG@10  recip_rank\n",
       "0            BM25      0.128713  0.533485    0.880610\n",
       "1             DLM      0.137799  0.535073    0.831081\n",
       "2         LMART_L      0.179278  0.641105    0.972973\n",
       "3      LMART_L_FE      0.192607  0.666626    0.972973\n",
       "4        BM25_DLM      0.153616  0.571008    0.891892\n",
       "5     LMART_L_DLM      0.174934  0.621675    0.918919\n",
       "6  LMART_L_FE_DLM      0.175380  0.622109    0.905405"
      ]
     },
     "execution_count": 47,
     "metadata": {},
     "output_type": "execute_result"
    }
   ],
   "source": [
    "result_df = pt.Experiment(\n",
    "    [pipeline_1, pipeline_0, pipeline_2, pipeline_3, pipeline_4, pipeline_5, pipeline_6],\n",
    "    train_topics,\n",
    "    train_qrels,\n",
    "    eval_metrics=[AP(rel=3, cutoff=10), nDCG(cutoff=10), \"recip_rank\"],\n",
    "    names=[\"BM25\", 'DLM', \"LMART_L\", \"LMART_L_FE\", \"BM25_DLM\", \"LMART_L_DLM\", \"LMART_L_FE_DLM\"],\n",
    "    verbose=True,\n",
    ")\n",
    "result_df"
   ]
  },
  {
   "cell_type": "code",
   "execution_count": 48,
   "metadata": {},
   "outputs": [
    {
     "name": "stderr",
     "output_type": "stream",
     "text": [
      "pt.Experiment:  29%|██▊       | 2/7 [00:00<00:00, 11.18system/s]"
     ]
    },
    {
     "name": "stdout",
     "output_type": "stream",
     "text": [
      "02:20:30.571 [main] WARN org.terrier.querying.ApplyTermPipeline - The index has no termpipelines configuration, and no control configuration is found. Defaulting to global termpipelines configuration of 'Stopwords,PorterStemmer'. Set a termpipelines control to remove this warning.\n",
      "02:20:30.644 [main] WARN org.terrier.querying.ApplyTermPipeline - The index has no termpipelines configuration, and no control configuration is found. Defaulting to global termpipelines configuration of 'Stopwords,PorterStemmer'. Set a termpipelines control to remove this warning.\n"
     ]
    },
    {
     "name": "stderr",
     "output_type": "stream",
     "text": [
      "/Users/haoyang/miniconda3/envs/si650/lib/python3.11/site-packages/lightgbm/sklearn.py:682: UserWarning: Found 'eval_at' in params. Will use it instead of 'eval_at' argument\n",
      "  _log_warning(f\"Found '{alias}' in params. Will use it instead of 'eval_at' argument\")\n"
     ]
    },
    {
     "name": "stdout",
     "output_type": "stream",
     "text": [
      "02:20:30.875 [main] WARN org.terrier.querying.ApplyTermPipeline - The index has no termpipelines configuration, and no control configuration is found. Defaulting to global termpipelines configuration of 'Stopwords,PorterStemmer'. Set a termpipelines control to remove this warning.\n",
      "02:20:30.965 [main] WARN org.terrier.querying.ApplyTermPipeline - The index has no termpipelines configuration, and no control configuration is found. Defaulting to global termpipelines configuration of 'Stopwords,PorterStemmer'. Set a termpipelines control to remove this warning.\n"
     ]
    },
    {
     "name": "stderr",
     "output_type": "stream",
     "text": [
      "/Users/haoyang/miniconda3/envs/si650/lib/python3.11/site-packages/lightgbm/sklearn.py:682: UserWarning: Found 'eval_at' in params. Will use it instead of 'eval_at' argument\n",
      "  _log_warning(f\"Found '{alias}' in params. Will use it instead of 'eval_at' argument\")\n",
      "pt.Experiment:  71%|███████▏  | 5/7 [00:00<00:00,  5.24system/s]"
     ]
    },
    {
     "name": "stdout",
     "output_type": "stream",
     "text": [
      "02:20:31.307 [main] WARN org.terrier.querying.ApplyTermPipeline - The index has no termpipelines configuration, and no control configuration is found. Defaulting to global termpipelines configuration of 'Stopwords,PorterStemmer'. Set a termpipelines control to remove this warning.\n",
      "02:20:31.381 [main] WARN org.terrier.querying.ApplyTermPipeline - The index has no termpipelines configuration, and no control configuration is found. Defaulting to global termpipelines configuration of 'Stopwords,PorterStemmer'. Set a termpipelines control to remove this warning.\n"
     ]
    },
    {
     "name": "stderr",
     "output_type": "stream",
     "text": [
      "/Users/haoyang/miniconda3/envs/si650/lib/python3.11/site-packages/lightgbm/sklearn.py:682: UserWarning: Found 'eval_at' in params. Will use it instead of 'eval_at' argument\n",
      "  _log_warning(f\"Found '{alias}' in params. Will use it instead of 'eval_at' argument\")\n",
      "pt.Experiment:  86%|████████▌ | 6/7 [00:01<00:00,  4.77system/s]"
     ]
    },
    {
     "name": "stdout",
     "output_type": "stream",
     "text": [
      "02:20:31.606 [main] WARN org.terrier.querying.ApplyTermPipeline - The index has no termpipelines configuration, and no control configuration is found. Defaulting to global termpipelines configuration of 'Stopwords,PorterStemmer'. Set a termpipelines control to remove this warning.\n",
      "02:20:31.688 [main] WARN org.terrier.querying.ApplyTermPipeline - The index has no termpipelines configuration, and no control configuration is found. Defaulting to global termpipelines configuration of 'Stopwords,PorterStemmer'. Set a termpipelines control to remove this warning.\n"
     ]
    },
    {
     "name": "stderr",
     "output_type": "stream",
     "text": [
      "/Users/haoyang/miniconda3/envs/si650/lib/python3.11/site-packages/lightgbm/sklearn.py:682: UserWarning: Found 'eval_at' in params. Will use it instead of 'eval_at' argument\n",
      "  _log_warning(f\"Found '{alias}' in params. Will use it instead of 'eval_at' argument\")\n",
      "pt.Experiment: 100%|██████████| 7/7 [00:01<00:00,  4.69system/s]\n"
     ]
    },
    {
     "data": {
      "text/html": [
       "<div>\n",
       "<style scoped>\n",
       "    .dataframe tbody tr th:only-of-type {\n",
       "        vertical-align: middle;\n",
       "    }\n",
       "\n",
       "    .dataframe tbody tr th {\n",
       "        vertical-align: top;\n",
       "    }\n",
       "\n",
       "    .dataframe thead th {\n",
       "        text-align: right;\n",
       "    }\n",
       "</style>\n",
       "<table border=\"1\" class=\"dataframe\">\n",
       "  <thead>\n",
       "    <tr style=\"text-align: right;\">\n",
       "      <th></th>\n",
       "      <th>name</th>\n",
       "      <th>AP(rel=3)@10</th>\n",
       "      <th>nDCG@10</th>\n",
       "      <th>recip_rank</th>\n",
       "    </tr>\n",
       "  </thead>\n",
       "  <tbody>\n",
       "    <tr>\n",
       "      <th>0</th>\n",
       "      <td>BM25</td>\n",
       "      <td>0.119299</td>\n",
       "      <td>0.388086</td>\n",
       "      <td>0.670000</td>\n",
       "    </tr>\n",
       "    <tr>\n",
       "      <th>1</th>\n",
       "      <td>DLM</td>\n",
       "      <td>0.113816</td>\n",
       "      <td>0.475430</td>\n",
       "      <td>1.000000</td>\n",
       "    </tr>\n",
       "    <tr>\n",
       "      <th>2</th>\n",
       "      <td>LMART_L</td>\n",
       "      <td>0.077144</td>\n",
       "      <td>0.327187</td>\n",
       "      <td>0.766667</td>\n",
       "    </tr>\n",
       "    <tr>\n",
       "      <th>3</th>\n",
       "      <td>LMART_L_FE</td>\n",
       "      <td>0.093079</td>\n",
       "      <td>0.364305</td>\n",
       "      <td>0.833333</td>\n",
       "    </tr>\n",
       "    <tr>\n",
       "      <th>4</th>\n",
       "      <td>BM25_DLM</td>\n",
       "      <td>0.106826</td>\n",
       "      <td>0.369702</td>\n",
       "      <td>0.651515</td>\n",
       "    </tr>\n",
       "    <tr>\n",
       "      <th>5</th>\n",
       "      <td>LMART_L_DLM</td>\n",
       "      <td>0.093369</td>\n",
       "      <td>0.357190</td>\n",
       "      <td>0.850000</td>\n",
       "    </tr>\n",
       "    <tr>\n",
       "      <th>6</th>\n",
       "      <td>LMART_L_FE_DLM</td>\n",
       "      <td>0.104126</td>\n",
       "      <td>0.385984</td>\n",
       "      <td>0.850000</td>\n",
       "    </tr>\n",
       "  </tbody>\n",
       "</table>\n",
       "</div>"
      ],
      "text/plain": [
       "             name  AP(rel=3)@10   nDCG@10  recip_rank\n",
       "0            BM25      0.119299  0.388086    0.670000\n",
       "1             DLM      0.113816  0.475430    1.000000\n",
       "2         LMART_L      0.077144  0.327187    0.766667\n",
       "3      LMART_L_FE      0.093079  0.364305    0.833333\n",
       "4        BM25_DLM      0.106826  0.369702    0.651515\n",
       "5     LMART_L_DLM      0.093369  0.357190    0.850000\n",
       "6  LMART_L_FE_DLM      0.104126  0.385984    0.850000"
      ]
     },
     "execution_count": 48,
     "metadata": {},
     "output_type": "execute_result"
    }
   ],
   "source": [
    "result_df = pt.Experiment(\n",
    "    [pipeline_1, pipeline_0, pipeline_2, pipeline_3, pipeline_4, pipeline_5, pipeline_6],\n",
    "    validation_topics,\n",
    "    validation_qrels,\n",
    "    eval_metrics=[AP(rel=3, cutoff=10), nDCG(cutoff=10), \"recip_rank\"],\n",
    "    names=[\"BM25\", \"DLM\", \"LMART_L\", \"LMART_L_FE\", \"BM25_DLM\", \"LMART_L_DLM\", \"LMART_L_FE_DLM\"],\n",
    "    verbose=True,\n",
    ")\n",
    "result_df"
   ]
  },
  {
   "cell_type": "code",
   "execution_count": 49,
   "metadata": {},
   "outputs": [],
   "source": [
    "import pandas as pd\n",
    "result_df = pd.read_csv('./data/results_12_2.csv')"
   ]
  },
  {
   "cell_type": "code",
   "execution_count": 50,
   "metadata": {},
   "outputs": [
    {
     "data": {
      "text/html": [
       "<div>\n",
       "<style scoped>\n",
       "    .dataframe tbody tr th:only-of-type {\n",
       "        vertical-align: middle;\n",
       "    }\n",
       "\n",
       "    .dataframe tbody tr th {\n",
       "        vertical-align: top;\n",
       "    }\n",
       "\n",
       "    .dataframe thead tr th {\n",
       "        text-align: left;\n",
       "    }\n",
       "\n",
       "    .dataframe thead tr:last-of-type th {\n",
       "        text-align: right;\n",
       "    }\n",
       "</style>\n",
       "<table border=\"1\" class=\"dataframe\">\n",
       "  <thead>\n",
       "    <tr>\n",
       "      <th></th>\n",
       "      <th colspan=\"4\" halign=\"left\">nDCG@10</th>\n",
       "    </tr>\n",
       "    <tr>\n",
       "      <th></th>\n",
       "      <th>mean</th>\n",
       "      <th>std</th>\n",
       "      <th>min</th>\n",
       "      <th>max</th>\n",
       "    </tr>\n",
       "    <tr>\n",
       "      <th>name</th>\n",
       "      <th></th>\n",
       "      <th></th>\n",
       "      <th></th>\n",
       "      <th></th>\n",
       "    </tr>\n",
       "  </thead>\n",
       "  <tbody>\n",
       "    <tr>\n",
       "      <th>BM25</th>\n",
       "      <td>0.687578</td>\n",
       "      <td>0.165534</td>\n",
       "      <td>0.426458</td>\n",
       "      <td>0.865282</td>\n",
       "    </tr>\n",
       "    <tr>\n",
       "      <th>BM25_DLM</th>\n",
       "      <td>0.768318</td>\n",
       "      <td>0.128474</td>\n",
       "      <td>0.627092</td>\n",
       "      <td>0.946628</td>\n",
       "    </tr>\n",
       "    <tr>\n",
       "      <th>DLM</th>\n",
       "      <td>0.642845</td>\n",
       "      <td>0.169967</td>\n",
       "      <td>0.403031</td>\n",
       "      <td>0.880384</td>\n",
       "    </tr>\n",
       "    <tr>\n",
       "      <th>LMART_L</th>\n",
       "      <td>0.717344</td>\n",
       "      <td>0.071881</td>\n",
       "      <td>0.604276</td>\n",
       "      <td>0.784266</td>\n",
       "    </tr>\n",
       "    <tr>\n",
       "      <th>LMART_L_DLM</th>\n",
       "      <td>0.788762</td>\n",
       "      <td>0.111756</td>\n",
       "      <td>0.690442</td>\n",
       "      <td>0.974025</td>\n",
       "    </tr>\n",
       "    <tr>\n",
       "      <th>LMART_L_FE</th>\n",
       "      <td>0.732056</td>\n",
       "      <td>0.104790</td>\n",
       "      <td>0.588433</td>\n",
       "      <td>0.870125</td>\n",
       "    </tr>\n",
       "    <tr>\n",
       "      <th>LMART_L_FE_DLM</th>\n",
       "      <td>0.796259</td>\n",
       "      <td>0.115451</td>\n",
       "      <td>0.703695</td>\n",
       "      <td>0.987276</td>\n",
       "    </tr>\n",
       "  </tbody>\n",
       "</table>\n",
       "</div>"
      ],
      "text/plain": [
       "                 nDCG@10                              \n",
       "                    mean       std       min       max\n",
       "name                                                  \n",
       "BM25            0.687578  0.165534  0.426458  0.865282\n",
       "BM25_DLM        0.768318  0.128474  0.627092  0.946628\n",
       "DLM             0.642845  0.169967  0.403031  0.880384\n",
       "LMART_L         0.717344  0.071881  0.604276  0.784266\n",
       "LMART_L_DLM     0.788762  0.111756  0.690442  0.974025\n",
       "LMART_L_FE      0.732056  0.104790  0.588433  0.870125\n",
       "LMART_L_FE_DLM  0.796259  0.115451  0.703695  0.987276"
      ]
     },
     "execution_count": 50,
     "metadata": {},
     "output_type": "execute_result"
    }
   ],
   "source": [
    "result_df[(result_df['measure'] == 'nDCG@10') & (result_df['split'] == 'test')].rename(columns={'value': 'nDCG@10'}).groupby('name').agg({'nDCG@10': ['mean', 'std', 'min', 'max']})"
   ]
  },
  {
   "cell_type": "code",
   "execution_count": 56,
   "metadata": {},
   "outputs": [
    {
     "data": {
      "text/html": [
       "<div>\n",
       "<style scoped>\n",
       "    .dataframe tbody tr th:only-of-type {\n",
       "        vertical-align: middle;\n",
       "    }\n",
       "\n",
       "    .dataframe tbody tr th {\n",
       "        vertical-align: top;\n",
       "    }\n",
       "\n",
       "    .dataframe thead tr th {\n",
       "        text-align: left;\n",
       "    }\n",
       "\n",
       "    .dataframe thead tr:last-of-type th {\n",
       "        text-align: right;\n",
       "    }\n",
       "</style>\n",
       "<table border=\"1\" class=\"dataframe\">\n",
       "  <thead>\n",
       "    <tr>\n",
       "      <th></th>\n",
       "      <th colspan=\"4\" halign=\"left\">mAP@10</th>\n",
       "    </tr>\n",
       "    <tr>\n",
       "      <th></th>\n",
       "      <th>mean</th>\n",
       "      <th>std</th>\n",
       "      <th>min</th>\n",
       "      <th>max</th>\n",
       "    </tr>\n",
       "    <tr>\n",
       "      <th>name</th>\n",
       "      <th></th>\n",
       "      <th></th>\n",
       "      <th></th>\n",
       "      <th></th>\n",
       "    </tr>\n",
       "  </thead>\n",
       "  <tbody>\n",
       "    <tr>\n",
       "      <th>BM25</th>\n",
       "      <td>0.216187</td>\n",
       "      <td>0.190843</td>\n",
       "      <td>0.079048</td>\n",
       "      <td>0.553125</td>\n",
       "    </tr>\n",
       "    <tr>\n",
       "      <th>BM25_DLM</th>\n",
       "      <td>0.264412</td>\n",
       "      <td>0.212037</td>\n",
       "      <td>0.143571</td>\n",
       "      <td>0.641667</td>\n",
       "    </tr>\n",
       "    <tr>\n",
       "      <th>DLM</th>\n",
       "      <td>0.165160</td>\n",
       "      <td>0.102512</td>\n",
       "      <td>0.089286</td>\n",
       "      <td>0.343750</td>\n",
       "    </tr>\n",
       "    <tr>\n",
       "      <th>LMART_L</th>\n",
       "      <td>0.305205</td>\n",
       "      <td>0.252352</td>\n",
       "      <td>0.119048</td>\n",
       "      <td>0.711310</td>\n",
       "    </tr>\n",
       "    <tr>\n",
       "      <th>LMART_L_DLM</th>\n",
       "      <td>0.294477</td>\n",
       "      <td>0.208891</td>\n",
       "      <td>0.094849</td>\n",
       "      <td>0.641667</td>\n",
       "    </tr>\n",
       "    <tr>\n",
       "      <th>LMART_L_FE</th>\n",
       "      <td>0.258819</td>\n",
       "      <td>0.145440</td>\n",
       "      <td>0.125008</td>\n",
       "      <td>0.466369</td>\n",
       "    </tr>\n",
       "    <tr>\n",
       "      <th>LMART_L_FE_DLM</th>\n",
       "      <td>0.304126</td>\n",
       "      <td>0.212790</td>\n",
       "      <td>0.109135</td>\n",
       "      <td>0.641667</td>\n",
       "    </tr>\n",
       "  </tbody>\n",
       "</table>\n",
       "</div>"
      ],
      "text/plain": [
       "                  mAP@10                              \n",
       "                    mean       std       min       max\n",
       "name                                                  \n",
       "BM25            0.216187  0.190843  0.079048  0.553125\n",
       "BM25_DLM        0.264412  0.212037  0.143571  0.641667\n",
       "DLM             0.165160  0.102512  0.089286  0.343750\n",
       "LMART_L         0.305205  0.252352  0.119048  0.711310\n",
       "LMART_L_DLM     0.294477  0.208891  0.094849  0.641667\n",
       "LMART_L_FE      0.258819  0.145440  0.125008  0.466369\n",
       "LMART_L_FE_DLM  0.304126  0.212790  0.109135  0.641667"
      ]
     },
     "execution_count": 56,
     "metadata": {},
     "output_type": "execute_result"
    }
   ],
   "source": [
    "result_df[(result_df['measure'] == 'AP(rel=3)@10') & (result_df['split'] == 'test')].rename(columns={'value': 'mAP@10'}).groupby('name').agg({'mAP@10': ['mean', 'std', 'min', 'max']})"
   ]
  },
  {
   "cell_type": "code",
   "execution_count": 51,
   "metadata": {},
   "outputs": [
    {
     "data": {
      "text/html": [
       "<div>\n",
       "<style scoped>\n",
       "    .dataframe tbody tr th:only-of-type {\n",
       "        vertical-align: middle;\n",
       "    }\n",
       "\n",
       "    .dataframe tbody tr th {\n",
       "        vertical-align: top;\n",
       "    }\n",
       "\n",
       "    .dataframe thead th {\n",
       "        text-align: right;\n",
       "    }\n",
       "</style>\n",
       "<table border=\"1\" class=\"dataframe\">\n",
       "  <thead>\n",
       "    <tr style=\"text-align: right;\">\n",
       "      <th></th>\n",
       "      <th>name</th>\n",
       "      <th>qid</th>\n",
       "      <th>measure</th>\n",
       "      <th>value</th>\n",
       "      <th>split</th>\n",
       "    </tr>\n",
       "  </thead>\n",
       "  <tbody>\n",
       "    <tr>\n",
       "      <th>13</th>\n",
       "      <td>BM25</td>\n",
       "      <td>13</td>\n",
       "      <td>nDCG@10</td>\n",
       "      <td>0.000000</td>\n",
       "      <td>train</td>\n",
       "    </tr>\n",
       "    <tr>\n",
       "      <th>106</th>\n",
       "      <td>BM25</td>\n",
       "      <td>41</td>\n",
       "      <td>nDCG@10</td>\n",
       "      <td>0.000000</td>\n",
       "      <td>train</td>\n",
       "    </tr>\n",
       "    <tr>\n",
       "      <th>7</th>\n",
       "      <td>BM25</td>\n",
       "      <td>11</td>\n",
       "      <td>nDCG@10</td>\n",
       "      <td>0.014595</td>\n",
       "      <td>validation</td>\n",
       "    </tr>\n",
       "    <tr>\n",
       "      <th>73</th>\n",
       "      <td>BM25</td>\n",
       "      <td>31</td>\n",
       "      <td>nDCG@10</td>\n",
       "      <td>0.094685</td>\n",
       "      <td>train</td>\n",
       "    </tr>\n",
       "    <tr>\n",
       "      <th>79</th>\n",
       "      <td>BM25</td>\n",
       "      <td>33</td>\n",
       "      <td>nDCG@10</td>\n",
       "      <td>0.116866</td>\n",
       "      <td>train</td>\n",
       "    </tr>\n",
       "    <tr>\n",
       "      <th>118</th>\n",
       "      <td>BM25</td>\n",
       "      <td>45</td>\n",
       "      <td>nDCG@10</td>\n",
       "      <td>0.133636</td>\n",
       "      <td>train</td>\n",
       "    </tr>\n",
       "    <tr>\n",
       "      <th>40</th>\n",
       "      <td>BM25</td>\n",
       "      <td>21</td>\n",
       "      <td>nDCG@10</td>\n",
       "      <td>0.142720</td>\n",
       "      <td>validation</td>\n",
       "    </tr>\n",
       "    <tr>\n",
       "      <th>82</th>\n",
       "      <td>BM25</td>\n",
       "      <td>34</td>\n",
       "      <td>nDCG@10</td>\n",
       "      <td>0.211891</td>\n",
       "      <td>train</td>\n",
       "    </tr>\n",
       "    <tr>\n",
       "      <th>109</th>\n",
       "      <td>BM25</td>\n",
       "      <td>42</td>\n",
       "      <td>nDCG@10</td>\n",
       "      <td>0.213410</td>\n",
       "      <td>train</td>\n",
       "    </tr>\n",
       "    <tr>\n",
       "      <th>55</th>\n",
       "      <td>BM25</td>\n",
       "      <td>26</td>\n",
       "      <td>nDCG@10</td>\n",
       "      <td>0.278178</td>\n",
       "      <td>train</td>\n",
       "    </tr>\n",
       "  </tbody>\n",
       "</table>\n",
       "</div>"
      ],
      "text/plain": [
       "     name  qid  measure     value       split\n",
       "13   BM25   13  nDCG@10  0.000000       train\n",
       "106  BM25   41  nDCG@10  0.000000       train\n",
       "7    BM25   11  nDCG@10  0.014595  validation\n",
       "73   BM25   31  nDCG@10  0.094685       train\n",
       "79   BM25   33  nDCG@10  0.116866       train\n",
       "118  BM25   45  nDCG@10  0.133636       train\n",
       "40   BM25   21  nDCG@10  0.142720  validation\n",
       "82   BM25   34  nDCG@10  0.211891       train\n",
       "109  BM25   42  nDCG@10  0.213410       train\n",
       "55   BM25   26  nDCG@10  0.278178       train"
      ]
     },
     "execution_count": 51,
     "metadata": {},
     "output_type": "execute_result"
    }
   ],
   "source": [
    "result_df[(result_df['measure'] == 'nDCG@10') & (result_df['name'] == 'BM25')].sort_values(by='value').head(10)    "
   ]
  },
  {
   "cell_type": "code",
   "execution_count": 52,
   "metadata": {},
   "outputs": [
    {
     "data": {
      "image/png": "[encoded data removed]",
      "text/plain": [
       "<Figure size 1000x400 with 1 Axes>"
      ]
     },
     "metadata": {},
     "output_type": "display_data"
    }
   ],
   "source": [
    "import matplotlib.pyplot as plt\n",
    "import matplotlib.patches as patches\n",
    "\n",
    "def draw_pipeline():\n",
    "    # fig, ax = plt.subplots(figsize=(10, 6))\n",
    "    fig, ax = plt.subplots(figsize=(10, 4))\n",
    "\n",
    "    # BM25\n",
    "    bm25 = patches.FancyBboxPatch((0.1, 0.4), 0.2, 0.2, boxstyle=\"round,pad=0.1\", ec=\"black\", fc=\"skyblue\", lw=2)\n",
    "    ax.add_patch(bm25)\n",
    "    ax.text(0.2, 0.5, \"BM25\", ha=\"center\", va=\"center\", fontsize=12, fontweight='bold')\n",
    "    ax.text(0.2, 0.4, \"Top 25\\nExact Matching\", ha=\"center\", va=\"center\", fontsize=10)\n",
    "\n",
    "    # Arrow from BM25 to L2R\n",
    "    ax.annotate(\"\", xy=(0.5, 0.5), xytext=(0.4, 0.5), arrowprops=dict(arrowstyle=\"->\", lw=2))\n",
    "\n",
    "    # L2R with LGBMRanker\n",
    "    l2r = patches.FancyBboxPatch((0.6, 0.4), 0.2, 0.2, boxstyle=\"round,pad=0.1\", ec=\"black\", fc=\"lightgreen\", lw=2)\n",
    "    ax.add_patch(l2r)\n",
    "    ax.text(0.7, 0.5, \"L2R\\nLGBMRanker\", ha=\"center\", va=\"center\", fontsize=12, fontweight='bold')\n",
    "    ax.text(0.7, 0.4, \"Top 15\\nSemantic Matching\", ha=\"center\", va=\"center\", fontsize=10)\n",
    "\n",
    "    # Arrow from L2R to DirichletLM\n",
    "    ax.annotate(\"\", xy=(1, 0.5), xytext=(0.9, 0.5), arrowprops=dict(arrowstyle=\"->\", lw=2))\n",
    "\n",
    "    # DirichletLM\n",
    "    dirichlet_lm = patches.FancyBboxPatch((1.1, 0.4), 0.2, 0.2, boxstyle=\"round,pad=0.1\", ec=\"black\", fc=\"orange\", lw=2)\n",
    "    ax.add_patch(dirichlet_lm)\n",
    "    ax.text(1.2, 0.5, \"DirichletLM\", ha=\"center\", va=\"center\", fontsize=12, fontweight='bold')\n",
    "    ax.text(1.2, 0.4, \"Top 10\\nExact Matching\", ha=\"center\", va=\"center\", fontsize=10)\n",
    "\n",
    "    # Setting up the plot\n",
    "    ax.set_xlim(-0.2, 1.6)\n",
    "    ax.set_ylim(0.2, 0.8)\n",
    "    # ax.set_ylim(0, 1)\n",
    "    ax.axis('off')\n",
    "    plt.title(\"Retrieval Pipeline Structure\", fontsize=16, fontweight='bold')\n",
    "\n",
    "    # plt.show()\n",
    "\n",
    "draw_pipeline()\n",
    "plt.tight_layout()\n",
    "plt.savefig('./data/pipeline.png')"
   ]
  },
  {
   "cell_type": "code",
   "execution_count": null,
   "metadata": {},
   "outputs": [],
   "source": []
  }
 ],
 "metadata": {
  "kernelspec": {
   "display_name": "si650",
   "language": "python",
   "name": "python3"
  },
  "language_info": {
   "codemirror_mode": {
    "name": "ipython",
    "version": 3
   },
   "file_extension": ".py",
   "mimetype": "text/x-python",
   "name": "python",
   "nbconvert_exporter": "python",
   "pygments_lexer": "ipython3",
   "version": "3.11.5"
  }
 },
 "nbformat": 4,
 "nbformat_minor": 2
}
