{
 "cells": [
  {
   "cell_type": "code",
   "execution_count": null,
   "metadata": {},
   "outputs": [],
   "source": [
    "import pandas as pd\n",
    "import numpy as np"
   ]
  },
  {
   "cell_type": "code",
   "execution_count": null,
   "metadata": {},
   "outputs": [],
   "source": [
    "queries = []\n",
    "with open(\"data/queries.txt\") as f:\n",
    "    queries = f.read().splitlines()"
   ]
  },
  {
   "cell_type": "code",
   "execution_count": null,
   "metadata": {},
   "outputs": [],
   "source": [
    "movie_info = pd.read_csv(\"data/movies.csv\")"
   ]
  },
  {
   "cell_type": "code",
   "execution_count": null,
   "metadata": {},
   "outputs": [],
   "source": [
    "def append_info(movie_info, new_movie_name):\n",
    "    cnt = 0\n",
    "    movie_ids = []\n",
    "    original_movie_names = []\n",
    "    movie_descs = []\n",
    "    for movie_name, movie_desc in new_movie_name:\n",
    "        filter_condition = movie_info[\"title\"].apply(lambda x: x.lower().split(\"(\")[0].strip() == movie_name.lower())\n",
    "        # filter_condition = movie_info[\"title\"].apply(lambda x: x.lower().startswith(movie_name.lower()))\n",
    "        movie_id = movie_info.loc[filter_condition]\n",
    "        if len(movie_id) != 0:\n",
    "            movie_id = movie_id.iloc[-1][\"movieId\"]\n",
    "            original_movie_name = movie_info.loc[movie_info[\"movieId\"] == movie_id][\"title\"].values[0]\n",
    "            print(movie_id, movie_name, original_movie_name, movie_desc)\n",
    "            movie_ids.append(movie_id)\n",
    "            original_movie_names.append(original_movie_name)\n",
    "            movie_descs.append(movie_desc)\n",
    "            cnt += 1\n",
    "    print(\"Total: \", cnt)\n",
    "    new_df = pd.DataFrame({\"id\": movie_ids, \"title\": original_movie_names, \"desc\": movie_descs})\n",
    "    return new_df"
   ]
  },
  {
   "cell_type": "markdown",
   "metadata": {},
   "source": [
    "Start with query"
   ]
  },
  {
   "cell_type": "code",
   "execution_count": null,
   "metadata": {},
   "outputs": [],
   "source": [
    "qid = 48\n",
    "query = queries[qid]\n",
    "print(\"Can you give me 20 relevant movies for query: \", query, \"?\")\n",
    "# print(\"Please come up with 20 negative but confusing samples of the query: \", query, \"?\")\n"
   ]
  },
  {
   "cell_type": "markdown",
   "metadata": {},
   "source": [
    "ChatGPT answers"
   ]
  },
  {
   "cell_type": "code",
   "execution_count": null,
   "metadata": {},
   "outputs": [],
   "source": [
    "with open(\"new_movie.txt\") as f:\n",
    "    new_movie = f.read().splitlines()\n",
    "\n",
    "def fetch_movie_name(movie_desc):\n",
    "    return movie_desc.split('.')[1].split(\" (\")[0].strip(), movie_desc.split(\"-\")[1].strip()\n",
    "\n",
    "new_movie_name = list(map(fetch_movie_name, new_movie))\n",
    "new_df = append_info(movie_info, new_movie_name)\n"
   ]
  },
  {
   "cell_type": "code",
   "execution_count": null,
   "metadata": {},
   "outputs": [],
   "source": [
    "new_movie_info = {k: v for k, v in zip(new_df[\"title\"], new_df[\"desc\"])}"
   ]
  },
  {
   "cell_type": "code",
   "execution_count": null,
   "metadata": {},
   "outputs": [],
   "source": [
    "query_file = pd.read_csv(\"data/query{}.csv\".format(qid+1))\n",
    "query_file = pd.concat([new_df, query_file])\n",
    "query_file[\"rel\"] = 1\n",
    "movies = query_file[\"title\"].values"
   ]
  },
  {
   "cell_type": "markdown",
   "metadata": {},
   "source": [
    "Parameters:\n",
    "- qid\n",
    "- mode\n",
    "  - \"a\": output for gpt\n",
    "  - other: input rel"
   ]
  },
  {
   "cell_type": "code",
   "execution_count": null,
   "metadata": {},
   "outputs": [],
   "source": [
    "mode = \"q\""
   ]
  },
  {
   "cell_type": "code",
   "execution_count": null,
   "metadata": {},
   "outputs": [],
   "source": [
    "mode = \"a\""
   ]
  },
  {
   "cell_type": "code",
   "execution_count": null,
   "metadata": {},
   "outputs": [],
   "source": [
    "print(\"Query: \", query)\n",
    "for i, movie in enumerate(movies):\n",
    "    if mode != \"a\":\n",
    "        score = input(\"Movie: {}, {} \".format(movie, new_movie_info.get(movie, \"\")))\n",
    "        # score = new_movie_info.get(movie, \"\")\n",
    "        try:\n",
    "            if score == \"\":\n",
    "                score = 1\n",
    "            else:\n",
    "                score = int(score)\n",
    "            print(\"Movie: \", movie, \"relevance score will be: \", score)\n",
    "        except:\n",
    "            break\n",
    "        query_file.loc[query_file[\"title\"] == movie, \"rel\"] = score\n",
    "    else:\n",
    "        print(f\"{i}. {movie}\")"
   ]
  },
  {
   "cell_type": "code",
   "execution_count": null,
   "metadata": {},
   "outputs": [],
   "source": [
    "query_file.sort_values(by=\"rel\", ascending=False, inplace=True)"
   ]
  },
  {
   "cell_type": "code",
   "execution_count": null,
   "metadata": {},
   "outputs": [],
   "source": [
    "# drop the second duplicate\n",
    "query_file = query_file.drop_duplicates(subset=[\"title\"], keep=\"first\")\n",
    "query_file"
   ]
  },
  {
   "cell_type": "code",
   "execution_count": null,
   "metadata": {},
   "outputs": [],
   "source": [
    "query_file.drop(columns='desc', inplace=True)"
   ]
  },
  {
   "cell_type": "code",
   "execution_count": null,
   "metadata": {},
   "outputs": [],
   "source": [
    "query_file[:60]"
   ]
  },
  {
   "cell_type": "code",
   "execution_count": null,
   "metadata": {},
   "outputs": [],
   "source": [
    "with open(\"annotation/query{}.csv\".format(qid+1), \"w\") as f:\n",
    "    query_file[:60].to_csv(f, index=False)"
   ]
  },
  {
   "cell_type": "code",
   "execution_count": null,
   "metadata": {},
   "outputs": [],
   "source": [
    "qid"
   ]
  },
  {
   "cell_type": "code",
   "execution_count": null,
   "metadata": {},
   "outputs": [],
   "source": [
    "query_file['rel'].value_counts()"
   ]
  },
  {
   "cell_type": "code",
   "execution_count": null,
   "metadata": {},
   "outputs": [],
   "source": [
    "qid = 48\n",
    "print(\"Can you give me 20 relevant movies for query: \", queries[qid], \"?\")\n",
    "a = pd.read_csv(\"annotation/query{}.csv\".format(qid+1))\n",
    "a.drop_duplicates(subset=[\"title\"], keep=\"first\", inplace=True)\n",
    "a.sort_values(by=\"rel\", ascending=False, inplace=True)\n",
    "a.drop(columns='desc', inplace=True)\n",
    "a\n",
    "a.to_csv(\"annotation/query{}.csv\".format(qid+1), index=False)"
   ]
  },
  {
   "cell_type": "code",
   "execution_count": null,
   "metadata": {},
   "outputs": [],
   "source": []
  }
 ],
 "metadata": {
  "kernelspec": {
   "display_name": "si650",
   "language": "python",
   "name": "python3"
  },
  "language_info": {
   "codemirror_mode": {
    "name": "ipython",
    "version": 3
   },
   "file_extension": ".py",
   "mimetype": "text/x-python",
   "name": "python",
   "nbconvert_exporter": "python",
   "pygments_lexer": "ipython3",
   "version": "3.11.5"
  }
 },
 "nbformat": 4,
 "nbformat_minor": 2
}
